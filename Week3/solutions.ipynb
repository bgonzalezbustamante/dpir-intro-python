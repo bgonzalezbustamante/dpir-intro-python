{
 "cells": [
  {
   "cell_type": "markdown",
   "metadata": {},
   "source": [
    "# Week 3 Exercises\n",
    "\n",
    "This week we learned how to do the following tasks:\n",
    "\n",
    "- Write functions.\n",
    "- Apply functions element-wise, cumulatively.\n",
    "- Calculate point and grouped summaries.\n",
    "- Concatenate and Merge Datasets\n"
   ]
  },
  {
   "cell_type": "markdown",
   "metadata": {},
   "source": [
    "## Task 1: Functions\n",
    "\n",
    "### Task 1a: Numeric Functions\n",
    "\n",
    "In this exercise you write functions whose domain are either scalar numbers or numeric vectors.\n",
    "\n",
    "#### Scalar Functions\n",
    "\n",
    "- One Input: Absolute value\n",
    "- Two Inputs: Calculate the difference between the first input and the largest multiple of the second input that is less than the first input. Therefore, if the inputs are (41, 10), the function should calculate 41 - 4\\*10 = 1.\n",
    "- Challenge: Write a function that returns the factors of the input. For example, 132 = 2\\*2\\*3\\*11, so $f(132) = \\{2, 2, 3, 11\\}$\n",
    "\n",
    "#### Vector Functions\n",
    "\n",
    "- One Input: Write a summary statistics function. Given a vector, this function should return the following statistics in a `pd.Series` object with corresponding index labels: number of elements, sum, mean, median, variance, standard deviation, and any other statistics that you think are helpful.\n",
    "- Two Inputs: Write a function that given two equal-length inputs, determines whether each element in the first is divisible by the second. The output should be a vector of equal length to the inputs, indicating with True/False values whether the arguments of the first vector were divisible by the corresponding element in the second. CHALLENGE: Allow the function to take either a scalar or vector input as its second argument.\n",
    "\n",
    "### Task 1b: String Functions\n",
    "\n",
    "#### Scalar Functions\n",
    "\n",
    "- One Input: Write a function that divides a string into a list of words. Note: the `str.split()` function is useful here.\n",
    "- Two Inputs: Write a function that calculates the number of times the second argument occurs in the first. e.g. \"How many times does the letter e occur in this sentence?\"\n",
    "\n",
    "#### Vector Function\n",
    "\n",
    "- One Input: Write a function that, given a vector/list/series of strings, returns a series where the index is are the unique words in the input, and the values are the number of times that unique word occurs in the entire input. Therefore, if I took a list containing all of the State of the Union Address, I want a function that tells me a) what the unique words in the collection of all Addresses is, and b) how many times those words occur in the total collection.\n"
   ]
  },
  {
   "cell_type": "code",
   "execution_count": null,
   "metadata": {},
   "outputs": [],
   "source": [
    "def absolute_value(x):\n",
    "    if x < 0:\n",
    "        x = x*-1\n",
    "    return x\n",
    "\n",
    "def largest_mult_diff(x, y):\n",
    "    # Very lazy solution, but doesn't reinvent the wheel\n",
    "    return divmod(x, y)[1]\n",
    "\n",
    "def factorize(x):\n",
    "    remainder = x\n",
    "    divide =  2\n",
    "    factors = []\n",
    "    while remainder > 1:\n",
    "        while (remainder % divide) == 0:\n",
    "            factors.append(divide)\n",
    "            remainder = remainder//divide\n",
    "        divide += 1\n",
    "    return factors"
   ]
  },
  {
   "cell_type": "code",
   "execution_count": null,
   "metadata": {},
   "outputs": [],
   "source": [
    "import pandas as pd\n",
    "\n",
    "def series_summary(x):\n",
    "    if not isinstance(x, pd.Series):\n",
    "        x = pd.Series(x)\n",
    "    index = ['n', 'mean', 'median', 'variance', 'std']\n",
    "    data = [len(x),\n",
    "            x.mean(),\n",
    "            x.median(),\n",
    "            x.var(),\n",
    "            x.std()\n",
    "           ]\n",
    "    return pd.Series(data, index=index)\n",
    "\n",
    "def check_divisible(x, y):\n",
    "    return x%y==0"
   ]
  },
  {
   "cell_type": "code",
   "execution_count": null,
   "metadata": {},
   "outputs": [],
   "source": [
    "import re\n",
    "\n",
    "# There is a way to do this without re, but the regex solution is the most efficient and generalisable (can deal with weird characters)\n",
    "def split_into_words(x, delim=\" \"):\n",
    "    x = re.sub(r'[^A-z ]+', '', x) # This pattern deletes everything but letters and spaces\n",
    "    x = x.split(delim)\n",
    "    return x\n",
    "\n",
    "def count_occurrences(e, x):\n",
    "    count = len(x.split(e)-1)\n",
    "    return count"
   ]
  },
  {
   "cell_type": "code",
   "execution_count": null,
   "metadata": {},
   "outputs": [],
   "source": [
    "from collections import Counter\n",
    "\n",
    "def text_col_to_dfm(text_series):\n",
    "    text_series = text_series.str.lower().str.replace(r\"[^A-z ]\", '')\n",
    "    index = text_series.index.values\n",
    "    tokens = list(set(text_series.str.split(\" \").sum()))\n",
    "    data = []\n",
    "    for i in index:\n",
    "        row = []\n",
    "        l = Counter(text_series.values[i].split(\" \"))\n",
    "        for token in tokens:\n",
    "            row.append(l.get(token, 0))\n",
    "        data.append(row)\n",
    "    df = pd.DataFrame(index=index, columns=tokens, data=data)\n",
    "    return df"
   ]
  },
  {
   "cell_type": "markdown",
   "metadata": {},
   "source": [
    "## Task 2: Apply\n",
    "\n",
    "### Task 2a: Element-Wise Operations\n",
    "\n",
    "1. Using the `Age` variable from the BES dataset, calculate the age of each respondent rounded down to the nearest multiple of 5. Try writing this both using a defined function and with a `lambda` function.\n",
    "2. Recode the column `y09` as 0 and 1.\n",
    "3. Write a function that gets the lower bound from the income bounds reported in column `y01`, and returns it as an integer.\n",
    "\n",
    "\n",
    "### Task 2b: Grouped Functions\n",
    "\n",
    "1. Calculate the summary statistics on `Age` for each region, and each region/constituency.\n",
    "2. Calculate the median income bracket (`y01`) per region and region/constituency.\n",
    "3. Calculate the most commonly given answer to `a02` per region and region/income bracket.\n",
    "4. Calculate the most commonly given answer to `a02` and `y06` per region."
   ]
  },
  {
   "cell_type": "code",
   "execution_count": null,
   "metadata": {},
   "outputs": [],
   "source": [
    "df = pd.read_feather(\"../Week2/data/bes_data_subset_week2.feather\")"
   ]
  },
  {
   "cell_type": "code",
   "execution_count": null,
   "metadata": {},
   "outputs": [],
   "source": [
    "df['Age'].apply(lambda x: x//5*5)\n",
    "\n",
    "def myround(x, base=5):\n",
    "    return x//base*base\n",
    "\n",
    "df['Age'].apply(myround)"
   ]
  },
  {
   "cell_type": "code",
   "execution_count": null,
   "metadata": {},
   "outputs": [],
   "source": [
    "df['y09'].apply(lambda x: int(x=='Female'))"
   ]
  },
  {
   "cell_type": "code",
   "execution_count": null,
   "metadata": {},
   "outputs": [],
   "source": [
    "df['y01'].unique().tolist()"
   ]
  },
  {
   "cell_type": "code",
   "execution_count": null,
   "metadata": {},
   "outputs": [],
   "source": [
    "def get_lower_income_bound(x):\n",
    "    if x == 'Under GBP 2,600':\n",
    "        return 0\n",
    "    elif x == 'GBP 100,000 or more':\n",
    "        return 100000\n",
    "    elif x in ['Don`t know', 'Refused']:\n",
    "        return pd.np.nan\n",
    "    else:\n",
    "        return int(x.split(\" - \")[0].split(\"GBP \")[1].replace(\",\", \"\"))\n",
    "\n",
    "df['y01'].apply(get_lower_income_bound)"
   ]
  },
  {
   "cell_type": "code",
   "execution_count": null,
   "metadata": {},
   "outputs": [],
   "source": [
    "df.groupby(['region'])['Age'].describe()"
   ]
  },
  {
   "cell_type": "code",
   "execution_count": null,
   "metadata": {},
   "outputs": [],
   "source": [
    "df.groupby(['region', 'Constit_Code'])['Age'].describe()"
   ]
  },
  {
   "cell_type": "code",
   "execution_count": null,
   "metadata": {},
   "outputs": [],
   "source": [
    "df['lower_income_bound'] = df['y01'].apply(get_lower_income_bound)\n",
    "df.groupby(['region'])['lower_income_bound'].median()\n",
    "df.groupby(['region', 'Constit_Code'])['lower_income_bound'].median()"
   ]
  },
  {
   "cell_type": "code",
   "execution_count": null,
   "metadata": {},
   "outputs": [],
   "source": [
    "df.groupby(['region'])['a02'].apply(lambda x: pd.Series.mode(x)[0])\n",
    "df.groupby(['region', 'Constit_Code'])['a02'].apply(lambda x: pd.Series.mode(x)[0])"
   ]
  }
 ],
 "metadata": {
  "kernelspec": {
   "display_name": "teaching",
   "language": "python",
   "name": "teaching"
  },
  "language_info": {
   "codemirror_mode": {
    "name": "ipython",
    "version": 3
   },
   "file_extension": ".py",
   "mimetype": "text/x-python",
   "name": "python",
   "nbconvert_exporter": "python",
   "pygments_lexer": "ipython3",
   "version": "3.7.6"
  }
 },
 "nbformat": 4,
 "nbformat_minor": 4
}
