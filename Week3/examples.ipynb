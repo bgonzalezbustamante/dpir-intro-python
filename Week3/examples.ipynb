{
 "cells": [
  {
   "cell_type": "markdown",
   "metadata": {
    "slideshow": {
     "slide_type": "subslide"
    }
   },
   "source": [
    "# Functions"
   ]
  },
  {
   "cell_type": "markdown",
   "metadata": {
    "slideshow": {
     "slide_type": "subslide"
    }
   },
   "source": [
    "## Defining Functions in Python\n",
    "\n",
    "Defining functions in python is very simple:"
   ]
  },
  {
   "cell_type": "code",
   "execution_count": 2,
   "metadata": {
    "collapsed": true,
    "jupyter": {
     "outputs_hidden": true
    }
   },
   "outputs": [],
   "source": [
    "def my_first_function(input):\n",
    "    output = 2*input\n",
    "    return output"
   ]
  },
  {
   "cell_type": "markdown",
   "metadata": {},
   "source": [
    "To use the function, simply run it elsewhere once it has been defined:"
   ]
  },
  {
   "cell_type": "code",
   "execution_count": 3,
   "metadata": {
    "collapsed": true,
    "jupyter": {
     "outputs_hidden": true
    }
   },
   "outputs": [
    {
     "data": {
      "text/plain": [
       "10"
      ]
     },
     "execution_count": 3,
     "metadata": {},
     "output_type": "execute_result"
    }
   ],
   "source": [
    "my_first_function(5)"
   ]
  },
  {
   "cell_type": "markdown",
   "metadata": {},
   "source": [
    "Note the indentation when writing functions. To end the function, leave a blank line and remove the indent."
   ]
  },
  {
   "cell_type": "code",
   "execution_count": 5,
   "metadata": {
    "collapsed": true,
    "jupyter": {
     "outputs_hidden": true
    }
   },
   "outputs": [
    {
     "data": {
      "text/plain": [
       "6"
      ]
     },
     "execution_count": 5,
     "metadata": {},
     "output_type": "execute_result"
    }
   ],
   "source": [
    "def my_second_function(x):\n",
    "    y = int(x/2)\n",
    "    return y\n",
    "\n",
    "my_second_function(12)"
   ]
  },
  {
   "cell_type": "markdown",
   "metadata": {},
   "source": [
    "### _Docstrings_\n",
    "\n",
    "We can write documentation for our functions, called a _docstring_, by adding writing a string in the line following the `def` call:"
   ]
  },
  {
   "cell_type": "code",
   "execution_count": 7,
   "metadata": {
    "collapsed": true,
    "jupyter": {
     "outputs_hidden": true
    }
   },
   "outputs": [
    {
     "data": {
      "text/plain": [
       "'stac41234'"
      ]
     },
     "execution_count": 7,
     "metadata": {},
     "output_type": "execute_result"
    }
   ],
   "source": [
    "def my_documented_function(input1, input2):\n",
    "    \"\"\"\n",
    "    This function converts inputs to string, concatenates the input, then reverses the order.\n",
    "    \"\"\"\n",
    "    in1 = str(input1)\n",
    "    in2 = str(input2)\n",
    "    combi = in1+in2\n",
    "    rev = combi[::-1]\n",
    "    output = rev\n",
    "    return output\n",
    "\n",
    "my_documented_function(43214, 'cats')"
   ]
  },
  {
   "cell_type": "code",
   "execution_count": 19,
   "metadata": {
    "collapsed": true,
    "jupyter": {
     "outputs_hidden": true
    }
   },
   "outputs": [
    {
     "data": {
      "text/plain": [
       "\u001b[0;31mSignature:\u001b[0m \u001b[0mmy_documented_function\u001b[0m\u001b[0;34m(\u001b[0m\u001b[0minput1\u001b[0m\u001b[0;34m,\u001b[0m \u001b[0minput2\u001b[0m\u001b[0;34m)\u001b[0m\u001b[0;34m\u001b[0m\u001b[0;34m\u001b[0m\u001b[0m\n",
       "\u001b[0;31mDocstring:\u001b[0m This function converts inputs to string, concatenates the input, then reverses the order.\n",
       "\u001b[0;31mFile:\u001b[0m      ~/Documents/Teaching/dpir-intro-python/Week3/<ipython-input-7-f32523afe821>\n",
       "\u001b[0;31mType:\u001b[0m      function\n"
      ]
     },
     "metadata": {},
     "output_type": "display_data"
    }
   ],
   "source": [
    "my_documented_function?"
   ]
  },
  {
   "cell_type": "markdown",
   "metadata": {},
   "source": [
    "### _Default Values_\n",
    "\n",
    "- We can give arguments default values when defining a function.\n",
    "- Arguments taking default values become optional arguments; we do not have to pass a value each time we call the function.\n"
   ]
  },
  {
   "cell_type": "code",
   "execution_count": 17,
   "metadata": {
    "collapsed": true,
    "jupyter": {
     "outputs_hidden": true
    }
   },
   "outputs": [
    {
     "name": "stdout",
     "output_type": "stream",
     "text": [
      "1. I love dogs.\n",
      "2. I love \n",
      "3._I_love_dogs.\n",
      "4. I love bogs.\n",
      "5. I love cats.\n"
     ]
    }
   ],
   "source": [
    "def function_with_defaults(x, replace=\" \", val=\" \"):\n",
    "    \"Casts input to string, replaces `replace` with `val`, prints result. Retuns None\"\n",
    "    y = str(x)\n",
    "    y = y.replace(replace, val)\n",
    "    print(y)\n",
    "\n",
    "function_with_defaults(\"1. I love dogs.\")\n",
    "function_with_defaults(\"2. I love dogs.\", \" dogs.\")\n",
    "function_with_defaults(\"3. I love dogs.\", val=\"_\")\n",
    "function_with_defaults(\"4. I love dogs.\", \"d\", \"b\")\n",
    "function_with_defaults(\"5. I love dogs.\", \"dog\", \"cat\")"
   ]
  },
  {
   "cell_type": "markdown",
   "metadata": {},
   "source": [
    "### Namespaces\n",
    "\n",
    "Recall the difference between local and global namespace.\n",
    "\n",
    "- Variables named within functions are not accessible outside the function.\n",
    "- When a variable is called within a function, the program first checks if it is defined locally, then checks if it is defined globally."
   ]
  },
  {
   "cell_type": "code",
   "execution_count": 40,
   "metadata": {
    "collapsed": true,
    "jupyter": {
     "outputs_hidden": true
    }
   },
   "outputs": [
    {
     "ename": "NameError",
     "evalue": "name 'some_local_variable' is not defined",
     "output_type": "error",
     "traceback": [
      "\u001b[0;31m---------------------------------------\u001b[0m",
      "\u001b[0;31mNameError\u001b[0mTraceback (most recent call last)",
      "\u001b[0;32m<ipython-input-40-0895eacfcc57>\u001b[0m in \u001b[0;36m<module>\u001b[0;34m\u001b[0m\n\u001b[1;32m      2\u001b[0m     \u001b[0msome_local_variable\u001b[0m \u001b[0;34m=\u001b[0m \u001b[0;36m12\u001b[0m\u001b[0;34m\u001b[0m\u001b[0;34m\u001b[0m\u001b[0m\n\u001b[1;32m      3\u001b[0m \u001b[0;34m\u001b[0m\u001b[0m\n\u001b[0;32m----> 4\u001b[0;31m \u001b[0mprint\u001b[0m\u001b[0;34m(\u001b[0m\u001b[0msome_local_variable\u001b[0m\u001b[0;34m)\u001b[0m\u001b[0;34m\u001b[0m\u001b[0;34m\u001b[0m\u001b[0m\n\u001b[0m",
      "\u001b[0;31mNameError\u001b[0m: name 'some_local_variable' is not defined"
     ]
    }
   ],
   "source": [
    "def function_with_local():\n",
    "    some_local_variable = 12\n",
    "    \n",
    "print(some_local_variable)"
   ]
  },
  {
   "cell_type": "code",
   "execution_count": 48,
   "metadata": {
    "collapsed": true,
    "jupyter": {
     "outputs_hidden": true
    }
   },
   "outputs": [
    {
     "name": "stdout",
     "output_type": "stream",
     "text": [
      "Global A\n",
      "Local A\n",
      "Argument A\n"
     ]
    }
   ],
   "source": [
    "a = \"Global A\"\n",
    "\n",
    "def function1():\n",
    "    print(a)\n",
    "    \n",
    "def function2():\n",
    "    a = \"Local A\"\n",
    "    print(a)\n",
    "    \n",
    "def function3(a):\n",
    "    print(a)\n",
    "\n",
    "function1()\n",
    "function2()\n",
    "function3(\"Argument A\")"
   ]
  },
  {
   "cell_type": "markdown",
   "metadata": {},
   "source": [
    "### Namespaces Take Away\n",
    "\n",
    "When defining variables within the global environment, use _unique, specific and informative names_. When working within functions, give generic names that inform what the argument or variable is doing."
   ]
  },
  {
   "cell_type": "markdown",
   "metadata": {},
   "source": [
    "# Applying Functions to Vectors\n",
    "\n",
    "We go over a variety of ways in which you may apply a function to a `pandas.Series` or `pandas.DataFrame`.\n",
    "\n",
    "- Transformations:\n",
    "    - Element-wise Operations\n",
    "    - Cumulative Operations\n",
    "- Summaries:\n",
    "    - Point Summaries\n",
    "    - Grouped Summaries"
   ]
  },
  {
   "cell_type": "markdown",
   "metadata": {},
   "source": [
    "## Element-wise Operations on a Series\n",
    "\n",
    "We can use the `pd.Series.apply()` method to apply a function element-wise to a pandas Series."
   ]
  },
  {
   "cell_type": "code",
   "execution_count": 69,
   "metadata": {
    "collapsed": true,
    "jupyter": {
     "outputs_hidden": true
    }
   },
   "outputs": [],
   "source": [
    "import pandas as pd"
   ]
  },
  {
   "cell_type": "code",
   "execution_count": 79,
   "metadata": {
    "collapsed": true,
    "jupyter": {
     "outputs_hidden": true
    }
   },
   "outputs": [],
   "source": [
    "ser = pd.Series(range(0, 31, 2)) # range(start, stop, step)"
   ]
  },
  {
   "cell_type": "code",
   "execution_count": 80,
   "metadata": {
    "collapsed": true,
    "jupyter": {
     "outputs_hidden": true
    }
   },
   "outputs": [
    {
     "data": {
      "text/plain": [
       "0      0\n",
       "1      2\n",
       "2      4\n",
       "3      6\n",
       "4      8\n",
       "5     10\n",
       "6     12\n",
       "7     14\n",
       "8     16\n",
       "9     18\n",
       "10    20\n",
       "11    22\n",
       "12    24\n",
       "13    26\n",
       "14    28\n",
       "15    30\n",
       "dtype: int64"
      ]
     },
     "execution_count": 80,
     "metadata": {},
     "output_type": "execute_result"
    }
   ],
   "source": [
    "ser"
   ]
  },
  {
   "cell_type": "code",
   "execution_count": 81,
   "metadata": {
    "collapsed": true,
    "jupyter": {
     "outputs_hidden": true
    }
   },
   "outputs": [
    {
     "data": {
      "text/plain": [
       "0       0\n",
       "1       4\n",
       "2      16\n",
       "3      36\n",
       "4      64\n",
       "5     100\n",
       "6     144\n",
       "7     196\n",
       "8     256\n",
       "9     324\n",
       "10    400\n",
       "11    484\n",
       "12    576\n",
       "13    676\n",
       "14    784\n",
       "15    900\n",
       "dtype: int64"
      ]
     },
     "execution_count": 81,
     "metadata": {},
     "output_type": "execute_result"
    }
   ],
   "source": [
    "def square(x):\n",
    "    y = x**2\n",
    "    return y\n",
    "\n",
    "ser.apply(square)"
   ]
  },
  {
   "cell_type": "code",
   "execution_count": 82,
   "metadata": {
    "collapsed": true,
    "jupyter": {
     "outputs_hidden": true
    }
   },
   "outputs": [
    {
     "data": {
      "text/plain": [
       "0         0\n",
       "1         8\n",
       "2        64\n",
       "3       216\n",
       "4       512\n",
       "5      1000\n",
       "6      1728\n",
       "7      2744\n",
       "8      4096\n",
       "9      5832\n",
       "10     8000\n",
       "11    10648\n",
       "12    13824\n",
       "13    17576\n",
       "14    21952\n",
       "15    27000\n",
       "dtype: int64"
      ]
     },
     "execution_count": 82,
     "metadata": {},
     "output_type": "execute_result"
    }
   ],
   "source": [
    "def exponentiate(x, e):\n",
    "    y = x**e\n",
    "    return y\n",
    "\n",
    "ser.apply(lambda x: exponentiate(x, 3))"
   ]
  },
  {
   "cell_type": "code",
   "execution_count": 83,
   "metadata": {
    "collapsed": true,
    "jupyter": {
     "outputs_hidden": true
    }
   },
   "outputs": [
    {
     "data": {
      "text/plain": [
       "0         0\n",
       "1         8\n",
       "2        64\n",
       "3       216\n",
       "4       512\n",
       "5      1000\n",
       "6      1728\n",
       "7      2744\n",
       "8      4096\n",
       "9      5832\n",
       "10     8000\n",
       "11    10648\n",
       "12    13824\n",
       "13    17576\n",
       "14    21952\n",
       "15    27000\n",
       "dtype: int64"
      ]
     },
     "execution_count": 83,
     "metadata": {},
     "output_type": "execute_result"
    }
   ],
   "source": [
    "ser.apply(lambda x: x**3)"
   ]
  },
  {
   "cell_type": "code",
   "execution_count": 84,
   "metadata": {
    "collapsed": true,
    "jupyter": {
     "outputs_hidden": true
    }
   },
   "outputs": [
    {
     "data": {
      "text/plain": [
       "0     0.000000\n",
       "1     1.414214\n",
       "2     2.000000\n",
       "3     2.449490\n",
       "4     2.828427\n",
       "5     3.162278\n",
       "6     3.464102\n",
       "7     3.741657\n",
       "8     4.000000\n",
       "9     4.242641\n",
       "10    4.472136\n",
       "11    4.690416\n",
       "12    4.898979\n",
       "13    5.099020\n",
       "14    5.291503\n",
       "15    5.477226\n",
       "dtype: float64"
      ]
     },
     "execution_count": 84,
     "metadata": {},
     "output_type": "execute_result"
    }
   ],
   "source": [
    "e = 1/2\n",
    "ser.apply(lambda x: x**e)"
   ]
  },
  {
   "cell_type": "markdown",
   "metadata": {},
   "source": [
    "## Cumulative Operations on a Series\n",
    "\n",
    "In order to use cumulative operations, we can either use a `cum` function, or the `pd.Series.expanding` method."
   ]
  },
  {
   "cell_type": "code",
   "execution_count": 89,
   "metadata": {},
   "outputs": [
    {
     "data": {
      "text/plain": [
       "0       0\n",
       "1       2\n",
       "2       6\n",
       "3      12\n",
       "4      20\n",
       "5      30\n",
       "6      42\n",
       "7      56\n",
       "8      72\n",
       "9      90\n",
       "10    110\n",
       "11    132\n",
       "12    156\n",
       "13    182\n",
       "14    210\n",
       "15    240\n",
       "dtype: int64"
      ]
     },
     "execution_count": 89,
     "metadata": {},
     "output_type": "execute_result"
    }
   ],
   "source": [
    "ser.cumsum()"
   ]
  },
  {
   "cell_type": "code",
   "execution_count": 87,
   "metadata": {},
   "outputs": [
    {
     "data": {
      "text/plain": [
       "Expanding [min_periods=1,center=False,axis=0]"
      ]
     },
     "execution_count": 87,
     "metadata": {},
     "output_type": "execute_result"
    }
   ],
   "source": [
    "ser.expanding()"
   ]
  },
  {
   "cell_type": "code",
   "execution_count": 88,
   "metadata": {},
   "outputs": [
    {
     "data": {
      "text/plain": [
       "0       0.0\n",
       "1       2.0\n",
       "2       6.0\n",
       "3      12.0\n",
       "4      20.0\n",
       "5      30.0\n",
       "6      42.0\n",
       "7      56.0\n",
       "8      72.0\n",
       "9      90.0\n",
       "10    110.0\n",
       "11    132.0\n",
       "12    156.0\n",
       "13    182.0\n",
       "14    210.0\n",
       "15    240.0\n",
       "dtype: float64"
      ]
     },
     "execution_count": 88,
     "metadata": {},
     "output_type": "execute_result"
    }
   ],
   "source": [
    "ser.expanding().sum()"
   ]
  },
  {
   "cell_type": "code",
   "execution_count": 92,
   "metadata": {},
   "outputs": [
    {
     "data": {
      "text/plain": [
       "0       NaN\n",
       "1       2.0\n",
       "2       6.0\n",
       "3      12.0\n",
       "4      20.0\n",
       "5      30.0\n",
       "6      42.0\n",
       "7      56.0\n",
       "8      72.0\n",
       "9      90.0\n",
       "10    110.0\n",
       "11    132.0\n",
       "12    156.0\n",
       "13    182.0\n",
       "14    210.0\n",
       "15    240.0\n",
       "dtype: float64"
      ]
     },
     "execution_count": 92,
     "metadata": {},
     "output_type": "execute_result"
    }
   ],
   "source": [
    "ser.expanding(2).sum() # We can set the minimum period within the expand function."
   ]
  },
  {
   "cell_type": "markdown",
   "metadata": {},
   "source": [
    "We can also use apply with a DataFrame. In this case, each row (axis=0) or column (axis=1) is treated as an element."
   ]
  },
  {
   "cell_type": "code",
   "execution_count": 222,
   "metadata": {},
   "outputs": [
    {
     "data": {
      "text/plain": [
       "array([ 29, -59, -57, -45,  23, -53,  11,  79,   2,  96,  78, -53,  52,\n",
       "       -91, -44, -52, -53,  72,  19,  54, -78,  48,  73, -15, -58, -83,\n",
       "       -83, -90,  61,  36])"
      ]
     },
     "execution_count": 222,
     "metadata": {},
     "output_type": "execute_result"
    }
   ],
   "source": []
  },
  {
   "cell_type": "code",
   "execution_count": 234,
   "metadata": {},
   "outputs": [
    {
     "data": {
      "text/html": [
       "<div>\n",
       "<style scoped>\n",
       "    .dataframe tbody tr th:only-of-type {\n",
       "        vertical-align: middle;\n",
       "    }\n",
       "\n",
       "    .dataframe tbody tr th {\n",
       "        vertical-align: top;\n",
       "    }\n",
       "\n",
       "    .dataframe thead th {\n",
       "        text-align: right;\n",
       "    }\n",
       "</style>\n",
       "<table border=\"1\" class=\"dataframe\">\n",
       "  <thead>\n",
       "    <tr style=\"text-align: right;\">\n",
       "      <th></th>\n",
       "      <th>col1</th>\n",
       "      <th>col2</th>\n",
       "      <th>col3</th>\n",
       "    </tr>\n",
       "  </thead>\n",
       "  <tbody>\n",
       "    <tr>\n",
       "      <th>0</th>\n",
       "      <td>-70</td>\n",
       "      <td>-60</td>\n",
       "      <td>-5</td>\n",
       "    </tr>\n",
       "    <tr>\n",
       "      <th>1</th>\n",
       "      <td>-69</td>\n",
       "      <td>-80</td>\n",
       "      <td>86</td>\n",
       "    </tr>\n",
       "    <tr>\n",
       "      <th>2</th>\n",
       "      <td>77</td>\n",
       "      <td>81</td>\n",
       "      <td>-15</td>\n",
       "    </tr>\n",
       "    <tr>\n",
       "      <th>3</th>\n",
       "      <td>97</td>\n",
       "      <td>73</td>\n",
       "      <td>47</td>\n",
       "    </tr>\n",
       "    <tr>\n",
       "      <th>4</th>\n",
       "      <td>-50</td>\n",
       "      <td>-100</td>\n",
       "      <td>11</td>\n",
       "    </tr>\n",
       "  </tbody>\n",
       "</table>\n",
       "</div>"
      ],
      "text/plain": [
       "   col1  col2  col3\n",
       "0   -70   -60    -5\n",
       "1   -69   -80    86\n",
       "2    77    81   -15\n",
       "3    97    73    47\n",
       "4   -50  -100    11"
      ]
     },
     "execution_count": 234,
     "metadata": {},
     "output_type": "execute_result"
    }
   ],
   "source": [
    "df = pd.DataFrame({\n",
    "    'col1': pd.np.random.randint(-100, 100, 5),\n",
    "    'col2': pd.np.random.randint(-100, 100, 5),\n",
    "    'col3': pd.np.random.randint(-100, 100, 5)\n",
    "})\n",
    "df.head()"
   ]
  },
  {
   "cell_type": "code",
   "execution_count": 235,
   "metadata": {},
   "outputs": [
    {
     "data": {
      "text/plain": [
       "col1    -3.0\n",
       "col2   -17.2\n",
       "col3    24.8\n",
       "dtype: float64"
      ]
     },
     "execution_count": 235,
     "metadata": {},
     "output_type": "execute_result"
    }
   ],
   "source": [
    "df.apply(lambda x: x.mean(), axis=0)"
   ]
  },
  {
   "cell_type": "code",
   "execution_count": 236,
   "metadata": {},
   "outputs": [
    {
     "data": {
      "text/plain": [
       "0   -135\n",
       "1    -63\n",
       "2    143\n",
       "3    217\n",
       "4   -139\n",
       "dtype: int64"
      ]
     },
     "execution_count": 236,
     "metadata": {},
     "output_type": "execute_result"
    }
   ],
   "source": [
    "df.apply(lambda x: x.sum(), axis=1)"
   ]
  },
  {
   "cell_type": "code",
   "execution_count": 239,
   "metadata": {},
   "outputs": [
    {
     "data": {
      "text/html": [
       "<div>\n",
       "<style scoped>\n",
       "    .dataframe tbody tr th:only-of-type {\n",
       "        vertical-align: middle;\n",
       "    }\n",
       "\n",
       "    .dataframe tbody tr th {\n",
       "        vertical-align: top;\n",
       "    }\n",
       "\n",
       "    .dataframe thead th {\n",
       "        text-align: right;\n",
       "    }\n",
       "</style>\n",
       "<table border=\"1\" class=\"dataframe\">\n",
       "  <thead>\n",
       "    <tr style=\"text-align: right;\">\n",
       "      <th></th>\n",
       "      <th>col1</th>\n",
       "      <th>col2</th>\n",
       "      <th>col3</th>\n",
       "    </tr>\n",
       "  </thead>\n",
       "  <tbody>\n",
       "    <tr>\n",
       "      <th>0</th>\n",
       "      <td>8.366600</td>\n",
       "      <td>7.745967</td>\n",
       "      <td>2.236068</td>\n",
       "    </tr>\n",
       "    <tr>\n",
       "      <th>1</th>\n",
       "      <td>8.306624</td>\n",
       "      <td>8.944272</td>\n",
       "      <td>9.273618</td>\n",
       "    </tr>\n",
       "    <tr>\n",
       "      <th>2</th>\n",
       "      <td>8.774964</td>\n",
       "      <td>9.000000</td>\n",
       "      <td>3.872983</td>\n",
       "    </tr>\n",
       "    <tr>\n",
       "      <th>3</th>\n",
       "      <td>9.848858</td>\n",
       "      <td>8.544004</td>\n",
       "      <td>6.855655</td>\n",
       "    </tr>\n",
       "    <tr>\n",
       "      <th>4</th>\n",
       "      <td>7.071068</td>\n",
       "      <td>10.000000</td>\n",
       "      <td>3.316625</td>\n",
       "    </tr>\n",
       "  </tbody>\n",
       "</table>\n",
       "</div>"
      ],
      "text/plain": [
       "       col1       col2      col3\n",
       "0  8.366600   7.745967  2.236068\n",
       "1  8.306624   8.944272  9.273618\n",
       "2  8.774964   9.000000  3.872983\n",
       "3  9.848858   8.544004  6.855655\n",
       "4  7.071068  10.000000  3.316625"
      ]
     },
     "execution_count": 239,
     "metadata": {},
     "output_type": "execute_result"
    }
   ],
   "source": [
    "df.applymap(lambda x: abs(x)**0.5)"
   ]
  },
  {
   "cell_type": "markdown",
   "metadata": {},
   "source": [
    "## Point Summaries\n",
    "\n",
    "We have already looked at a number of point summary functions in the previous week.\n",
    "\n",
    "- `pd.Series.mean()`\n",
    "- `pd.Series.sum()`\n",
    "\n",
    "We do not spend more time on them here."
   ]
  },
  {
   "cell_type": "markdown",
   "metadata": {},
   "source": [
    "## Grouped Summaries\n",
    "\n",
    "The syntax for group summaries is [explained in detail in the lecture](https://muhark.github.io/dpir-intro-python/Week3/lecture.html#/groupby-syntax-simple-group-operations)."
   ]
  },
  {
   "cell_type": "code",
   "execution_count": 241,
   "metadata": {},
   "outputs": [],
   "source": [
    "df = pd.read_feather(\"../Week2/data/bes_data_subset_week2.feather\")"
   ]
  },
  {
   "cell_type": "code",
   "execution_count": 103,
   "metadata": {},
   "outputs": [
    {
     "data": {
      "text/plain": [
       "region\n",
       "East Midlands         54.903226\n",
       "Eastern               54.070796\n",
       "London                46.896552\n",
       "North East            54.276786\n",
       "North West            51.388158\n",
       "Scotland              53.109948\n",
       "South East            51.971631\n",
       "South West            54.560241\n",
       "Wales                 51.269841\n",
       "West Midlands         54.451327\n",
       "Yorkshire & Humber    53.152174\n",
       "Name: Age, dtype: float64"
      ]
     },
     "execution_count": 103,
     "metadata": {},
     "output_type": "execute_result"
    }
   ],
   "source": [
    "df.groupby('region')['Age'].mean()"
   ]
  },
  {
   "cell_type": "code",
   "execution_count": 105,
   "metadata": {},
   "outputs": [
    {
     "data": {
      "text/html": [
       "<div>\n",
       "<style scoped>\n",
       "    .dataframe tbody tr th:only-of-type {\n",
       "        vertical-align: middle;\n",
       "    }\n",
       "\n",
       "    .dataframe tbody tr th {\n",
       "        vertical-align: top;\n",
       "    }\n",
       "\n",
       "    .dataframe thead th {\n",
       "        text-align: right;\n",
       "    }\n",
       "</style>\n",
       "<table border=\"1\" class=\"dataframe\">\n",
       "  <thead>\n",
       "    <tr style=\"text-align: right;\">\n",
       "      <th></th>\n",
       "      <th>Age</th>\n",
       "    </tr>\n",
       "    <tr>\n",
       "      <th>region</th>\n",
       "      <th></th>\n",
       "    </tr>\n",
       "  </thead>\n",
       "  <tbody>\n",
       "    <tr>\n",
       "      <th>East Midlands</th>\n",
       "      <td>54.903226</td>\n",
       "    </tr>\n",
       "    <tr>\n",
       "      <th>Eastern</th>\n",
       "      <td>54.070796</td>\n",
       "    </tr>\n",
       "    <tr>\n",
       "      <th>London</th>\n",
       "      <td>46.896552</td>\n",
       "    </tr>\n",
       "    <tr>\n",
       "      <th>North East</th>\n",
       "      <td>54.276786</td>\n",
       "    </tr>\n",
       "    <tr>\n",
       "      <th>North West</th>\n",
       "      <td>51.388158</td>\n",
       "    </tr>\n",
       "    <tr>\n",
       "      <th>Scotland</th>\n",
       "      <td>53.109948</td>\n",
       "    </tr>\n",
       "    <tr>\n",
       "      <th>South East</th>\n",
       "      <td>51.971631</td>\n",
       "    </tr>\n",
       "    <tr>\n",
       "      <th>South West</th>\n",
       "      <td>54.560241</td>\n",
       "    </tr>\n",
       "    <tr>\n",
       "      <th>Wales</th>\n",
       "      <td>51.269841</td>\n",
       "    </tr>\n",
       "    <tr>\n",
       "      <th>West Midlands</th>\n",
       "      <td>54.451327</td>\n",
       "    </tr>\n",
       "    <tr>\n",
       "      <th>Yorkshire &amp; Humber</th>\n",
       "      <td>53.152174</td>\n",
       "    </tr>\n",
       "  </tbody>\n",
       "</table>\n",
       "</div>"
      ],
      "text/plain": [
       "                          Age\n",
       "region                       \n",
       "East Midlands       54.903226\n",
       "Eastern             54.070796\n",
       "London              46.896552\n",
       "North East          54.276786\n",
       "North West          51.388158\n",
       "Scotland            53.109948\n",
       "South East          51.971631\n",
       "South West          54.560241\n",
       "Wales               51.269841\n",
       "West Midlands       54.451327\n",
       "Yorkshire & Humber  53.152174"
      ]
     },
     "execution_count": 105,
     "metadata": {},
     "output_type": "execute_result"
    }
   ],
   "source": [
    "df.groupby('region')[['Age']].mean() # List indexer returns a DataFrame of width 1."
   ]
  },
  {
   "cell_type": "markdown",
   "metadata": {},
   "source": [
    "We can pass custom functions to the groupby object by using `apply`"
   ]
  },
  {
   "cell_type": "code",
   "execution_count": 133,
   "metadata": {},
   "outputs": [
    {
     "data": {
      "text/plain": [
       "region              Constit_Code\n",
       "East Midlands       Ashfield        21-83\n",
       "                    Bassetlaw       23-93\n",
       "                    Bolsover        27-65\n",
       "                    Broxtowe        35-67\n",
       "                    Charnwood       36-80\n",
       "                                    ...  \n",
       "Yorkshire & Humber  Sheffield       19-71\n",
       "                    Sheffield,      22-90\n",
       "                    Skipton an      22-84\n",
       "                    York Centr      19-77\n",
       "                    York Outer      46-86\n",
       "Name: Age Range, Length: 218, dtype: object"
      ]
     },
     "execution_count": 133,
     "metadata": {},
     "output_type": "execute_result"
    }
   ],
   "source": [
    "df.groupby(['region', 'Constit_Code'])['Age'].apply(lambda x: f\"{int(x.min())}-{int(x.max())}\").rename('Age Range')"
   ]
  },
  {
   "cell_type": "markdown",
   "metadata": {},
   "source": [
    "We can pass multiple functions by using the `agg` function."
   ]
  },
  {
   "cell_type": "code",
   "execution_count": 113,
   "metadata": {},
   "outputs": [
    {
     "data": {
      "text/html": [
       "<div>\n",
       "<style scoped>\n",
       "    .dataframe tbody tr th:only-of-type {\n",
       "        vertical-align: middle;\n",
       "    }\n",
       "\n",
       "    .dataframe tbody tr th {\n",
       "        vertical-align: top;\n",
       "    }\n",
       "\n",
       "    .dataframe thead tr th {\n",
       "        text-align: left;\n",
       "    }\n",
       "\n",
       "    .dataframe thead tr:last-of-type th {\n",
       "        text-align: right;\n",
       "    }\n",
       "</style>\n",
       "<table border=\"1\" class=\"dataframe\">\n",
       "  <thead>\n",
       "    <tr>\n",
       "      <th></th>\n",
       "      <th></th>\n",
       "      <th colspan=\"2\" halign=\"left\">Age</th>\n",
       "    </tr>\n",
       "    <tr>\n",
       "      <th></th>\n",
       "      <th></th>\n",
       "      <th>mean</th>\n",
       "      <th>len</th>\n",
       "    </tr>\n",
       "    <tr>\n",
       "      <th>region</th>\n",
       "      <th>Constit_Code</th>\n",
       "      <th></th>\n",
       "      <th></th>\n",
       "    </tr>\n",
       "  </thead>\n",
       "  <tbody>\n",
       "    <tr>\n",
       "      <th rowspan=\"5\" valign=\"top\">East Midlands</th>\n",
       "      <th>Ashfield</th>\n",
       "      <td>56.888889</td>\n",
       "      <td>9.0</td>\n",
       "    </tr>\n",
       "    <tr>\n",
       "      <th>Bassetlaw</th>\n",
       "      <td>46.000000</td>\n",
       "      <td>10.0</td>\n",
       "    </tr>\n",
       "    <tr>\n",
       "      <th>Bolsover</th>\n",
       "      <td>50.375000</td>\n",
       "      <td>8.0</td>\n",
       "    </tr>\n",
       "    <tr>\n",
       "      <th>Broxtowe</th>\n",
       "      <td>55.833333</td>\n",
       "      <td>6.0</td>\n",
       "    </tr>\n",
       "    <tr>\n",
       "      <th>Charnwood</th>\n",
       "      <td>60.818182</td>\n",
       "      <td>11.0</td>\n",
       "    </tr>\n",
       "    <tr>\n",
       "      <th>...</th>\n",
       "      <th>...</th>\n",
       "      <td>...</td>\n",
       "      <td>...</td>\n",
       "    </tr>\n",
       "    <tr>\n",
       "      <th rowspan=\"5\" valign=\"top\">Yorkshire &amp; Humber</th>\n",
       "      <th>Sheffield</th>\n",
       "      <td>44.000000</td>\n",
       "      <td>12.0</td>\n",
       "    </tr>\n",
       "    <tr>\n",
       "      <th>Sheffield,</th>\n",
       "      <td>55.038462</td>\n",
       "      <td>26.0</td>\n",
       "    </tr>\n",
       "    <tr>\n",
       "      <th>Skipton an</th>\n",
       "      <td>54.444444</td>\n",
       "      <td>9.0</td>\n",
       "    </tr>\n",
       "    <tr>\n",
       "      <th>York Centr</th>\n",
       "      <td>52.777778</td>\n",
       "      <td>9.0</td>\n",
       "    </tr>\n",
       "    <tr>\n",
       "      <th>York Outer</th>\n",
       "      <td>60.800000</td>\n",
       "      <td>10.0</td>\n",
       "    </tr>\n",
       "  </tbody>\n",
       "</table>\n",
       "<p>218 rows × 2 columns</p>\n",
       "</div>"
      ],
      "text/plain": [
       "                                       Age      \n",
       "                                      mean   len\n",
       "region             Constit_Code                 \n",
       "East Midlands      Ashfield      56.888889   9.0\n",
       "                   Bassetlaw     46.000000  10.0\n",
       "                   Bolsover      50.375000   8.0\n",
       "                   Broxtowe      55.833333   6.0\n",
       "                   Charnwood     60.818182  11.0\n",
       "...                                    ...   ...\n",
       "Yorkshire & Humber Sheffield     44.000000  12.0\n",
       "                   Sheffield,    55.038462  26.0\n",
       "                   Skipton an    54.444444   9.0\n",
       "                   York Centr    52.777778   9.0\n",
       "                   York Outer    60.800000  10.0\n",
       "\n",
       "[218 rows x 2 columns]"
      ]
     },
     "execution_count": 113,
     "metadata": {},
     "output_type": "execute_result"
    }
   ],
   "source": [
    "df.groupby(['region', 'Constit_Code'])[['Age']].agg([pd.np.mean, len])"
   ]
  },
  {
   "cell_type": "markdown",
   "metadata": {},
   "source": [
    "We can also apply a single function to multiple columns simultaneously:"
   ]
  },
  {
   "cell_type": "code",
   "execution_count": 148,
   "metadata": {},
   "outputs": [
    {
     "data": {
      "text/html": [
       "<div>\n",
       "<style scoped>\n",
       "    .dataframe tbody tr th:only-of-type {\n",
       "        vertical-align: middle;\n",
       "    }\n",
       "\n",
       "    .dataframe tbody tr th {\n",
       "        vertical-align: top;\n",
       "    }\n",
       "\n",
       "    .dataframe thead th {\n",
       "        text-align: right;\n",
       "    }\n",
       "</style>\n",
       "<table border=\"1\" class=\"dataframe\">\n",
       "  <thead>\n",
       "    <tr style=\"text-align: right;\">\n",
       "      <th></th>\n",
       "      <th></th>\n",
       "      <th>k03</th>\n",
       "      <th>y06</th>\n",
       "      <th>y09</th>\n",
       "      <th>y11</th>\n",
       "    </tr>\n",
       "    <tr>\n",
       "      <th>region</th>\n",
       "      <th>Constit_Code</th>\n",
       "      <th></th>\n",
       "      <th></th>\n",
       "      <th></th>\n",
       "      <th></th>\n",
       "    </tr>\n",
       "  </thead>\n",
       "  <tbody>\n",
       "    <tr>\n",
       "      <th rowspan=\"5\" valign=\"top\">East Midlands</th>\n",
       "      <th>Ashfield</th>\n",
       "      <td>Mail</td>\n",
       "      <td>Christian - no denomination</td>\n",
       "      <td>Female</td>\n",
       "      <td>English/Welsh/Scottish/Northern Irish/British</td>\n",
       "    </tr>\n",
       "    <tr>\n",
       "      <th>Bassetlaw</th>\n",
       "      <td>Mirror/Record</td>\n",
       "      <td>No religion</td>\n",
       "      <td>Male</td>\n",
       "      <td>English/Welsh/Scottish/Northern Irish/British</td>\n",
       "    </tr>\n",
       "    <tr>\n",
       "      <th>Bolsover</th>\n",
       "      <td>Mail</td>\n",
       "      <td>No religion</td>\n",
       "      <td>Male</td>\n",
       "      <td>English/Welsh/Scottish/Northern Irish/British</td>\n",
       "    </tr>\n",
       "    <tr>\n",
       "      <th>Broxtowe</th>\n",
       "      <td>Guardian/Observer</td>\n",
       "      <td>No religion</td>\n",
       "      <td>Male</td>\n",
       "      <td>English/Welsh/Scottish/Northern Irish/British</td>\n",
       "    </tr>\n",
       "    <tr>\n",
       "      <th>Charnwood</th>\n",
       "      <td>Mail</td>\n",
       "      <td>Church of England/ Anglican/Episcopal</td>\n",
       "      <td>Male</td>\n",
       "      <td>English/Welsh/Scottish/Northern Irish/British</td>\n",
       "    </tr>\n",
       "    <tr>\n",
       "      <th>...</th>\n",
       "      <th>...</th>\n",
       "      <td>...</td>\n",
       "      <td>...</td>\n",
       "      <td>...</td>\n",
       "      <td>...</td>\n",
       "    </tr>\n",
       "    <tr>\n",
       "      <th rowspan=\"5\" valign=\"top\">Yorkshire &amp; Humber</th>\n",
       "      <th>Sheffield</th>\n",
       "      <td>Guardian/Observer</td>\n",
       "      <td>No religion</td>\n",
       "      <td>Female</td>\n",
       "      <td>English/Welsh/Scottish/Northern Irish/British</td>\n",
       "    </tr>\n",
       "    <tr>\n",
       "      <th>Sheffield,</th>\n",
       "      <td>Guardian/Observer</td>\n",
       "      <td>No religion</td>\n",
       "      <td>Female</td>\n",
       "      <td>English/Welsh/Scottish/Northern Irish/British</td>\n",
       "    </tr>\n",
       "    <tr>\n",
       "      <th>Skipton an</th>\n",
       "      <td>Mail</td>\n",
       "      <td>No religion</td>\n",
       "      <td>Female</td>\n",
       "      <td>English/Welsh/Scottish/Northern Irish/British</td>\n",
       "    </tr>\n",
       "    <tr>\n",
       "      <th>York Centr</th>\n",
       "      <td>Mail</td>\n",
       "      <td>No religion</td>\n",
       "      <td>Male</td>\n",
       "      <td>English/Welsh/Scottish/Northern Irish/British</td>\n",
       "    </tr>\n",
       "    <tr>\n",
       "      <th>York Outer</th>\n",
       "      <td>Guardian/Observer</td>\n",
       "      <td>No religion</td>\n",
       "      <td>Female</td>\n",
       "      <td>English/Welsh/Scottish/Northern Irish/British</td>\n",
       "    </tr>\n",
       "  </tbody>\n",
       "</table>\n",
       "<p>218 rows × 4 columns</p>\n",
       "</div>"
      ],
      "text/plain": [
       "0                                              k03  \\\n",
       "region             Constit_Code                      \n",
       "East Midlands      Ashfield                   Mail   \n",
       "                   Bassetlaw         Mirror/Record   \n",
       "                   Bolsover                   Mail   \n",
       "                   Broxtowe      Guardian/Observer   \n",
       "                   Charnwood                  Mail   \n",
       "...                                            ...   \n",
       "Yorkshire & Humber Sheffield     Guardian/Observer   \n",
       "                   Sheffield,    Guardian/Observer   \n",
       "                   Skipton an                 Mail   \n",
       "                   York Centr                 Mail   \n",
       "                   York Outer    Guardian/Observer   \n",
       "\n",
       "0                                                                  y06  \\\n",
       "region             Constit_Code                                          \n",
       "East Midlands      Ashfield                Christian - no denomination   \n",
       "                   Bassetlaw                               No religion   \n",
       "                   Bolsover                                No religion   \n",
       "                   Broxtowe                                No religion   \n",
       "                   Charnwood     Church of England/ Anglican/Episcopal   \n",
       "...                                                                ...   \n",
       "Yorkshire & Humber Sheffield                               No religion   \n",
       "                   Sheffield,                              No religion   \n",
       "                   Skipton an                              No religion   \n",
       "                   York Centr                              No religion   \n",
       "                   York Outer                              No religion   \n",
       "\n",
       "0                                   y09  \\\n",
       "region             Constit_Code           \n",
       "East Midlands      Ashfield      Female   \n",
       "                   Bassetlaw       Male   \n",
       "                   Bolsover        Male   \n",
       "                   Broxtowe        Male   \n",
       "                   Charnwood       Male   \n",
       "...                                 ...   \n",
       "Yorkshire & Humber Sheffield     Female   \n",
       "                   Sheffield,    Female   \n",
       "                   Skipton an    Female   \n",
       "                   York Centr      Male   \n",
       "                   York Outer    Female   \n",
       "\n",
       "0                                                                          y11  \n",
       "region             Constit_Code                                                 \n",
       "East Midlands      Ashfield      English/Welsh/Scottish/Northern Irish/British  \n",
       "                   Bassetlaw     English/Welsh/Scottish/Northern Irish/British  \n",
       "                   Bolsover      English/Welsh/Scottish/Northern Irish/British  \n",
       "                   Broxtowe      English/Welsh/Scottish/Northern Irish/British  \n",
       "                   Charnwood     English/Welsh/Scottish/Northern Irish/British  \n",
       "...                                                                        ...  \n",
       "Yorkshire & Humber Sheffield     English/Welsh/Scottish/Northern Irish/British  \n",
       "                   Sheffield,    English/Welsh/Scottish/Northern Irish/British  \n",
       "                   Skipton an    English/Welsh/Scottish/Northern Irish/British  \n",
       "                   York Centr    English/Welsh/Scottish/Northern Irish/British  \n",
       "                   York Outer    English/Welsh/Scottish/Northern Irish/British  \n",
       "\n",
       "[218 rows x 4 columns]"
      ]
     },
     "execution_count": 148,
     "metadata": {},
     "output_type": "execute_result"
    }
   ],
   "source": [
    "df.groupby(['region', 'Constit_Code'])[['k03', 'y06', 'y09', 'y11']].apply(lambda x: x.mode().iloc[0])"
   ]
  },
  {
   "cell_type": "markdown",
   "metadata": {},
   "source": [
    "And finally, we can map different functions to different columns using the `agg()` function with a dictionary:"
   ]
  },
  {
   "cell_type": "code",
   "execution_count": 169,
   "metadata": {},
   "outputs": [
    {
     "data": {
      "text/html": [
       "<div>\n",
       "<style scoped>\n",
       "    .dataframe tbody tr th:only-of-type {\n",
       "        vertical-align: middle;\n",
       "    }\n",
       "\n",
       "    .dataframe tbody tr th {\n",
       "        vertical-align: top;\n",
       "    }\n",
       "\n",
       "    .dataframe thead tr th {\n",
       "        text-align: left;\n",
       "    }\n",
       "\n",
       "    .dataframe thead tr:last-of-type th {\n",
       "        text-align: right;\n",
       "    }\n",
       "</style>\n",
       "<table border=\"1\" class=\"dataframe\">\n",
       "  <thead>\n",
       "    <tr>\n",
       "      <th></th>\n",
       "      <th></th>\n",
       "      <th>k03</th>\n",
       "      <th>y06</th>\n",
       "      <th>y09</th>\n",
       "      <th colspan=\"2\" halign=\"left\">Age</th>\n",
       "    </tr>\n",
       "    <tr>\n",
       "      <th></th>\n",
       "      <th></th>\n",
       "      <th>group_mode</th>\n",
       "      <th>group_mode</th>\n",
       "      <th>gender_proportion</th>\n",
       "      <th>min</th>\n",
       "      <th>max</th>\n",
       "    </tr>\n",
       "    <tr>\n",
       "      <th>region</th>\n",
       "      <th>Constit_Code</th>\n",
       "      <th></th>\n",
       "      <th></th>\n",
       "      <th></th>\n",
       "      <th></th>\n",
       "      <th></th>\n",
       "    </tr>\n",
       "  </thead>\n",
       "  <tbody>\n",
       "    <tr>\n",
       "      <th rowspan=\"5\" valign=\"top\">East Midlands</th>\n",
       "      <th>Ashfield</th>\n",
       "      <td>Mail</td>\n",
       "      <td>Christian - no denomination</td>\n",
       "      <td>0.555556</td>\n",
       "      <td>21.0</td>\n",
       "      <td>83.0</td>\n",
       "    </tr>\n",
       "    <tr>\n",
       "      <th>Bassetlaw</th>\n",
       "      <td>Mirror/Record</td>\n",
       "      <td>No religion</td>\n",
       "      <td>0.400000</td>\n",
       "      <td>23.0</td>\n",
       "      <td>93.0</td>\n",
       "    </tr>\n",
       "    <tr>\n",
       "      <th>Bolsover</th>\n",
       "      <td>Other</td>\n",
       "      <td>No religion</td>\n",
       "      <td>0.500000</td>\n",
       "      <td>27.0</td>\n",
       "      <td>65.0</td>\n",
       "    </tr>\n",
       "    <tr>\n",
       "      <th>Broxtowe</th>\n",
       "      <td>Guardian/Observer</td>\n",
       "      <td>No religion</td>\n",
       "      <td>0.500000</td>\n",
       "      <td>35.0</td>\n",
       "      <td>67.0</td>\n",
       "    </tr>\n",
       "    <tr>\n",
       "      <th>Charnwood</th>\n",
       "      <td>Mail</td>\n",
       "      <td>Church of England/ Anglican/Episcopal</td>\n",
       "      <td>0.454545</td>\n",
       "      <td>36.0</td>\n",
       "      <td>80.0</td>\n",
       "    </tr>\n",
       "    <tr>\n",
       "      <th>...</th>\n",
       "      <th>...</th>\n",
       "      <td>...</td>\n",
       "      <td>...</td>\n",
       "      <td>...</td>\n",
       "      <td>...</td>\n",
       "      <td>...</td>\n",
       "    </tr>\n",
       "    <tr>\n",
       "      <th rowspan=\"5\" valign=\"top\">Yorkshire &amp; Humber</th>\n",
       "      <th>Sheffield</th>\n",
       "      <td>Guardian/Observer</td>\n",
       "      <td>No religion</td>\n",
       "      <td>0.583333</td>\n",
       "      <td>19.0</td>\n",
       "      <td>71.0</td>\n",
       "    </tr>\n",
       "    <tr>\n",
       "      <th>Sheffield,</th>\n",
       "      <td>Guardian/Observer</td>\n",
       "      <td>No religion</td>\n",
       "      <td>0.538462</td>\n",
       "      <td>22.0</td>\n",
       "      <td>90.0</td>\n",
       "    </tr>\n",
       "    <tr>\n",
       "      <th>Skipton an</th>\n",
       "      <td>Mail</td>\n",
       "      <td>No religion</td>\n",
       "      <td>0.555556</td>\n",
       "      <td>22.0</td>\n",
       "      <td>84.0</td>\n",
       "    </tr>\n",
       "    <tr>\n",
       "      <th>York Centr</th>\n",
       "      <td>Other</td>\n",
       "      <td>No religion</td>\n",
       "      <td>0.444444</td>\n",
       "      <td>19.0</td>\n",
       "      <td>77.0</td>\n",
       "    </tr>\n",
       "    <tr>\n",
       "      <th>York Outer</th>\n",
       "      <td>Guardian/Observer</td>\n",
       "      <td>No religion</td>\n",
       "      <td>0.700000</td>\n",
       "      <td>46.0</td>\n",
       "      <td>86.0</td>\n",
       "    </tr>\n",
       "  </tbody>\n",
       "</table>\n",
       "<p>218 rows × 5 columns</p>\n",
       "</div>"
      ],
      "text/plain": [
       "                                               k03  \\\n",
       "                                        group_mode   \n",
       "region             Constit_Code                      \n",
       "East Midlands      Ashfield                   Mail   \n",
       "                   Bassetlaw         Mirror/Record   \n",
       "                   Bolsover                  Other   \n",
       "                   Broxtowe      Guardian/Observer   \n",
       "                   Charnwood                  Mail   \n",
       "...                                            ...   \n",
       "Yorkshire & Humber Sheffield     Guardian/Observer   \n",
       "                   Sheffield,    Guardian/Observer   \n",
       "                   Skipton an                 Mail   \n",
       "                   York Centr                Other   \n",
       "                   York Outer    Guardian/Observer   \n",
       "\n",
       "                                                                   y06  \\\n",
       "                                                            group_mode   \n",
       "region             Constit_Code                                          \n",
       "East Midlands      Ashfield                Christian - no denomination   \n",
       "                   Bassetlaw                               No religion   \n",
       "                   Bolsover                                No religion   \n",
       "                   Broxtowe                                No religion   \n",
       "                   Charnwood     Church of England/ Anglican/Episcopal   \n",
       "...                                                                ...   \n",
       "Yorkshire & Humber Sheffield                               No religion   \n",
       "                   Sheffield,                              No religion   \n",
       "                   Skipton an                              No religion   \n",
       "                   York Centr                              No religion   \n",
       "                   York Outer                              No religion   \n",
       "\n",
       "                                              y09   Age        \n",
       "                                gender_proportion   min   max  \n",
       "region             Constit_Code                                \n",
       "East Midlands      Ashfield              0.555556  21.0  83.0  \n",
       "                   Bassetlaw             0.400000  23.0  93.0  \n",
       "                   Bolsover              0.500000  27.0  65.0  \n",
       "                   Broxtowe              0.500000  35.0  67.0  \n",
       "                   Charnwood             0.454545  36.0  80.0  \n",
       "...                                           ...   ...   ...  \n",
       "Yorkshire & Humber Sheffield             0.583333  19.0  71.0  \n",
       "                   Sheffield,            0.538462  22.0  90.0  \n",
       "                   Skipton an            0.555556  22.0  84.0  \n",
       "                   York Centr            0.444444  19.0  77.0  \n",
       "                   York Outer            0.700000  46.0  86.0  \n",
       "\n",
       "[218 rows x 5 columns]"
      ]
     },
     "execution_count": 169,
     "metadata": {},
     "output_type": "execute_result"
    }
   ],
   "source": [
    "def group_mode(x):\n",
    "    \"Function for extracting first modal value from pandas groupby object\"\n",
    "    m = x.value_counts().index[0]\n",
    "    return m\n",
    "\n",
    "def gender_proportion(x):\n",
    "    m = x.apply(lambda e: 1 if e==\"Female\" else 0)\n",
    "    m = m.astype(int).mean()\n",
    "    return m\n",
    "\n",
    "\n",
    "df.groupby(['region', 'Constit_Code']).agg({'k03': group_mode,\n",
    "                                            'y06': group_mode,\n",
    "                                            'y09': gender_proportion,\n",
    "                                            'Age': ['min', 'max']})"
   ]
  },
  {
   "cell_type": "markdown",
   "metadata": {},
   "source": [
    "Note: to index the above DataFrame, you will need some fancy indexers, namely `pd.IndexSlice`.\n",
    "\n",
    "For more general notes, see: https://pandas.pydata.org/pandas-docs/stable/user_guide/advanced.html#advanced-indexing-with-hierarchical-index"
   ]
  },
  {
   "cell_type": "code",
   "execution_count": 170,
   "metadata": {},
   "outputs": [],
   "source": [
    "temp = df.groupby(['region', 'Constit_Code']).agg({'k03': group_mode,\n",
    "                                                   'y06': group_mode,\n",
    "                                                   'y09': gender_proportion,\n",
    "                                                   'Age': ['min', 'max']})"
   ]
  },
  {
   "cell_type": "code",
   "execution_count": 176,
   "metadata": {},
   "outputs": [
    {
     "data": {
      "text/html": [
       "<div>\n",
       "<style scoped>\n",
       "    .dataframe tbody tr th:only-of-type {\n",
       "        vertical-align: middle;\n",
       "    }\n",
       "\n",
       "    .dataframe tbody tr th {\n",
       "        vertical-align: top;\n",
       "    }\n",
       "\n",
       "    .dataframe thead tr th {\n",
       "        text-align: left;\n",
       "    }\n",
       "\n",
       "    .dataframe thead tr:last-of-type th {\n",
       "        text-align: right;\n",
       "    }\n",
       "</style>\n",
       "<table border=\"1\" class=\"dataframe\">\n",
       "  <thead>\n",
       "    <tr>\n",
       "      <th></th>\n",
       "      <th></th>\n",
       "      <th>k03</th>\n",
       "      <th>y06</th>\n",
       "    </tr>\n",
       "    <tr>\n",
       "      <th></th>\n",
       "      <th></th>\n",
       "      <th>group_mode</th>\n",
       "      <th>group_mode</th>\n",
       "    </tr>\n",
       "    <tr>\n",
       "      <th>region</th>\n",
       "      <th>Constit_Code</th>\n",
       "      <th></th>\n",
       "      <th></th>\n",
       "    </tr>\n",
       "  </thead>\n",
       "  <tbody>\n",
       "    <tr>\n",
       "      <th rowspan=\"16\" valign=\"top\">East Midlands</th>\n",
       "      <th>Ashfield</th>\n",
       "      <td>Mail</td>\n",
       "      <td>Christian - no denomination</td>\n",
       "    </tr>\n",
       "    <tr>\n",
       "      <th>Bassetlaw</th>\n",
       "      <td>Mirror/Record</td>\n",
       "      <td>No religion</td>\n",
       "    </tr>\n",
       "    <tr>\n",
       "      <th>Bolsover</th>\n",
       "      <td>Other</td>\n",
       "      <td>No religion</td>\n",
       "    </tr>\n",
       "    <tr>\n",
       "      <th>Broxtowe</th>\n",
       "      <td>Guardian/Observer</td>\n",
       "      <td>No religion</td>\n",
       "    </tr>\n",
       "    <tr>\n",
       "      <th>Charnwood</th>\n",
       "      <td>Mail</td>\n",
       "      <td>Church of England/ Anglican/Episcopal</td>\n",
       "    </tr>\n",
       "    <tr>\n",
       "      <th>Daventry</th>\n",
       "      <td>Mail</td>\n",
       "      <td>No religion</td>\n",
       "    </tr>\n",
       "    <tr>\n",
       "      <th>Derby Sout</th>\n",
       "      <td>Telegraph</td>\n",
       "      <td>No religion</td>\n",
       "    </tr>\n",
       "    <tr>\n",
       "      <th>Grantham a</th>\n",
       "      <td>Other</td>\n",
       "      <td>Church of England/ Anglican/Episcopal</td>\n",
       "    </tr>\n",
       "    <tr>\n",
       "      <th>Harborough</th>\n",
       "      <td>Mail</td>\n",
       "      <td>No religion</td>\n",
       "    </tr>\n",
       "    <tr>\n",
       "      <th>Lincoln</th>\n",
       "      <td>Other</td>\n",
       "      <td>No religion</td>\n",
       "    </tr>\n",
       "    <tr>\n",
       "      <th>Loughborou</th>\n",
       "      <td>Sun</td>\n",
       "      <td>No religion</td>\n",
       "    </tr>\n",
       "    <tr>\n",
       "      <th>Mansfield</th>\n",
       "      <td>Don't know</td>\n",
       "      <td>No religion</td>\n",
       "    </tr>\n",
       "    <tr>\n",
       "      <th>North East</th>\n",
       "      <td>Mail</td>\n",
       "      <td>No religion</td>\n",
       "    </tr>\n",
       "    <tr>\n",
       "      <th>Northampto</th>\n",
       "      <td>Guardian/Observer</td>\n",
       "      <td>No religion</td>\n",
       "    </tr>\n",
       "    <tr>\n",
       "      <th>Rutland an</th>\n",
       "      <td>Telegraph</td>\n",
       "      <td>No religion</td>\n",
       "    </tr>\n",
       "    <tr>\n",
       "      <th>Sleaford a</th>\n",
       "      <td>Other</td>\n",
       "      <td>No religion</td>\n",
       "    </tr>\n",
       "  </tbody>\n",
       "</table>\n",
       "</div>"
      ],
      "text/plain": [
       "                                          k03  \\\n",
       "                                   group_mode   \n",
       "region        Constit_Code                      \n",
       "East Midlands Ashfield                   Mail   \n",
       "              Bassetlaw         Mirror/Record   \n",
       "              Bolsover                  Other   \n",
       "              Broxtowe      Guardian/Observer   \n",
       "              Charnwood                  Mail   \n",
       "              Daventry                   Mail   \n",
       "              Derby Sout            Telegraph   \n",
       "              Grantham a                Other   \n",
       "              Harborough                 Mail   \n",
       "              Lincoln                   Other   \n",
       "              Loughborou                  Sun   \n",
       "              Mansfield            Don't know   \n",
       "              North East                 Mail   \n",
       "              Northampto    Guardian/Observer   \n",
       "              Rutland an            Telegraph   \n",
       "              Sleaford a                Other   \n",
       "\n",
       "                                                              y06  \n",
       "                                                       group_mode  \n",
       "region        Constit_Code                                         \n",
       "East Midlands Ashfield                Christian - no denomination  \n",
       "              Bassetlaw                               No religion  \n",
       "              Bolsover                                No religion  \n",
       "              Broxtowe                                No religion  \n",
       "              Charnwood     Church of England/ Anglican/Episcopal  \n",
       "              Daventry                                No religion  \n",
       "              Derby Sout                              No religion  \n",
       "              Grantham a    Church of England/ Anglican/Episcopal  \n",
       "              Harborough                              No religion  \n",
       "              Lincoln                                 No religion  \n",
       "              Loughborou                              No religion  \n",
       "              Mansfield                               No religion  \n",
       "              North East                              No religion  \n",
       "              Northampto                              No religion  \n",
       "              Rutland an                              No religion  \n",
       "              Sleaford a                              No religion  "
      ]
     },
     "execution_count": 176,
     "metadata": {},
     "output_type": "execute_result"
    }
   ],
   "source": [
    "idx = pd.IndexSlice\n",
    "temp.loc[idx['East Midlands', :], idx[:, 'group_mode']]"
   ]
  },
  {
   "cell_type": "markdown",
   "metadata": {},
   "source": [
    "We can also use apply with a DataFrame. In this case, each row (axis=0) or column (axis=1) is treated as an element."
   ]
  },
  {
   "cell_type": "markdown",
   "metadata": {},
   "source": [
    "# Combining Datasets\n",
    "\n",
    "We look at two commands in particular. For an in-depth explanation, see: https://pandas.pydata.org/pandas-docs/stable/user_guide/merging.html"
   ]
  },
  {
   "cell_type": "code",
   "execution_count": 186,
   "metadata": {},
   "outputs": [],
   "source": [
    "df1 = df.loc[:, ['finalserialno', 'Age', 'y09']]\n",
    "df2 = df.loc[:, ['finalserialno', 'y06']]"
   ]
  },
  {
   "cell_type": "markdown",
   "metadata": {},
   "source": [
    "## Using `pd.concat`"
   ]
  },
  {
   "cell_type": "code",
   "execution_count": 189,
   "metadata": {},
   "outputs": [
    {
     "name": "stdout",
     "output_type": "stream",
     "text": [
      "(2194, 3)\n",
      "(2194, 2)\n",
      "(4388, 4)\n"
     ]
    },
    {
     "data": {
      "text/html": [
       "<div>\n",
       "<style scoped>\n",
       "    .dataframe tbody tr th:only-of-type {\n",
       "        vertical-align: middle;\n",
       "    }\n",
       "\n",
       "    .dataframe tbody tr th {\n",
       "        vertical-align: top;\n",
       "    }\n",
       "\n",
       "    .dataframe thead th {\n",
       "        text-align: right;\n",
       "    }\n",
       "</style>\n",
       "<table border=\"1\" class=\"dataframe\">\n",
       "  <thead>\n",
       "    <tr style=\"text-align: right;\">\n",
       "      <th></th>\n",
       "      <th>finalserialno</th>\n",
       "      <th>Age</th>\n",
       "      <th>y09</th>\n",
       "      <th>y06</th>\n",
       "    </tr>\n",
       "  </thead>\n",
       "  <tbody>\n",
       "    <tr>\n",
       "      <th>0</th>\n",
       "      <td>10115</td>\n",
       "      <td>21.0</td>\n",
       "      <td>Female</td>\n",
       "      <td>NaN</td>\n",
       "    </tr>\n",
       "    <tr>\n",
       "      <th>1</th>\n",
       "      <td>10119</td>\n",
       "      <td>53.0</td>\n",
       "      <td>Male</td>\n",
       "      <td>NaN</td>\n",
       "    </tr>\n",
       "    <tr>\n",
       "      <th>2</th>\n",
       "      <td>10125</td>\n",
       "      <td>56.0</td>\n",
       "      <td>Male</td>\n",
       "      <td>NaN</td>\n",
       "    </tr>\n",
       "    <tr>\n",
       "      <th>3</th>\n",
       "      <td>10215</td>\n",
       "      <td>65.0</td>\n",
       "      <td>Female</td>\n",
       "      <td>NaN</td>\n",
       "    </tr>\n",
       "    <tr>\n",
       "      <th>4</th>\n",
       "      <td>10216</td>\n",
       "      <td>68.0</td>\n",
       "      <td>Female</td>\n",
       "      <td>NaN</td>\n",
       "    </tr>\n",
       "    <tr>\n",
       "      <th>...</th>\n",
       "      <td>...</td>\n",
       "      <td>...</td>\n",
       "      <td>...</td>\n",
       "      <td>...</td>\n",
       "    </tr>\n",
       "    <tr>\n",
       "      <th>2189</th>\n",
       "      <td>69923</td>\n",
       "      <td>NaN</td>\n",
       "      <td>NaN</td>\n",
       "      <td>No religion</td>\n",
       "    </tr>\n",
       "    <tr>\n",
       "      <th>2190</th>\n",
       "      <td>69925</td>\n",
       "      <td>NaN</td>\n",
       "      <td>NaN</td>\n",
       "      <td>No religion</td>\n",
       "    </tr>\n",
       "    <tr>\n",
       "      <th>2191</th>\n",
       "      <td>70016</td>\n",
       "      <td>NaN</td>\n",
       "      <td>NaN</td>\n",
       "      <td>No religion</td>\n",
       "    </tr>\n",
       "    <tr>\n",
       "      <th>2192</th>\n",
       "      <td>70022</td>\n",
       "      <td>NaN</td>\n",
       "      <td>NaN</td>\n",
       "      <td>No religion</td>\n",
       "    </tr>\n",
       "    <tr>\n",
       "      <th>2193</th>\n",
       "      <td>70023</td>\n",
       "      <td>NaN</td>\n",
       "      <td>NaN</td>\n",
       "      <td>No religion</td>\n",
       "    </tr>\n",
       "  </tbody>\n",
       "</table>\n",
       "<p>4388 rows × 4 columns</p>\n",
       "</div>"
      ],
      "text/plain": [
       "      finalserialno   Age     y09          y06\n",
       "0             10115  21.0  Female          NaN\n",
       "1             10119  53.0    Male          NaN\n",
       "2             10125  56.0    Male          NaN\n",
       "3             10215  65.0  Female          NaN\n",
       "4             10216  68.0  Female          NaN\n",
       "...             ...   ...     ...          ...\n",
       "2189          69923   NaN     NaN  No religion\n",
       "2190          69925   NaN     NaN  No religion\n",
       "2191          70016   NaN     NaN  No religion\n",
       "2192          70022   NaN     NaN  No religion\n",
       "2193          70023   NaN     NaN  No religion\n",
       "\n",
       "[4388 rows x 4 columns]"
      ]
     },
     "execution_count": 189,
     "metadata": {},
     "output_type": "execute_result"
    }
   ],
   "source": [
    "print(df1.shape)\n",
    "print(df2.shape)\n",
    "print(pd.concat([df1, df2], axis=0, sort=False).shape)\n",
    "pd.concat([df1, df2], axis=0, sort=False)"
   ]
  },
  {
   "cell_type": "code",
   "execution_count": 191,
   "metadata": {},
   "outputs": [
    {
     "name": "stdout",
     "output_type": "stream",
     "text": [
      "(2194, 3)\n",
      "(2194, 2)\n",
      "(2194, 5)\n"
     ]
    },
    {
     "data": {
      "text/html": [
       "<div>\n",
       "<style scoped>\n",
       "    .dataframe tbody tr th:only-of-type {\n",
       "        vertical-align: middle;\n",
       "    }\n",
       "\n",
       "    .dataframe tbody tr th {\n",
       "        vertical-align: top;\n",
       "    }\n",
       "\n",
       "    .dataframe thead th {\n",
       "        text-align: right;\n",
       "    }\n",
       "</style>\n",
       "<table border=\"1\" class=\"dataframe\">\n",
       "  <thead>\n",
       "    <tr style=\"text-align: right;\">\n",
       "      <th></th>\n",
       "      <th>finalserialno</th>\n",
       "      <th>Age</th>\n",
       "      <th>y09</th>\n",
       "      <th>finalserialno</th>\n",
       "      <th>y06</th>\n",
       "    </tr>\n",
       "  </thead>\n",
       "  <tbody>\n",
       "    <tr>\n",
       "      <th>0</th>\n",
       "      <td>10115</td>\n",
       "      <td>21.0</td>\n",
       "      <td>Female</td>\n",
       "      <td>10115</td>\n",
       "      <td>No religion</td>\n",
       "    </tr>\n",
       "    <tr>\n",
       "      <th>1</th>\n",
       "      <td>10119</td>\n",
       "      <td>53.0</td>\n",
       "      <td>Male</td>\n",
       "      <td>10119</td>\n",
       "      <td>Islam/Muslim</td>\n",
       "    </tr>\n",
       "    <tr>\n",
       "      <th>2</th>\n",
       "      <td>10125</td>\n",
       "      <td>56.0</td>\n",
       "      <td>Male</td>\n",
       "      <td>10125</td>\n",
       "      <td>No religion</td>\n",
       "    </tr>\n",
       "    <tr>\n",
       "      <th>3</th>\n",
       "      <td>10215</td>\n",
       "      <td>65.0</td>\n",
       "      <td>Female</td>\n",
       "      <td>10215</td>\n",
       "      <td>Christian - no denomination</td>\n",
       "    </tr>\n",
       "    <tr>\n",
       "      <th>4</th>\n",
       "      <td>10216</td>\n",
       "      <td>68.0</td>\n",
       "      <td>Female</td>\n",
       "      <td>10216</td>\n",
       "      <td>Christian - no denomination</td>\n",
       "    </tr>\n",
       "    <tr>\n",
       "      <th>...</th>\n",
       "      <td>...</td>\n",
       "      <td>...</td>\n",
       "      <td>...</td>\n",
       "      <td>...</td>\n",
       "      <td>...</td>\n",
       "    </tr>\n",
       "    <tr>\n",
       "      <th>2189</th>\n",
       "      <td>69923</td>\n",
       "      <td>59.0</td>\n",
       "      <td>Female</td>\n",
       "      <td>69923</td>\n",
       "      <td>No religion</td>\n",
       "    </tr>\n",
       "    <tr>\n",
       "      <th>2190</th>\n",
       "      <td>69925</td>\n",
       "      <td>46.0</td>\n",
       "      <td>Female</td>\n",
       "      <td>69925</td>\n",
       "      <td>No religion</td>\n",
       "    </tr>\n",
       "    <tr>\n",
       "      <th>2191</th>\n",
       "      <td>70016</td>\n",
       "      <td>50.0</td>\n",
       "      <td>Female</td>\n",
       "      <td>70016</td>\n",
       "      <td>No religion</td>\n",
       "    </tr>\n",
       "    <tr>\n",
       "      <th>2192</th>\n",
       "      <td>70022</td>\n",
       "      <td>82.0</td>\n",
       "      <td>Female</td>\n",
       "      <td>70022</td>\n",
       "      <td>No religion</td>\n",
       "    </tr>\n",
       "    <tr>\n",
       "      <th>2193</th>\n",
       "      <td>70023</td>\n",
       "      <td>86.0</td>\n",
       "      <td>Male</td>\n",
       "      <td>70023</td>\n",
       "      <td>No religion</td>\n",
       "    </tr>\n",
       "  </tbody>\n",
       "</table>\n",
       "<p>2194 rows × 5 columns</p>\n",
       "</div>"
      ],
      "text/plain": [
       "      finalserialno   Age     y09  finalserialno                          y06\n",
       "0             10115  21.0  Female          10115                  No religion\n",
       "1             10119  53.0    Male          10119                 Islam/Muslim\n",
       "2             10125  56.0    Male          10125                  No religion\n",
       "3             10215  65.0  Female          10215  Christian - no denomination\n",
       "4             10216  68.0  Female          10216  Christian - no denomination\n",
       "...             ...   ...     ...            ...                          ...\n",
       "2189          69923  59.0  Female          69923                  No religion\n",
       "2190          69925  46.0  Female          69925                  No religion\n",
       "2191          70016  50.0  Female          70016                  No religion\n",
       "2192          70022  82.0  Female          70022                  No religion\n",
       "2193          70023  86.0    Male          70023                  No religion\n",
       "\n",
       "[2194 rows x 5 columns]"
      ]
     },
     "execution_count": 191,
     "metadata": {},
     "output_type": "execute_result"
    }
   ],
   "source": [
    "print(df1.shape)\n",
    "print(df2.shape)\n",
    "print(pd.concat([df1, df2], axis=1).shape)\n",
    "\n",
    "pd.concat([df1, df2], axis=1)"
   ]
  },
  {
   "cell_type": "code",
   "execution_count": 192,
   "metadata": {},
   "outputs": [],
   "source": [
    "df3 = df.loc[:2130, ['finalserialno', 'a02']]"
   ]
  },
  {
   "cell_type": "code",
   "execution_count": 194,
   "metadata": {},
   "outputs": [
    {
     "data": {
      "text/html": [
       "<div>\n",
       "<style scoped>\n",
       "    .dataframe tbody tr th:only-of-type {\n",
       "        vertical-align: middle;\n",
       "    }\n",
       "\n",
       "    .dataframe tbody tr th {\n",
       "        vertical-align: top;\n",
       "    }\n",
       "\n",
       "    .dataframe thead th {\n",
       "        text-align: right;\n",
       "    }\n",
       "</style>\n",
       "<table border=\"1\" class=\"dataframe\">\n",
       "  <thead>\n",
       "    <tr style=\"text-align: right;\">\n",
       "      <th></th>\n",
       "      <th>finalserialno</th>\n",
       "      <th>Age</th>\n",
       "      <th>y09</th>\n",
       "      <th>finalserialno</th>\n",
       "      <th>y06</th>\n",
       "      <th>finalserialno</th>\n",
       "      <th>a02</th>\n",
       "    </tr>\n",
       "  </thead>\n",
       "  <tbody>\n",
       "    <tr>\n",
       "      <th>0</th>\n",
       "      <td>10115</td>\n",
       "      <td>21.0</td>\n",
       "      <td>Female</td>\n",
       "      <td>10115</td>\n",
       "      <td>No religion</td>\n",
       "      <td>10115.0</td>\n",
       "      <td>Labour</td>\n",
       "    </tr>\n",
       "    <tr>\n",
       "      <th>1</th>\n",
       "      <td>10119</td>\n",
       "      <td>53.0</td>\n",
       "      <td>Male</td>\n",
       "      <td>10119</td>\n",
       "      <td>Islam/Muslim</td>\n",
       "      <td>10119.0</td>\n",
       "      <td>None/No party</td>\n",
       "    </tr>\n",
       "    <tr>\n",
       "      <th>2</th>\n",
       "      <td>10125</td>\n",
       "      <td>56.0</td>\n",
       "      <td>Male</td>\n",
       "      <td>10125</td>\n",
       "      <td>No religion</td>\n",
       "      <td>10125.0</td>\n",
       "      <td>Don`t know</td>\n",
       "    </tr>\n",
       "    <tr>\n",
       "      <th>3</th>\n",
       "      <td>10215</td>\n",
       "      <td>65.0</td>\n",
       "      <td>Female</td>\n",
       "      <td>10215</td>\n",
       "      <td>Christian - no denomination</td>\n",
       "      <td>10215.0</td>\n",
       "      <td>Don`t know</td>\n",
       "    </tr>\n",
       "    <tr>\n",
       "      <th>4</th>\n",
       "      <td>10216</td>\n",
       "      <td>68.0</td>\n",
       "      <td>Female</td>\n",
       "      <td>10216</td>\n",
       "      <td>Christian - no denomination</td>\n",
       "      <td>10216.0</td>\n",
       "      <td>Labour</td>\n",
       "    </tr>\n",
       "    <tr>\n",
       "      <th>...</th>\n",
       "      <td>...</td>\n",
       "      <td>...</td>\n",
       "      <td>...</td>\n",
       "      <td>...</td>\n",
       "      <td>...</td>\n",
       "      <td>...</td>\n",
       "      <td>...</td>\n",
       "    </tr>\n",
       "    <tr>\n",
       "      <th>2189</th>\n",
       "      <td>69923</td>\n",
       "      <td>59.0</td>\n",
       "      <td>Female</td>\n",
       "      <td>69923</td>\n",
       "      <td>No religion</td>\n",
       "      <td>NaN</td>\n",
       "      <td>NaN</td>\n",
       "    </tr>\n",
       "    <tr>\n",
       "      <th>2190</th>\n",
       "      <td>69925</td>\n",
       "      <td>46.0</td>\n",
       "      <td>Female</td>\n",
       "      <td>69925</td>\n",
       "      <td>No religion</td>\n",
       "      <td>NaN</td>\n",
       "      <td>NaN</td>\n",
       "    </tr>\n",
       "    <tr>\n",
       "      <th>2191</th>\n",
       "      <td>70016</td>\n",
       "      <td>50.0</td>\n",
       "      <td>Female</td>\n",
       "      <td>70016</td>\n",
       "      <td>No religion</td>\n",
       "      <td>NaN</td>\n",
       "      <td>NaN</td>\n",
       "    </tr>\n",
       "    <tr>\n",
       "      <th>2192</th>\n",
       "      <td>70022</td>\n",
       "      <td>82.0</td>\n",
       "      <td>Female</td>\n",
       "      <td>70022</td>\n",
       "      <td>No religion</td>\n",
       "      <td>NaN</td>\n",
       "      <td>NaN</td>\n",
       "    </tr>\n",
       "    <tr>\n",
       "      <th>2193</th>\n",
       "      <td>70023</td>\n",
       "      <td>86.0</td>\n",
       "      <td>Male</td>\n",
       "      <td>70023</td>\n",
       "      <td>No religion</td>\n",
       "      <td>NaN</td>\n",
       "      <td>NaN</td>\n",
       "    </tr>\n",
       "  </tbody>\n",
       "</table>\n",
       "<p>2194 rows × 7 columns</p>\n",
       "</div>"
      ],
      "text/plain": [
       "      finalserialno   Age     y09  finalserialno                          y06  \\\n",
       "0             10115  21.0  Female          10115                  No religion   \n",
       "1             10119  53.0    Male          10119                 Islam/Muslim   \n",
       "2             10125  56.0    Male          10125                  No religion   \n",
       "3             10215  65.0  Female          10215  Christian - no denomination   \n",
       "4             10216  68.0  Female          10216  Christian - no denomination   \n",
       "...             ...   ...     ...            ...                          ...   \n",
       "2189          69923  59.0  Female          69923                  No religion   \n",
       "2190          69925  46.0  Female          69925                  No religion   \n",
       "2191          70016  50.0  Female          70016                  No religion   \n",
       "2192          70022  82.0  Female          70022                  No religion   \n",
       "2193          70023  86.0    Male          70023                  No religion   \n",
       "\n",
       "      finalserialno            a02  \n",
       "0           10115.0         Labour  \n",
       "1           10119.0  None/No party  \n",
       "2           10125.0     Don`t know  \n",
       "3           10215.0     Don`t know  \n",
       "4           10216.0         Labour  \n",
       "...             ...            ...  \n",
       "2189            NaN            NaN  \n",
       "2190            NaN            NaN  \n",
       "2191            NaN            NaN  \n",
       "2192            NaN            NaN  \n",
       "2193            NaN            NaN  \n",
       "\n",
       "[2194 rows x 7 columns]"
      ]
     },
     "execution_count": 194,
     "metadata": {},
     "output_type": "execute_result"
    }
   ],
   "source": [
    "pd.concat([df1, df2, df3], axis=1)"
   ]
  },
  {
   "cell_type": "markdown",
   "metadata": {},
   "source": [
    "## `pd.merge`"
   ]
  },
  {
   "cell_type": "code",
   "execution_count": 195,
   "metadata": {},
   "outputs": [
    {
     "data": {
      "text/html": [
       "<div>\n",
       "<style scoped>\n",
       "    .dataframe tbody tr th:only-of-type {\n",
       "        vertical-align: middle;\n",
       "    }\n",
       "\n",
       "    .dataframe tbody tr th {\n",
       "        vertical-align: top;\n",
       "    }\n",
       "\n",
       "    .dataframe thead th {\n",
       "        text-align: right;\n",
       "    }\n",
       "</style>\n",
       "<table border=\"1\" class=\"dataframe\">\n",
       "  <thead>\n",
       "    <tr style=\"text-align: right;\">\n",
       "      <th></th>\n",
       "      <th>finalserialno</th>\n",
       "      <th>Age</th>\n",
       "      <th>y09</th>\n",
       "      <th>y06</th>\n",
       "    </tr>\n",
       "  </thead>\n",
       "  <tbody>\n",
       "    <tr>\n",
       "      <th>0</th>\n",
       "      <td>10115</td>\n",
       "      <td>21.0</td>\n",
       "      <td>Female</td>\n",
       "      <td>No religion</td>\n",
       "    </tr>\n",
       "    <tr>\n",
       "      <th>1</th>\n",
       "      <td>10119</td>\n",
       "      <td>53.0</td>\n",
       "      <td>Male</td>\n",
       "      <td>Islam/Muslim</td>\n",
       "    </tr>\n",
       "    <tr>\n",
       "      <th>2</th>\n",
       "      <td>10125</td>\n",
       "      <td>56.0</td>\n",
       "      <td>Male</td>\n",
       "      <td>No religion</td>\n",
       "    </tr>\n",
       "    <tr>\n",
       "      <th>3</th>\n",
       "      <td>10215</td>\n",
       "      <td>65.0</td>\n",
       "      <td>Female</td>\n",
       "      <td>Christian - no denomination</td>\n",
       "    </tr>\n",
       "    <tr>\n",
       "      <th>4</th>\n",
       "      <td>10216</td>\n",
       "      <td>68.0</td>\n",
       "      <td>Female</td>\n",
       "      <td>Christian - no denomination</td>\n",
       "    </tr>\n",
       "    <tr>\n",
       "      <th>...</th>\n",
       "      <td>...</td>\n",
       "      <td>...</td>\n",
       "      <td>...</td>\n",
       "      <td>...</td>\n",
       "    </tr>\n",
       "    <tr>\n",
       "      <th>2189</th>\n",
       "      <td>69923</td>\n",
       "      <td>59.0</td>\n",
       "      <td>Female</td>\n",
       "      <td>No religion</td>\n",
       "    </tr>\n",
       "    <tr>\n",
       "      <th>2190</th>\n",
       "      <td>69925</td>\n",
       "      <td>46.0</td>\n",
       "      <td>Female</td>\n",
       "      <td>No religion</td>\n",
       "    </tr>\n",
       "    <tr>\n",
       "      <th>2191</th>\n",
       "      <td>70016</td>\n",
       "      <td>50.0</td>\n",
       "      <td>Female</td>\n",
       "      <td>No religion</td>\n",
       "    </tr>\n",
       "    <tr>\n",
       "      <th>2192</th>\n",
       "      <td>70022</td>\n",
       "      <td>82.0</td>\n",
       "      <td>Female</td>\n",
       "      <td>No religion</td>\n",
       "    </tr>\n",
       "    <tr>\n",
       "      <th>2193</th>\n",
       "      <td>70023</td>\n",
       "      <td>86.0</td>\n",
       "      <td>Male</td>\n",
       "      <td>No religion</td>\n",
       "    </tr>\n",
       "  </tbody>\n",
       "</table>\n",
       "<p>2194 rows × 4 columns</p>\n",
       "</div>"
      ],
      "text/plain": [
       "      finalserialno   Age     y09                          y06\n",
       "0             10115  21.0  Female                  No religion\n",
       "1             10119  53.0    Male                 Islam/Muslim\n",
       "2             10125  56.0    Male                  No religion\n",
       "3             10215  65.0  Female  Christian - no denomination\n",
       "4             10216  68.0  Female  Christian - no denomination\n",
       "...             ...   ...     ...                          ...\n",
       "2189          69923  59.0  Female                  No religion\n",
       "2190          69925  46.0  Female                  No religion\n",
       "2191          70016  50.0  Female                  No religion\n",
       "2192          70022  82.0  Female                  No religion\n",
       "2193          70023  86.0    Male                  No religion\n",
       "\n",
       "[2194 rows x 4 columns]"
      ]
     },
     "execution_count": 195,
     "metadata": {},
     "output_type": "execute_result"
    }
   ],
   "source": [
    "pd.merge(df1, df2, on=\"finalserialno\")"
   ]
  },
  {
   "cell_type": "code",
   "execution_count": 205,
   "metadata": {},
   "outputs": [],
   "source": [
    "df4 = df.loc[30:, ['finalserialno', 'y11']]"
   ]
  },
  {
   "cell_type": "code",
   "execution_count": 206,
   "metadata": {},
   "outputs": [
    {
     "name": "stdout",
     "output_type": "stream",
     "text": [
      "RangeIndex(start=0, stop=2131, step=1)\n",
      "RangeIndex(start=30, stop=2194, step=1)\n",
      "(2101, 3)\n",
      "(2131, 3)\n",
      "(2164, 3)\n",
      "(2194, 3)\n"
     ]
    }
   ],
   "source": [
    "print(df3.index)\n",
    "print(df4.index)\n",
    "for join in ['inner', 'left', 'right', 'outer']:\n",
    "    print(pd.merge(df3, df4, how=join, on=\"finalserialno\").shape)"
   ]
  },
  {
   "cell_type": "code",
   "execution_count": 209,
   "metadata": {},
   "outputs": [
    {
     "data": {
      "text/html": [
       "<div>\n",
       "<style scoped>\n",
       "    .dataframe tbody tr th:only-of-type {\n",
       "        vertical-align: middle;\n",
       "    }\n",
       "\n",
       "    .dataframe tbody tr th {\n",
       "        vertical-align: top;\n",
       "    }\n",
       "\n",
       "    .dataframe thead th {\n",
       "        text-align: right;\n",
       "    }\n",
       "</style>\n",
       "<table border=\"1\" class=\"dataframe\">\n",
       "  <thead>\n",
       "    <tr style=\"text-align: right;\">\n",
       "      <th></th>\n",
       "      <th>y11</th>\n",
       "    </tr>\n",
       "    <tr>\n",
       "      <th>serialno</th>\n",
       "      <th></th>\n",
       "    </tr>\n",
       "  </thead>\n",
       "  <tbody>\n",
       "    <tr>\n",
       "      <th>10817</th>\n",
       "      <td>English/Welsh/Scottish/Northern Irish/British</td>\n",
       "    </tr>\n",
       "    <tr>\n",
       "      <th>10821</th>\n",
       "      <td>English/Welsh/Scottish/Northern Irish/British</td>\n",
       "    </tr>\n",
       "    <tr>\n",
       "      <th>10823</th>\n",
       "      <td>English/Welsh/Scottish/Northern Irish/British</td>\n",
       "    </tr>\n",
       "    <tr>\n",
       "      <th>10916</th>\n",
       "      <td>English/Welsh/Scottish/Northern Irish/British</td>\n",
       "    </tr>\n",
       "    <tr>\n",
       "      <th>10917</th>\n",
       "      <td>English/Welsh/Scottish/Northern Irish/British</td>\n",
       "    </tr>\n",
       "    <tr>\n",
       "      <th>...</th>\n",
       "      <td>...</td>\n",
       "    </tr>\n",
       "    <tr>\n",
       "      <th>69923</th>\n",
       "      <td>English/Welsh/Scottish/Northern Irish/British</td>\n",
       "    </tr>\n",
       "    <tr>\n",
       "      <th>69925</th>\n",
       "      <td>English/Welsh/Scottish/Northern Irish/British</td>\n",
       "    </tr>\n",
       "    <tr>\n",
       "      <th>70016</th>\n",
       "      <td>English/Welsh/Scottish/Northern Irish/British</td>\n",
       "    </tr>\n",
       "    <tr>\n",
       "      <th>70022</th>\n",
       "      <td>English/Welsh/Scottish/Northern Irish/British</td>\n",
       "    </tr>\n",
       "    <tr>\n",
       "      <th>70023</th>\n",
       "      <td>English/Welsh/Scottish/Northern Irish/British</td>\n",
       "    </tr>\n",
       "  </tbody>\n",
       "</table>\n",
       "<p>2164 rows × 1 columns</p>\n",
       "</div>"
      ],
      "text/plain": [
       "                                                    y11\n",
       "serialno                                               \n",
       "10817     English/Welsh/Scottish/Northern Irish/British\n",
       "10821     English/Welsh/Scottish/Northern Irish/British\n",
       "10823     English/Welsh/Scottish/Northern Irish/British\n",
       "10916     English/Welsh/Scottish/Northern Irish/British\n",
       "10917     English/Welsh/Scottish/Northern Irish/British\n",
       "...                                                 ...\n",
       "69923     English/Welsh/Scottish/Northern Irish/British\n",
       "69925     English/Welsh/Scottish/Northern Irish/British\n",
       "70016     English/Welsh/Scottish/Northern Irish/British\n",
       "70022     English/Welsh/Scottish/Northern Irish/British\n",
       "70023     English/Welsh/Scottish/Northern Irish/British\n",
       "\n",
       "[2164 rows x 1 columns]"
      ]
     },
     "execution_count": 209,
     "metadata": {},
     "output_type": "execute_result"
    }
   ],
   "source": [
    "df4 = df4.rename({'finalserialno':'serialno'}, axis=1).set_index('serialno')\n",
    "df4"
   ]
  },
  {
   "cell_type": "code",
   "execution_count": 210,
   "metadata": {},
   "outputs": [
    {
     "data": {
      "text/html": [
       "<div>\n",
       "<style scoped>\n",
       "    .dataframe tbody tr th:only-of-type {\n",
       "        vertical-align: middle;\n",
       "    }\n",
       "\n",
       "    .dataframe tbody tr th {\n",
       "        vertical-align: top;\n",
       "    }\n",
       "\n",
       "    .dataframe thead th {\n",
       "        text-align: right;\n",
       "    }\n",
       "</style>\n",
       "<table border=\"1\" class=\"dataframe\">\n",
       "  <thead>\n",
       "    <tr style=\"text-align: right;\">\n",
       "      <th></th>\n",
       "      <th>finalserialno</th>\n",
       "      <th>a02</th>\n",
       "      <th>y11</th>\n",
       "    </tr>\n",
       "  </thead>\n",
       "  <tbody>\n",
       "    <tr>\n",
       "      <th>30</th>\n",
       "      <td>10817</td>\n",
       "      <td>None/No party</td>\n",
       "      <td>English/Welsh/Scottish/Northern Irish/British</td>\n",
       "    </tr>\n",
       "    <tr>\n",
       "      <th>31</th>\n",
       "      <td>10821</td>\n",
       "      <td>None/No party</td>\n",
       "      <td>English/Welsh/Scottish/Northern Irish/British</td>\n",
       "    </tr>\n",
       "    <tr>\n",
       "      <th>32</th>\n",
       "      <td>10823</td>\n",
       "      <td>None/No party</td>\n",
       "      <td>English/Welsh/Scottish/Northern Irish/British</td>\n",
       "    </tr>\n",
       "    <tr>\n",
       "      <th>33</th>\n",
       "      <td>10916</td>\n",
       "      <td>Conservatives</td>\n",
       "      <td>English/Welsh/Scottish/Northern Irish/British</td>\n",
       "    </tr>\n",
       "    <tr>\n",
       "      <th>34</th>\n",
       "      <td>10917</td>\n",
       "      <td>Labour</td>\n",
       "      <td>English/Welsh/Scottish/Northern Irish/British</td>\n",
       "    </tr>\n",
       "    <tr>\n",
       "      <th>...</th>\n",
       "      <td>...</td>\n",
       "      <td>...</td>\n",
       "      <td>...</td>\n",
       "    </tr>\n",
       "    <tr>\n",
       "      <th>2126</th>\n",
       "      <td>68423</td>\n",
       "      <td>None/No party</td>\n",
       "      <td>English/Welsh/Scottish/Northern Irish/British</td>\n",
       "    </tr>\n",
       "    <tr>\n",
       "      <th>2127</th>\n",
       "      <td>68425</td>\n",
       "      <td>Labour</td>\n",
       "      <td>English/Welsh/Scottish/Northern Irish/British</td>\n",
       "    </tr>\n",
       "    <tr>\n",
       "      <th>2128</th>\n",
       "      <td>68525</td>\n",
       "      <td>Conservatives</td>\n",
       "      <td>White and Black Caribbean</td>\n",
       "    </tr>\n",
       "    <tr>\n",
       "      <th>2129</th>\n",
       "      <td>68602</td>\n",
       "      <td>All of them/ more than one</td>\n",
       "      <td>English/Welsh/Scottish/Northern Irish/British</td>\n",
       "    </tr>\n",
       "    <tr>\n",
       "      <th>2130</th>\n",
       "      <td>68615</td>\n",
       "      <td>None/No party</td>\n",
       "      <td>English/Welsh/Scottish/Northern Irish/British</td>\n",
       "    </tr>\n",
       "  </tbody>\n",
       "</table>\n",
       "<p>2101 rows × 3 columns</p>\n",
       "</div>"
      ],
      "text/plain": [
       "      finalserialno                         a02  \\\n",
       "30            10817               None/No party   \n",
       "31            10821               None/No party   \n",
       "32            10823               None/No party   \n",
       "33            10916               Conservatives   \n",
       "34            10917                      Labour   \n",
       "...             ...                         ...   \n",
       "2126          68423               None/No party   \n",
       "2127          68425                      Labour   \n",
       "2128          68525               Conservatives   \n",
       "2129          68602  All of them/ more than one   \n",
       "2130          68615               None/No party   \n",
       "\n",
       "                                                y11  \n",
       "30    English/Welsh/Scottish/Northern Irish/British  \n",
       "31    English/Welsh/Scottish/Northern Irish/British  \n",
       "32    English/Welsh/Scottish/Northern Irish/British  \n",
       "33    English/Welsh/Scottish/Northern Irish/British  \n",
       "34    English/Welsh/Scottish/Northern Irish/British  \n",
       "...                                             ...  \n",
       "2126  English/Welsh/Scottish/Northern Irish/British  \n",
       "2127  English/Welsh/Scottish/Northern Irish/British  \n",
       "2128                      White and Black Caribbean  \n",
       "2129  English/Welsh/Scottish/Northern Irish/British  \n",
       "2130  English/Welsh/Scottish/Northern Irish/British  \n",
       "\n",
       "[2101 rows x 3 columns]"
      ]
     },
     "execution_count": 210,
     "metadata": {},
     "output_type": "execute_result"
    }
   ],
   "source": [
    "pd.merge(df3, df4, how=\"outer\", left_on=\"finalserialno\", right_index=True)"
   ]
  },
  {
   "cell_type": "markdown",
   "metadata": {},
   "source": [
    "# Melting and Pivoting"
   ]
  },
  {
   "cell_type": "code",
   "execution_count": 258,
   "metadata": {},
   "outputs": [
    {
     "data": {
      "text/html": [
       "<div>\n",
       "<style scoped>\n",
       "    .dataframe tbody tr th:only-of-type {\n",
       "        vertical-align: middle;\n",
       "    }\n",
       "\n",
       "    .dataframe tbody tr th {\n",
       "        vertical-align: top;\n",
       "    }\n",
       "\n",
       "    .dataframe thead th {\n",
       "        text-align: right;\n",
       "    }\n",
       "</style>\n",
       "<table border=\"1\" class=\"dataframe\">\n",
       "  <thead>\n",
       "    <tr style=\"text-align: right;\">\n",
       "      <th></th>\n",
       "      <th>Constituency</th>\n",
       "      <th>Year</th>\n",
       "      <th>Party</th>\n",
       "    </tr>\n",
       "  </thead>\n",
       "  <tbody>\n",
       "    <tr>\n",
       "      <th>0</th>\n",
       "      <td>Oxford West</td>\n",
       "      <td>2010</td>\n",
       "      <td>Labour</td>\n",
       "    </tr>\n",
       "    <tr>\n",
       "      <th>1</th>\n",
       "      <td>Oxford East</td>\n",
       "      <td>2010</td>\n",
       "      <td>Tory</td>\n",
       "    </tr>\n",
       "    <tr>\n",
       "      <th>2</th>\n",
       "      <td>Oxford West</td>\n",
       "      <td>2015</td>\n",
       "      <td>Labour</td>\n",
       "    </tr>\n",
       "    <tr>\n",
       "      <th>3</th>\n",
       "      <td>Oxford East</td>\n",
       "      <td>2015</td>\n",
       "      <td>Tory</td>\n",
       "    </tr>\n",
       "    <tr>\n",
       "      <th>4</th>\n",
       "      <td>Oxford West</td>\n",
       "      <td>2017</td>\n",
       "      <td>Labour</td>\n",
       "    </tr>\n",
       "    <tr>\n",
       "      <th>5</th>\n",
       "      <td>Oxford East</td>\n",
       "      <td>2017</td>\n",
       "      <td>LibDem</td>\n",
       "    </tr>\n",
       "    <tr>\n",
       "      <th>6</th>\n",
       "      <td>Oxford West</td>\n",
       "      <td>2019</td>\n",
       "      <td>Labour</td>\n",
       "    </tr>\n",
       "    <tr>\n",
       "      <th>7</th>\n",
       "      <td>Oxford East</td>\n",
       "      <td>2019</td>\n",
       "      <td>LibDem</td>\n",
       "    </tr>\n",
       "  </tbody>\n",
       "</table>\n",
       "</div>"
      ],
      "text/plain": [
       "  Constituency  Year   Party\n",
       "0  Oxford West  2010  Labour\n",
       "1  Oxford East  2010    Tory\n",
       "2  Oxford West  2015  Labour\n",
       "3  Oxford East  2015    Tory\n",
       "4  Oxford West  2017  Labour\n",
       "5  Oxford East  2017  LibDem\n",
       "6  Oxford West  2019  Labour\n",
       "7  Oxford East  2019  LibDem"
      ]
     },
     "execution_count": 258,
     "metadata": {},
     "output_type": "execute_result"
    }
   ],
   "source": [
    "long_df = pd.DataFrame({\n",
    "    \"Constituency\": ['Oxford West', 'Oxford East']*4,\n",
    "    \"Year\": [2010, 2010, 2015, 2015, 2017, 2017, 2019, 2019],\n",
    "    \"Party\": [\"Labour\", \"Tory\"]*2+[\"Labour\", \"LibDem\"]*2\n",
    "})\n",
    "\n",
    "long_df"
   ]
  },
  {
   "cell_type": "code",
   "execution_count": 261,
   "metadata": {},
   "outputs": [
    {
     "data": {
      "text/html": [
       "<div>\n",
       "<style scoped>\n",
       "    .dataframe tbody tr th:only-of-type {\n",
       "        vertical-align: middle;\n",
       "    }\n",
       "\n",
       "    .dataframe tbody tr th {\n",
       "        vertical-align: top;\n",
       "    }\n",
       "\n",
       "    .dataframe thead th {\n",
       "        text-align: right;\n",
       "    }\n",
       "</style>\n",
       "<table border=\"1\" class=\"dataframe\">\n",
       "  <thead>\n",
       "    <tr style=\"text-align: right;\">\n",
       "      <th>Year</th>\n",
       "      <th>2010</th>\n",
       "      <th>2015</th>\n",
       "      <th>2017</th>\n",
       "      <th>2019</th>\n",
       "    </tr>\n",
       "    <tr>\n",
       "      <th>Constituency</th>\n",
       "      <th></th>\n",
       "      <th></th>\n",
       "      <th></th>\n",
       "      <th></th>\n",
       "    </tr>\n",
       "  </thead>\n",
       "  <tbody>\n",
       "    <tr>\n",
       "      <th>Oxford East</th>\n",
       "      <td>Tory</td>\n",
       "      <td>Tory</td>\n",
       "      <td>LibDem</td>\n",
       "      <td>LibDem</td>\n",
       "    </tr>\n",
       "    <tr>\n",
       "      <th>Oxford West</th>\n",
       "      <td>Labour</td>\n",
       "      <td>Labour</td>\n",
       "      <td>Labour</td>\n",
       "      <td>Labour</td>\n",
       "    </tr>\n",
       "  </tbody>\n",
       "</table>\n",
       "</div>"
      ],
      "text/plain": [
       "Year            2010    2015    2017    2019\n",
       "Constituency                                \n",
       "Oxford East     Tory    Tory  LibDem  LibDem\n",
       "Oxford West   Labour  Labour  Labour  Labour"
      ]
     },
     "execution_count": 261,
     "metadata": {},
     "output_type": "execute_result"
    }
   ],
   "source": [
    "wide_df = long_df.pivot(index=\"Constituency\", columns=\"Year\", values=\"Party\")\n",
    "wide_df"
   ]
  },
  {
   "cell_type": "code",
   "execution_count": 277,
   "metadata": {},
   "outputs": [
    {
     "data": {
      "text/html": [
       "<div>\n",
       "<style scoped>\n",
       "    .dataframe tbody tr th:only-of-type {\n",
       "        vertical-align: middle;\n",
       "    }\n",
       "\n",
       "    .dataframe tbody tr th {\n",
       "        vertical-align: top;\n",
       "    }\n",
       "\n",
       "    .dataframe thead th {\n",
       "        text-align: right;\n",
       "    }\n",
       "</style>\n",
       "<table border=\"1\" class=\"dataframe\">\n",
       "  <thead>\n",
       "    <tr style=\"text-align: right;\">\n",
       "      <th></th>\n",
       "      <th>Constituency</th>\n",
       "      <th>Year</th>\n",
       "      <th>value</th>\n",
       "    </tr>\n",
       "  </thead>\n",
       "  <tbody>\n",
       "    <tr>\n",
       "      <th>0</th>\n",
       "      <td>Oxford East</td>\n",
       "      <td>2010</td>\n",
       "      <td>Tory</td>\n",
       "    </tr>\n",
       "    <tr>\n",
       "      <th>1</th>\n",
       "      <td>Oxford West</td>\n",
       "      <td>2010</td>\n",
       "      <td>Labour</td>\n",
       "    </tr>\n",
       "    <tr>\n",
       "      <th>2</th>\n",
       "      <td>Oxford East</td>\n",
       "      <td>2015</td>\n",
       "      <td>Tory</td>\n",
       "    </tr>\n",
       "    <tr>\n",
       "      <th>3</th>\n",
       "      <td>Oxford West</td>\n",
       "      <td>2015</td>\n",
       "      <td>Labour</td>\n",
       "    </tr>\n",
       "    <tr>\n",
       "      <th>4</th>\n",
       "      <td>Oxford East</td>\n",
       "      <td>2017</td>\n",
       "      <td>LibDem</td>\n",
       "    </tr>\n",
       "    <tr>\n",
       "      <th>5</th>\n",
       "      <td>Oxford West</td>\n",
       "      <td>2017</td>\n",
       "      <td>Labour</td>\n",
       "    </tr>\n",
       "    <tr>\n",
       "      <th>6</th>\n",
       "      <td>Oxford East</td>\n",
       "      <td>2019</td>\n",
       "      <td>LibDem</td>\n",
       "    </tr>\n",
       "    <tr>\n",
       "      <th>7</th>\n",
       "      <td>Oxford West</td>\n",
       "      <td>2019</td>\n",
       "      <td>Labour</td>\n",
       "    </tr>\n",
       "  </tbody>\n",
       "</table>\n",
       "</div>"
      ],
      "text/plain": [
       "  Constituency  Year   value\n",
       "0  Oxford East  2010    Tory\n",
       "1  Oxford West  2010  Labour\n",
       "2  Oxford East  2015    Tory\n",
       "3  Oxford West  2015  Labour\n",
       "4  Oxford East  2017  LibDem\n",
       "5  Oxford West  2017  Labour\n",
       "6  Oxford East  2019  LibDem\n",
       "7  Oxford West  2019  Labour"
      ]
     },
     "execution_count": 277,
     "metadata": {},
     "output_type": "execute_result"
    }
   ],
   "source": [
    "wide_df.reset_index().melt(id_vars=\"Constituency\", value_vars=[2010, 2015, 2017, 2019], var_name=\"Year\")"
   ]
  }
 ],
 "metadata": {
  "kernelspec": {
   "display_name": "teaching",
   "language": "python",
   "name": "teaching"
  },
  "language_info": {
   "codemirror_mode": {
    "name": "ipython",
    "version": 3
   },
   "file_extension": ".py",
   "mimetype": "text/x-python",
   "name": "python",
   "nbconvert_exporter": "python",
   "pygments_lexer": "ipython3",
   "version": "3.7.6"
  }
 },
 "nbformat": 4,
 "nbformat_minor": 4
}
