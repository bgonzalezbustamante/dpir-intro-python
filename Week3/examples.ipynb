{
 "cells": [
  {
   "cell_type": "markdown",
   "metadata": {
    "slideshow": {
     "slide_type": "subslide"
    }
   },
   "source": [
    " # Functions"
   ]
  },
  {
   "cell_type": "markdown",
   "metadata": {
    "slideshow": {
     "slide_type": "subslide"
    }
   },
   "source": [
    "## Defining Functions in Python\n",
    "\n",
    "Defining functions in python is very simple:"
   ]
  },
  {
   "cell_type": "code",
   "execution_count": 1,
   "metadata": {
    "slideshow": {
     "slide_type": "subslide"
    }
   },
   "outputs": [],
   "source": [
    "def my_first_function(input):\n",
    "    output = 2*input\n",
    "    return output"
   ]
  },
  {
   "cell_type": "markdown",
   "metadata": {
    "slideshow": {
     "slide_type": "subslide"
    }
   },
   "source": [
    "To use the function, simply run it elsewhere once it has been defined:"
   ]
  },
  {
   "cell_type": "code",
   "execution_count": 2,
   "metadata": {
    "slideshow": {
     "slide_type": "subslide"
    }
   },
   "outputs": [
    {
     "data": {
      "text/plain": [
       "10"
      ]
     },
     "execution_count": 2,
     "metadata": {},
     "output_type": "execute_result"
    }
   ],
   "source": [
    "my_first_function(5)"
   ]
  },
  {
   "cell_type": "markdown",
   "metadata": {
    "slideshow": {
     "slide_type": "subslide"
    }
   },
   "source": [
    "Note the indentation when writing functions. To end the function, leave a blank line and remove the indent."
   ]
  },
  {
   "cell_type": "code",
   "execution_count": 3,
   "metadata": {
    "slideshow": {
     "slide_type": "subslide"
    }
   },
   "outputs": [
    {
     "data": {
      "text/plain": [
       "6"
      ]
     },
     "execution_count": 3,
     "metadata": {},
     "output_type": "execute_result"
    }
   ],
   "source": [
    "def my_second_function(x):\n",
    "    y = int(x/2)\n",
    "    return y \n",
    "\n",
    "my_second_function(12)"
   ]
  },
  {
   "cell_type": "markdown",
   "metadata": {
    "slideshow": {
     "slide_type": "subslide"
    }
   },
   "source": [
    "### _Docstrings_\n",
    "\n",
    "We can write documentation for our functions, called a _docstring_, by adding writing a string in the line following the `def` call:"
   ]
  },
  {
   "cell_type": "code",
   "execution_count": 5,
   "metadata": {
    "slideshow": {
     "slide_type": "subslide"
    }
   },
   "outputs": [
    {
     "data": {
      "text/plain": [
       "'stac41234'"
      ]
     },
     "execution_count": 5,
     "metadata": {},
     "output_type": "execute_result"
    }
   ],
   "source": [
    "def my_documented_function(input1, input2):\n",
    "    \"\"\"\n",
    "    This function converts inputs to string,\n",
    "    concatenates the input, then reverses the order.\n",
    "    \"\"\"\n",
    "    in1 = str(input1)\n",
    "    in2 = str(input2)\n",
    "    combi = in1+in2\n",
    "    return combi[::-1]    \n",
    "\n",
    "my_documented_function(43214, 'cats')"
   ]
  },
  {
   "cell_type": "code",
   "execution_count": 6,
   "metadata": {
    "slideshow": {
     "slide_type": "subslide"
    }
   },
   "outputs": [],
   "source": [
    "my_documented_function?"
   ]
  },
  {
   "cell_type": "markdown",
   "metadata": {
    "slideshow": {
     "slide_type": "subslide"
    }
   },
   "source": [
    "### _Default Values_\n",
    "\n",
    "- We can give arguments default values when defining a function.\n",
    "- Arguments taking default values become optional arguments; we do not have to pass a value each time we call the function.\n"
   ]
  },
  {
   "cell_type": "code",
   "execution_count": 7,
   "metadata": {
    "slideshow": {
     "slide_type": "subslide"
    }
   },
   "outputs": [
    {
     "name": "stdout",
     "output_type": "stream",
     "text": [
      "1. I love dogs.\n",
      "2. I love \n",
      "3._I_love_dogs.\n",
      "4. I love bogs.\n",
      "5. I love cats.\n"
     ]
    }
   ],
   "source": [
    "def function_with_defaults(x, replace=\" \", val=\" \"):\n",
    "    \"Casts input to string, replaces `replace` with `val`, prints result. Returns None\"\n",
    "    y = str(x)\n",
    "    y = y.replace(replace, val)\n",
    "    print(y)\n",
    "\n",
    "function_with_defaults(\"1. I love dogs.\")\n",
    "function_with_defaults(\"2. I love dogs.\", \" dogs.\")\n",
    "function_with_defaults(\"3. I love dogs.\", val=\"_\")\n",
    "function_with_defaults(\"4. I love dogs.\", \"d\", \"b\")\n",
    "function_with_defaults(\"5. I love dogs.\", \"dog\", \"cat\")"
   ]
  },
  {
   "cell_type": "markdown",
   "metadata": {
    "slideshow": {
     "slide_type": "subslide"
    }
   },
   "source": [
    "### Namespaces\n",
    "\n",
    "Recall the difference between local and global namespace.\n",
    "\n",
    "- Variables named within functions are not accessible outside the function.\n",
    "- When a variable is called within a function, the program first checks if it is defined locally, then checks if it is defined globally."
   ]
  },
  {
   "cell_type": "code",
   "execution_count": 8,
   "metadata": {
    "slideshow": {
     "slide_type": "subslide"
    }
   },
   "outputs": [
    {
     "ename": "NameError",
     "evalue": "name 'some_local_variable' is not defined",
     "output_type": "error",
     "traceback": [
      "\u001b[0;31m---------------------------------------\u001b[0m",
      "\u001b[0;31mNameError\u001b[0mTraceback (most recent call last)",
      "\u001b[0;32m<ipython-input-8-0895eacfcc57>\u001b[0m in \u001b[0;36m<module>\u001b[0;34m\u001b[0m\n\u001b[1;32m      2\u001b[0m     \u001b[0msome_local_variable\u001b[0m \u001b[0;34m=\u001b[0m \u001b[0;36m12\u001b[0m\u001b[0;34m\u001b[0m\u001b[0;34m\u001b[0m\u001b[0m\n\u001b[1;32m      3\u001b[0m \u001b[0;34m\u001b[0m\u001b[0m\n\u001b[0;32m----> 4\u001b[0;31m \u001b[0mprint\u001b[0m\u001b[0;34m(\u001b[0m\u001b[0msome_local_variable\u001b[0m\u001b[0;34m)\u001b[0m\u001b[0;34m\u001b[0m\u001b[0;34m\u001b[0m\u001b[0m\n\u001b[0m",
      "\u001b[0;31mNameError\u001b[0m: name 'some_local_variable' is not defined"
     ]
    }
   ],
   "source": [
    "def function_with_local():\n",
    "    some_local_variable = 12\n",
    "    \n",
    "print(some_local_variable)"
   ]
  },
  {
   "cell_type": "code",
   "execution_count": 12,
   "metadata": {
    "slideshow": {
     "slide_type": "subslide"
    }
   },
   "outputs": [
    {
     "name": "stdout",
     "output_type": "stream",
     "text": [
      "Global A\n",
      "Local A\n",
      "Argument A\n"
     ]
    }
   ],
   "source": [
    "a = \"Global A\"\n",
    "\n",
    "def function1():\n",
    "    print(a)\n",
    "    \n",
    "def function2():\n",
    "    a = \"Local A\"\n",
    "    print(a)\n",
    "    \n",
    "def function3(a):\n",
    "    print(a)\n",
    "\n",
    "function1()\n",
    "function2()\n",
    "function3(\"Argument A\")"
   ]
  },
  {
   "cell_type": "markdown",
   "metadata": {
    "slideshow": {
     "slide_type": "subslide"
    }
   },
   "source": [
    "### Namespaces Take Away\n",
    "\n",
    "When defining variables within the global environment, use _unique, specific and informative names_. When working within functions, give generic names that inform what the argument or variable is doing."
   ]
  },
  {
   "cell_type": "markdown",
   "metadata": {
    "slideshow": {
     "slide_type": "subslide"
    }
   },
   "source": [
    "# Applying Functions to Vectors\n",
    "\n",
    "We go over a variety of ways in which you may apply a function to a `pandas.Series` or `pandas.DataFrame`.\n",
    "\n",
    "- Transformations:\n",
    "    - Element-wise Operations\n",
    "    - Cumulative Operations\n",
    "- Summaries:\n",
    "    - Point Summaries\n",
    "    - Grouped Summaries"
   ]
  },
  {
   "cell_type": "markdown",
   "metadata": {
    "slideshow": {
     "slide_type": "subslide"
    }
   },
   "source": [
    "## Element-wise Operations on a Series\n",
    "\n",
    "We can use the `pd.Series.apply()` method to apply a function element-wise to a pandas Series."
   ]
  },
  {
   "cell_type": "code",
   "execution_count": 13,
   "metadata": {
    "slideshow": {
     "slide_type": "subslide"
    }
   },
   "outputs": [
    {
     "data": {
      "text/plain": [
       "0     0\n",
       "1     2\n",
       "2     4\n",
       "3     6\n",
       "4     8\n",
       "5    10\n",
       "dtype: int64"
      ]
     },
     "execution_count": 13,
     "metadata": {},
     "output_type": "execute_result"
    }
   ],
   "source": [
    "import pandas as pd\n",
    "\n",
    "ser = pd.Series(range(0, 12, 2)) # range(start, stop, step)\n",
    "ser"
   ]
  },
  {
   "cell_type": "code",
   "execution_count": 14,
   "metadata": {
    "slideshow": {
     "slide_type": "subslide"
    }
   },
   "outputs": [
    {
     "data": {
      "text/plain": [
       "0      0\n",
       "1      4\n",
       "2     16\n",
       "3     36\n",
       "4     64\n",
       "5    100\n",
       "dtype: int64"
      ]
     },
     "execution_count": 14,
     "metadata": {},
     "output_type": "execute_result"
    }
   ],
   "source": [
    "def square(x):\n",
    "    y = x**2\n",
    "    return y\n",
    "\n",
    "ser.apply(square)"
   ]
  },
  {
   "cell_type": "code",
   "execution_count": 20,
   "metadata": {
    "slideshow": {
     "slide_type": "subslide"
    }
   },
   "outputs": [
    {
     "data": {
      "text/plain": [
       "0       0\n",
       "1       8\n",
       "2      64\n",
       "3     216\n",
       "4     512\n",
       "5    1000\n",
       "dtype: int64"
      ]
     },
     "execution_count": 20,
     "metadata": {},
     "output_type": "execute_result"
    }
   ],
   "source": [
    "def exponentiate(x, e=3):\n",
    "    y = x**e\n",
    "    return y\n",
    "\n",
    "ser.apply(lambda x: exponentiate(x, 3))\n",
    "ser.apply(exponentiate)"
   ]
  },
  {
   "cell_type": "code",
   "execution_count": 16,
   "metadata": {
    "slideshow": {
     "slide_type": "subslide"
    }
   },
   "outputs": [
    {
     "data": {
      "text/plain": [
       "0       0\n",
       "1       8\n",
       "2      64\n",
       "3     216\n",
       "4     512\n",
       "5    1000\n",
       "dtype: int64"
      ]
     },
     "execution_count": 16,
     "metadata": {},
     "output_type": "execute_result"
    }
   ],
   "source": [
    "ser.apply(lambda x: x**3)"
   ]
  },
  {
   "cell_type": "code",
   "execution_count": 21,
   "metadata": {
    "slideshow": {
     "slide_type": "subslide"
    }
   },
   "outputs": [
    {
     "data": {
      "text/plain": [
       "0    0.000000\n",
       "1    1.414214\n",
       "2    2.000000\n",
       "3    2.449490\n",
       "4    2.828427\n",
       "5    3.162278\n",
       "dtype: float64"
      ]
     },
     "execution_count": 21,
     "metadata": {},
     "output_type": "execute_result"
    }
   ],
   "source": [
    "e = 1/2\n",
    "ser.apply(lambda x: x**e)"
   ]
  },
  {
   "cell_type": "markdown",
   "metadata": {
    "slideshow": {
     "slide_type": "subslide"
    }
   },
   "source": [
    "## Cumulative Operations on a Series\n",
    "\n",
    "In order to use cumulative operations, we can either use a `cum` function, or the `pd.Series.expanding` method."
   ]
  },
  {
   "cell_type": "code",
   "execution_count": 22,
   "metadata": {
    "slideshow": {
     "slide_type": "subslide"
    }
   },
   "outputs": [
    {
     "data": {
      "text/plain": [
       "0     0\n",
       "1     2\n",
       "2     6\n",
       "3    12\n",
       "4    20\n",
       "5    30\n",
       "dtype: int64"
      ]
     },
     "execution_count": 22,
     "metadata": {},
     "output_type": "execute_result"
    }
   ],
   "source": [
    "ser.cumsum()"
   ]
  },
  {
   "cell_type": "code",
   "execution_count": null,
   "metadata": {
    "slideshow": {
     "slide_type": "subslide"
    }
   },
   "outputs": [],
   "source": [
    "ser.expanding()"
   ]
  },
  {
   "cell_type": "code",
   "execution_count": null,
   "metadata": {
    "slideshow": {
     "slide_type": "subslide"
    }
   },
   "outputs": [],
   "source": [
    "ser.expanding().sum()"
   ]
  },
  {
   "cell_type": "code",
   "execution_count": null,
   "metadata": {
    "slideshow": {
     "slide_type": "subslide"
    }
   },
   "outputs": [],
   "source": [
    "ser.expanding(2).sum() # We can set the minimum period within the expand function."
   ]
  },
  {
   "cell_type": "markdown",
   "metadata": {
    "slideshow": {
     "slide_type": "subslide"
    }
   },
   "source": [
    "We can also use apply with a DataFrame. In this case, each row (axis=0) or column (axis=1) is treated as an element."
   ]
  },
  {
   "cell_type": "code",
   "execution_count": 23,
   "metadata": {
    "slideshow": {
     "slide_type": "subslide"
    }
   },
   "outputs": [
    {
     "data": {
      "text/html": [
       "<div>\n",
       "<style scoped>\n",
       "    .dataframe tbody tr th:only-of-type {\n",
       "        vertical-align: middle;\n",
       "    }\n",
       "\n",
       "    .dataframe tbody tr th {\n",
       "        vertical-align: top;\n",
       "    }\n",
       "\n",
       "    .dataframe thead th {\n",
       "        text-align: right;\n",
       "    }\n",
       "</style>\n",
       "<table border=\"1\" class=\"dataframe\">\n",
       "  <thead>\n",
       "    <tr style=\"text-align: right;\">\n",
       "      <th></th>\n",
       "      <th>col1</th>\n",
       "      <th>col2</th>\n",
       "      <th>col3</th>\n",
       "    </tr>\n",
       "  </thead>\n",
       "  <tbody>\n",
       "    <tr>\n",
       "      <th>0</th>\n",
       "      <td>-15</td>\n",
       "      <td>47</td>\n",
       "      <td>21</td>\n",
       "    </tr>\n",
       "    <tr>\n",
       "      <th>1</th>\n",
       "      <td>-19</td>\n",
       "      <td>-14</td>\n",
       "      <td>-95</td>\n",
       "    </tr>\n",
       "    <tr>\n",
       "      <th>2</th>\n",
       "      <td>13</td>\n",
       "      <td>2</td>\n",
       "      <td>76</td>\n",
       "    </tr>\n",
       "    <tr>\n",
       "      <th>3</th>\n",
       "      <td>-28</td>\n",
       "      <td>-65</td>\n",
       "      <td>48</td>\n",
       "    </tr>\n",
       "    <tr>\n",
       "      <th>4</th>\n",
       "      <td>-38</td>\n",
       "      <td>-4</td>\n",
       "      <td>82</td>\n",
       "    </tr>\n",
       "  </tbody>\n",
       "</table>\n",
       "</div>"
      ],
      "text/plain": [
       "   col1  col2  col3\n",
       "0   -15    47    21\n",
       "1   -19   -14   -95\n",
       "2    13     2    76\n",
       "3   -28   -65    48\n",
       "4   -38    -4    82"
      ]
     },
     "execution_count": 23,
     "metadata": {},
     "output_type": "execute_result"
    }
   ],
   "source": [
    "df = pd.DataFrame({\n",
    "    'col1': pd.np.random.randint(-100, 100, 5),\n",
    "    'col2': pd.np.random.randint(-100, 100, 5),\n",
    "    'col3': pd.np.random.randint(-100, 100, 5)\n",
    "})\n",
    "df"
   ]
  },
  {
   "cell_type": "code",
   "execution_count": 24,
   "metadata": {
    "slideshow": {
     "slide_type": "subslide"
    }
   },
   "outputs": [
    {
     "data": {
      "text/plain": [
       "col1   -17.4\n",
       "col2    -6.8\n",
       "col3    26.4\n",
       "dtype: float64"
      ]
     },
     "execution_count": 24,
     "metadata": {},
     "output_type": "execute_result"
    }
   ],
   "source": [
    "df.apply(lambda x: x.mean(), axis=0)"
   ]
  },
  {
   "cell_type": "code",
   "execution_count": 25,
   "metadata": {
    "slideshow": {
     "slide_type": "subslide"
    }
   },
   "outputs": [
    {
     "data": {
      "text/plain": [
       "0     53\n",
       "1   -128\n",
       "2     91\n",
       "3    -45\n",
       "4     40\n",
       "dtype: int64"
      ]
     },
     "execution_count": 25,
     "metadata": {},
     "output_type": "execute_result"
    }
   ],
   "source": [
    "df.apply(lambda x: x.sum(), axis=1)"
   ]
  },
  {
   "cell_type": "code",
   "execution_count": 26,
   "metadata": {
    "slideshow": {
     "slide_type": "subslide"
    }
   },
   "outputs": [
    {
     "data": {
      "text/html": [
       "<div>\n",
       "<style scoped>\n",
       "    .dataframe tbody tr th:only-of-type {\n",
       "        vertical-align: middle;\n",
       "    }\n",
       "\n",
       "    .dataframe tbody tr th {\n",
       "        vertical-align: top;\n",
       "    }\n",
       "\n",
       "    .dataframe thead th {\n",
       "        text-align: right;\n",
       "    }\n",
       "</style>\n",
       "<table border=\"1\" class=\"dataframe\">\n",
       "  <thead>\n",
       "    <tr style=\"text-align: right;\">\n",
       "      <th></th>\n",
       "      <th>col1</th>\n",
       "      <th>col2</th>\n",
       "      <th>col3</th>\n",
       "    </tr>\n",
       "  </thead>\n",
       "  <tbody>\n",
       "    <tr>\n",
       "      <th>0</th>\n",
       "      <td>3.872983</td>\n",
       "      <td>6.855655</td>\n",
       "      <td>4.582576</td>\n",
       "    </tr>\n",
       "    <tr>\n",
       "      <th>1</th>\n",
       "      <td>4.358899</td>\n",
       "      <td>3.741657</td>\n",
       "      <td>9.746794</td>\n",
       "    </tr>\n",
       "    <tr>\n",
       "      <th>2</th>\n",
       "      <td>3.605551</td>\n",
       "      <td>1.414214</td>\n",
       "      <td>8.717798</td>\n",
       "    </tr>\n",
       "    <tr>\n",
       "      <th>3</th>\n",
       "      <td>5.291503</td>\n",
       "      <td>8.062258</td>\n",
       "      <td>6.928203</td>\n",
       "    </tr>\n",
       "    <tr>\n",
       "      <th>4</th>\n",
       "      <td>6.164414</td>\n",
       "      <td>2.000000</td>\n",
       "      <td>9.055385</td>\n",
       "    </tr>\n",
       "  </tbody>\n",
       "</table>\n",
       "</div>"
      ],
      "text/plain": [
       "       col1      col2      col3\n",
       "0  3.872983  6.855655  4.582576\n",
       "1  4.358899  3.741657  9.746794\n",
       "2  3.605551  1.414214  8.717798\n",
       "3  5.291503  8.062258  6.928203\n",
       "4  6.164414  2.000000  9.055385"
      ]
     },
     "execution_count": 26,
     "metadata": {},
     "output_type": "execute_result"
    }
   ],
   "source": [
    "df.applymap(lambda x: abs(x)**0.5)"
   ]
  },
  {
   "cell_type": "markdown",
   "metadata": {
    "slideshow": {
     "slide_type": "subslide"
    }
   },
   "source": [
    "## Point Summaries\n",
    "\n",
    "We have already looked at a number of point summary functions in the previous week.\n",
    "\n",
    "- `pd.Series.mean()`\n",
    "- `pd.Series.sum()`\n",
    "\n",
    "We do not spend more time on them here."
   ]
  },
  {
   "cell_type": "markdown",
   "metadata": {
    "slideshow": {
     "slide_type": "subslide"
    }
   },
   "source": [
    "## Grouped Summaries\n",
    "\n",
    "The syntax for group summaries is [explained in detail in the lecture](https://muhark.github.io/dpir-intro-python/Week3/lecture.html#/groupby-syntax-simple-group-operations)."
   ]
  },
  {
   "cell_type": "code",
   "execution_count": 30,
   "metadata": {
    "slideshow": {
     "slide_type": "subslide"
    }
   },
   "outputs": [],
   "source": [
    "df = pd.read_feather(\"../Week2/data/bes_data_subset_week2.feather\")\n",
    "\n",
    "# df = pd.read_csv(\"../Week2/data/bes_data_subset_week2.csv\")"
   ]
  },
  {
   "cell_type": "code",
   "execution_count": 31,
   "metadata": {
    "slideshow": {
     "slide_type": "subslide"
    }
   },
   "outputs": [
    {
     "data": {
      "text/plain": [
       "region\n",
       "East Midlands         54\n",
       "Eastern               54\n",
       "London                46\n",
       "North East            54\n",
       "North West            51\n",
       "Scotland              53\n",
       "South East            51\n",
       "South West            54\n",
       "Wales                 51\n",
       "West Midlands         54\n",
       "Yorkshire & Humber    53\n",
       "Name: Age, dtype: int64"
      ]
     },
     "execution_count": 31,
     "metadata": {},
     "output_type": "execute_result"
    }
   ],
   "source": [
    "df.groupby('region')['Age'].mean().astype('int')"
   ]
  },
  {
   "cell_type": "code",
   "execution_count": 32,
   "metadata": {
    "slideshow": {
     "slide_type": "subslide"
    }
   },
   "outputs": [
    {
     "data": {
      "text/html": [
       "<div>\n",
       "<style scoped>\n",
       "    .dataframe tbody tr th:only-of-type {\n",
       "        vertical-align: middle;\n",
       "    }\n",
       "\n",
       "    .dataframe tbody tr th {\n",
       "        vertical-align: top;\n",
       "    }\n",
       "\n",
       "    .dataframe thead th {\n",
       "        text-align: right;\n",
       "    }\n",
       "</style>\n",
       "<table border=\"1\" class=\"dataframe\">\n",
       "  <thead>\n",
       "    <tr style=\"text-align: right;\">\n",
       "      <th></th>\n",
       "      <th>Age</th>\n",
       "    </tr>\n",
       "    <tr>\n",
       "      <th>region</th>\n",
       "      <th></th>\n",
       "    </tr>\n",
       "  </thead>\n",
       "  <tbody>\n",
       "    <tr>\n",
       "      <th>East Midlands</th>\n",
       "      <td>54.903226</td>\n",
       "    </tr>\n",
       "    <tr>\n",
       "      <th>Eastern</th>\n",
       "      <td>54.070796</td>\n",
       "    </tr>\n",
       "    <tr>\n",
       "      <th>London</th>\n",
       "      <td>46.896552</td>\n",
       "    </tr>\n",
       "    <tr>\n",
       "      <th>North East</th>\n",
       "      <td>54.276786</td>\n",
       "    </tr>\n",
       "    <tr>\n",
       "      <th>North West</th>\n",
       "      <td>51.388158</td>\n",
       "    </tr>\n",
       "    <tr>\n",
       "      <th>Scotland</th>\n",
       "      <td>53.109948</td>\n",
       "    </tr>\n",
       "    <tr>\n",
       "      <th>South East</th>\n",
       "      <td>51.971631</td>\n",
       "    </tr>\n",
       "    <tr>\n",
       "      <th>South West</th>\n",
       "      <td>54.560241</td>\n",
       "    </tr>\n",
       "    <tr>\n",
       "      <th>Wales</th>\n",
       "      <td>51.269841</td>\n",
       "    </tr>\n",
       "    <tr>\n",
       "      <th>West Midlands</th>\n",
       "      <td>54.451327</td>\n",
       "    </tr>\n",
       "    <tr>\n",
       "      <th>Yorkshire &amp; Humber</th>\n",
       "      <td>53.152174</td>\n",
       "    </tr>\n",
       "  </tbody>\n",
       "</table>\n",
       "</div>"
      ],
      "text/plain": [
       "                          Age\n",
       "region                       \n",
       "East Midlands       54.903226\n",
       "Eastern             54.070796\n",
       "London              46.896552\n",
       "North East          54.276786\n",
       "North West          51.388158\n",
       "Scotland            53.109948\n",
       "South East          51.971631\n",
       "South West          54.560241\n",
       "Wales               51.269841\n",
       "West Midlands       54.451327\n",
       "Yorkshire & Humber  53.152174"
      ]
     },
     "execution_count": 32,
     "metadata": {},
     "output_type": "execute_result"
    }
   ],
   "source": [
    "df.groupby('region')[['Age']].mean() # List indexer returns a DataFrame of width 1."
   ]
  },
  {
   "cell_type": "markdown",
   "metadata": {
    "slideshow": {
     "slide_type": "subslide"
    }
   },
   "source": [
    "We can pass custom functions to the groupby object by using `apply`"
   ]
  },
  {
   "cell_type": "code",
   "execution_count": 35,
   "metadata": {
    "slideshow": {
     "slide_type": "subslide"
    }
   },
   "outputs": [
    {
     "data": {
      "text/plain": [
       "region              Constit_Code\n",
       "East Midlands       Ashfield        21-83\n",
       "                    Bassetlaw       23-93\n",
       "                    Bolsover        27-65\n",
       "                    Broxtowe        35-67\n",
       "                    Charnwood       36-80\n",
       "                                    ...  \n",
       "Yorkshire & Humber  Sheffield       19-71\n",
       "                    Sheffield,      22-90\n",
       "                    Skipton an      22-84\n",
       "                    York Centr      19-77\n",
       "                    York Outer      46-86\n",
       "Name: Age Range, Length: 218, dtype: object"
      ]
     },
     "execution_count": 35,
     "metadata": {},
     "output_type": "execute_result"
    }
   ],
   "source": [
    "df.groupby(['region', 'Constit_Code'])['Age'].apply(lambda x: f\"{int(x.m in())}-{int(x.max())}\").rename('Age Range')"
   ]
  },
  {
   "cell_type": "markdown",
   "metadata": {
    "slideshow": {
     "slide_type": "subslide"
    }
   },
   "source": [
    "We can pass multiple functions by using the `agg` function."
   ]
  },
  {
   "cell_type": "code",
   "execution_count": 36,
   "metadata": {
    "slideshow": {
     "slide_type": "subslide"
    }
   },
   "outputs": [
    {
     "data": {
      "text/html": [
       "<div>\n",
       "<style scoped>\n",
       "    .dataframe tbody tr th:only-of-type {\n",
       "        vertical-align: middle;\n",
       "    }\n",
       "\n",
       "    .dataframe tbody tr th {\n",
       "        vertical-align: top;\n",
       "    }\n",
       "\n",
       "    .dataframe thead tr th {\n",
       "        text-align: left;\n",
       "    }\n",
       "\n",
       "    .dataframe thead tr:last-of-type th {\n",
       "        text-align: right;\n",
       "    }\n",
       "</style>\n",
       "<table border=\"1\" class=\"dataframe\">\n",
       "  <thead>\n",
       "    <tr>\n",
       "      <th></th>\n",
       "      <th></th>\n",
       "      <th colspan=\"2\" halign=\"left\">Age</th>\n",
       "    </tr>\n",
       "    <tr>\n",
       "      <th></th>\n",
       "      <th></th>\n",
       "      <th>mean</th>\n",
       "      <th>len</th>\n",
       "    </tr>\n",
       "    <tr>\n",
       "      <th>region</th>\n",
       "      <th>Constit_Code</th>\n",
       "      <th></th>\n",
       "      <th></th>\n",
       "    </tr>\n",
       "  </thead>\n",
       "  <tbody>\n",
       "    <tr>\n",
       "      <th rowspan=\"5\" valign=\"top\">East Midlands</th>\n",
       "      <th>Ashfield</th>\n",
       "      <td>56.888889</td>\n",
       "      <td>9.0</td>\n",
       "    </tr>\n",
       "    <tr>\n",
       "      <th>Bassetlaw</th>\n",
       "      <td>46.000000</td>\n",
       "      <td>10.0</td>\n",
       "    </tr>\n",
       "    <tr>\n",
       "      <th>Bolsover</th>\n",
       "      <td>50.375000</td>\n",
       "      <td>8.0</td>\n",
       "    </tr>\n",
       "    <tr>\n",
       "      <th>Broxtowe</th>\n",
       "      <td>55.833333</td>\n",
       "      <td>6.0</td>\n",
       "    </tr>\n",
       "    <tr>\n",
       "      <th>Charnwood</th>\n",
       "      <td>60.818182</td>\n",
       "      <td>11.0</td>\n",
       "    </tr>\n",
       "    <tr>\n",
       "      <th>...</th>\n",
       "      <th>...</th>\n",
       "      <td>...</td>\n",
       "      <td>...</td>\n",
       "    </tr>\n",
       "    <tr>\n",
       "      <th rowspan=\"5\" valign=\"top\">Yorkshire &amp; Humber</th>\n",
       "      <th>Sheffield</th>\n",
       "      <td>44.000000</td>\n",
       "      <td>12.0</td>\n",
       "    </tr>\n",
       "    <tr>\n",
       "      <th>Sheffield,</th>\n",
       "      <td>55.038462</td>\n",
       "      <td>26.0</td>\n",
       "    </tr>\n",
       "    <tr>\n",
       "      <th>Skipton an</th>\n",
       "      <td>54.444444</td>\n",
       "      <td>9.0</td>\n",
       "    </tr>\n",
       "    <tr>\n",
       "      <th>York Centr</th>\n",
       "      <td>52.777778</td>\n",
       "      <td>9.0</td>\n",
       "    </tr>\n",
       "    <tr>\n",
       "      <th>York Outer</th>\n",
       "      <td>60.800000</td>\n",
       "      <td>10.0</td>\n",
       "    </tr>\n",
       "  </tbody>\n",
       "</table>\n",
       "<p>218 rows × 2 columns</p>\n",
       "</div>"
      ],
      "text/plain": [
       "                                       Age      \n",
       "                                      mean   len\n",
       "region             Constit_Code                 \n",
       "East Midlands      Ashfield      56.888889   9.0\n",
       "                   Bassetlaw     46.000000  10.0\n",
       "                   Bolsover      50.375000   8.0\n",
       "                   Broxtowe      55.833333   6.0\n",
       "                   Charnwood     60.818182  11.0\n",
       "...                                    ...   ...\n",
       "Yorkshire & Humber Sheffield     44.000000  12.0\n",
       "                   Sheffield,    55.038462  26.0\n",
       "                   Skipton an    54.444444   9.0\n",
       "                   York Centr    52.777778   9.0\n",
       "                   York Outer    60.800000  10.0\n",
       "\n",
       "[218 rows x 2 columns]"
      ]
     },
     "execution_count": 36,
     "metadata": {},
     "output_type": "execute_result"
    }
   ],
   "source": [
    "df.groupby(['region', 'Constit_Code'])[['Age']].agg([pd.np.mean, len]) "
   ]
  },
  {
   "cell_type": "markdown",
   "metadata": {
    "slideshow": {
     "slide_type": "subslide"
    }
   },
   "source": [
    "We can also apply a single function to multiple columns simultaneously:"
   ]
  },
  {
   "cell_type": "code",
   "execution_count": 37,
   "metadata": {
    "slideshow": {
     "slide_type": "subslide"
    }
   },
   "outputs": [
    {
     "data": {
      "text/html": [
       "<div>\n",
       "<style scoped>\n",
       "    .dataframe tbody tr th:only-of-type {\n",
       "        vertical-align: middle;\n",
       "    }\n",
       "\n",
       "    .dataframe tbody tr th {\n",
       "        vertical-align: top;\n",
       "    }\n",
       "\n",
       "    .dataframe thead th {\n",
       "        text-align: right;\n",
       "    }\n",
       "</style>\n",
       "<table border=\"1\" class=\"dataframe\">\n",
       "  <thead>\n",
       "    <tr style=\"text-align: right;\">\n",
       "      <th></th>\n",
       "      <th></th>\n",
       "      <th>k03</th>\n",
       "      <th>y06</th>\n",
       "      <th>y09</th>\n",
       "      <th>y11</th>\n",
       "    </tr>\n",
       "    <tr>\n",
       "      <th>region</th>\n",
       "      <th>Constit_Code</th>\n",
       "      <th></th>\n",
       "      <th></th>\n",
       "      <th></th>\n",
       "      <th></th>\n",
       "    </tr>\n",
       "  </thead>\n",
       "  <tbody>\n",
       "    <tr>\n",
       "      <th rowspan=\"5\" valign=\"top\">East Midlands</th>\n",
       "      <th>Ashfield</th>\n",
       "      <td>Mail</td>\n",
       "      <td>Christian - no denomination</td>\n",
       "      <td>Female</td>\n",
       "      <td>English/Welsh/Scottish/Northern Irish/British</td>\n",
       "    </tr>\n",
       "    <tr>\n",
       "      <th>Bassetlaw</th>\n",
       "      <td>Mirror/Record</td>\n",
       "      <td>No religion</td>\n",
       "      <td>Male</td>\n",
       "      <td>English/Welsh/Scottish/Northern Irish/British</td>\n",
       "    </tr>\n",
       "    <tr>\n",
       "      <th>Bolsover</th>\n",
       "      <td>Mail</td>\n",
       "      <td>No religion</td>\n",
       "      <td>Male</td>\n",
       "      <td>English/Welsh/Scottish/Northern Irish/British</td>\n",
       "    </tr>\n",
       "    <tr>\n",
       "      <th>Broxtowe</th>\n",
       "      <td>Guardian/Observer</td>\n",
       "      <td>No religion</td>\n",
       "      <td>Male</td>\n",
       "      <td>English/Welsh/Scottish/Northern Irish/British</td>\n",
       "    </tr>\n",
       "    <tr>\n",
       "      <th>Charnwood</th>\n",
       "      <td>Mail</td>\n",
       "      <td>Church of England/ Anglican/Episcopal</td>\n",
       "      <td>Male</td>\n",
       "      <td>English/Welsh/Scottish/Northern Irish/British</td>\n",
       "    </tr>\n",
       "    <tr>\n",
       "      <th>...</th>\n",
       "      <th>...</th>\n",
       "      <td>...</td>\n",
       "      <td>...</td>\n",
       "      <td>...</td>\n",
       "      <td>...</td>\n",
       "    </tr>\n",
       "    <tr>\n",
       "      <th rowspan=\"5\" valign=\"top\">Yorkshire &amp; Humber</th>\n",
       "      <th>Sheffield</th>\n",
       "      <td>Guardian/Observer</td>\n",
       "      <td>No religion</td>\n",
       "      <td>Female</td>\n",
       "      <td>English/Welsh/Scottish/Northern Irish/British</td>\n",
       "    </tr>\n",
       "    <tr>\n",
       "      <th>Sheffield,</th>\n",
       "      <td>Guardian/Observer</td>\n",
       "      <td>No religion</td>\n",
       "      <td>Female</td>\n",
       "      <td>English/Welsh/Scottish/Northern Irish/British</td>\n",
       "    </tr>\n",
       "    <tr>\n",
       "      <th>Skipton an</th>\n",
       "      <td>Mail</td>\n",
       "      <td>No religion</td>\n",
       "      <td>Female</td>\n",
       "      <td>English/Welsh/Scottish/Northern Irish/British</td>\n",
       "    </tr>\n",
       "    <tr>\n",
       "      <th>York Centr</th>\n",
       "      <td>Mail</td>\n",
       "      <td>No religion</td>\n",
       "      <td>Male</td>\n",
       "      <td>English/Welsh/Scottish/Northern Irish/British</td>\n",
       "    </tr>\n",
       "    <tr>\n",
       "      <th>York Outer</th>\n",
       "      <td>Guardian/Observer</td>\n",
       "      <td>No religion</td>\n",
       "      <td>Female</td>\n",
       "      <td>English/Welsh/Scottish/Northern Irish/British</td>\n",
       "    </tr>\n",
       "  </tbody>\n",
       "</table>\n",
       "<p>218 rows × 4 columns</p>\n",
       "</div>"
      ],
      "text/plain": [
       "0                                              k03  \\\n",
       "region             Constit_Code                      \n",
       "East Midlands      Ashfield                   Mail   \n",
       "                   Bassetlaw         Mirror/Record   \n",
       "                   Bolsover                   Mail   \n",
       "                   Broxtowe      Guardian/Observer   \n",
       "                   Charnwood                  Mail   \n",
       "...                                            ...   \n",
       "Yorkshire & Humber Sheffield     Guardian/Observer   \n",
       "                   Sheffield,    Guardian/Observer   \n",
       "                   Skipton an                 Mail   \n",
       "                   York Centr                 Mail   \n",
       "                   York Outer    Guardian/Observer   \n",
       "\n",
       "0                                                                  y06  \\\n",
       "region             Constit_Code                                          \n",
       "East Midlands      Ashfield                Christian - no denomination   \n",
       "                   Bassetlaw                               No religion   \n",
       "                   Bolsover                                No religion   \n",
       "                   Broxtowe                                No religion   \n",
       "                   Charnwood     Church of England/ Anglican/Episcopal   \n",
       "...                                                                ...   \n",
       "Yorkshire & Humber Sheffield                               No religion   \n",
       "                   Sheffield,                              No religion   \n",
       "                   Skipton an                              No religion   \n",
       "                   York Centr                              No religion   \n",
       "                   York Outer                              No religion   \n",
       "\n",
       "0                                   y09  \\\n",
       "region             Constit_Code           \n",
       "East Midlands      Ashfield      Female   \n",
       "                   Bassetlaw       Male   \n",
       "                   Bolsover        Male   \n",
       "                   Broxtowe        Male   \n",
       "                   Charnwood       Male   \n",
       "...                                 ...   \n",
       "Yorkshire & Humber Sheffield     Female   \n",
       "                   Sheffield,    Female   \n",
       "                   Skipton an    Female   \n",
       "                   York Centr      Male   \n",
       "                   York Outer    Female   \n",
       "\n",
       "0                                                                          y11  \n",
       "region             Constit_Code                                                 \n",
       "East Midlands      Ashfield      English/Welsh/Scottish/Northern Irish/British  \n",
       "                   Bassetlaw     English/Welsh/Scottish/Northern Irish/British  \n",
       "                   Bolsover      English/Welsh/Scottish/Northern Irish/British  \n",
       "                   Broxtowe      English/Welsh/Scottish/Northern Irish/British  \n",
       "                   Charnwood     English/Welsh/Scottish/Northern Irish/British  \n",
       "...                                                                        ...  \n",
       "Yorkshire & Humber Sheffield     English/Welsh/Scottish/Northern Irish/British  \n",
       "                   Sheffield,    English/Welsh/Scottish/Northern Irish/British  \n",
       "                   Skipton an    English/Welsh/Scottish/Northern Irish/British  \n",
       "                   York Centr    English/Welsh/Scottish/Northern Irish/British  \n",
       "                   York Outer    English/Welsh/Scottish/Northern Irish/British  \n",
       "\n",
       "[218 rows x 4 columns]"
      ]
     },
     "execution_count": 37,
     "metadata": {},
     "output_type": "execute_result"
    }
   ],
   "source": [
    "df.groupby(['region', 'Constit_Code'])[['k03', 'y06', 'y09', 'y11']].apply(lambda x: x.mode().iloc[0])"
   ]
  },
  {
   "cell_type": "markdown",
   "metadata": {
    "slideshow": {
     "slide_type": "subslide"
    }
   },
   "source": [
    "And finally, we can map different functions to different columns using the `agg()` function with a dictionary:"
   ]
  },
  {
   "cell_type": "code",
   "execution_count": 38,
   "metadata": {
    "slideshow": {
     "slide_type": "subslide"
    }
   },
   "outputs": [
    {
     "data": {
      "text/html": [
       "<div>\n",
       "<style scoped>\n",
       "    .dataframe tbody tr th:only-of-type {\n",
       "        vertical-align: middle;\n",
       "    }\n",
       "\n",
       "    .dataframe tbody tr th {\n",
       "        vertical-align: top;\n",
       "    }\n",
       "\n",
       "    .dataframe thead tr th {\n",
       "        text-align: left;\n",
       "    }\n",
       "\n",
       "    .dataframe thead tr:last-of-type th {\n",
       "        text-align: right;\n",
       "    }\n",
       "</style>\n",
       "<table border=\"1\" class=\"dataframe\">\n",
       "  <thead>\n",
       "    <tr>\n",
       "      <th></th>\n",
       "      <th></th>\n",
       "      <th>k03</th>\n",
       "      <th>y06</th>\n",
       "      <th>y09</th>\n",
       "      <th colspan=\"2\" halign=\"left\">Age</th>\n",
       "    </tr>\n",
       "    <tr>\n",
       "      <th></th>\n",
       "      <th></th>\n",
       "      <th>group_mode</th>\n",
       "      <th>group_mode</th>\n",
       "      <th>gender_proportion</th>\n",
       "      <th>min</th>\n",
       "      <th>max</th>\n",
       "    </tr>\n",
       "    <tr>\n",
       "      <th>region</th>\n",
       "      <th>Constit_Code</th>\n",
       "      <th></th>\n",
       "      <th></th>\n",
       "      <th></th>\n",
       "      <th></th>\n",
       "      <th></th>\n",
       "    </tr>\n",
       "  </thead>\n",
       "  <tbody>\n",
       "    <tr>\n",
       "      <th rowspan=\"5\" valign=\"top\">East Midlands</th>\n",
       "      <th>Ashfield</th>\n",
       "      <td>Mail</td>\n",
       "      <td>Christian - no denomination</td>\n",
       "      <td>0.555556</td>\n",
       "      <td>21.0</td>\n",
       "      <td>83.0</td>\n",
       "    </tr>\n",
       "    <tr>\n",
       "      <th>Bassetlaw</th>\n",
       "      <td>Mirror/Record</td>\n",
       "      <td>No religion</td>\n",
       "      <td>0.400000</td>\n",
       "      <td>23.0</td>\n",
       "      <td>93.0</td>\n",
       "    </tr>\n",
       "    <tr>\n",
       "      <th>Bolsover</th>\n",
       "      <td>Other</td>\n",
       "      <td>No religion</td>\n",
       "      <td>0.500000</td>\n",
       "      <td>27.0</td>\n",
       "      <td>65.0</td>\n",
       "    </tr>\n",
       "    <tr>\n",
       "      <th>Broxtowe</th>\n",
       "      <td>Guardian/Observer</td>\n",
       "      <td>No religion</td>\n",
       "      <td>0.500000</td>\n",
       "      <td>35.0</td>\n",
       "      <td>67.0</td>\n",
       "    </tr>\n",
       "    <tr>\n",
       "      <th>Charnwood</th>\n",
       "      <td>Mail</td>\n",
       "      <td>Church of England/ Anglican/Episcopal</td>\n",
       "      <td>0.454545</td>\n",
       "      <td>36.0</td>\n",
       "      <td>80.0</td>\n",
       "    </tr>\n",
       "    <tr>\n",
       "      <th>...</th>\n",
       "      <th>...</th>\n",
       "      <td>...</td>\n",
       "      <td>...</td>\n",
       "      <td>...</td>\n",
       "      <td>...</td>\n",
       "      <td>...</td>\n",
       "    </tr>\n",
       "    <tr>\n",
       "      <th rowspan=\"5\" valign=\"top\">Yorkshire &amp; Humber</th>\n",
       "      <th>Sheffield</th>\n",
       "      <td>Guardian/Observer</td>\n",
       "      <td>No religion</td>\n",
       "      <td>0.583333</td>\n",
       "      <td>19.0</td>\n",
       "      <td>71.0</td>\n",
       "    </tr>\n",
       "    <tr>\n",
       "      <th>Sheffield,</th>\n",
       "      <td>Guardian/Observer</td>\n",
       "      <td>No religion</td>\n",
       "      <td>0.538462</td>\n",
       "      <td>22.0</td>\n",
       "      <td>90.0</td>\n",
       "    </tr>\n",
       "    <tr>\n",
       "      <th>Skipton an</th>\n",
       "      <td>Mail</td>\n",
       "      <td>No religion</td>\n",
       "      <td>0.555556</td>\n",
       "      <td>22.0</td>\n",
       "      <td>84.0</td>\n",
       "    </tr>\n",
       "    <tr>\n",
       "      <th>York Centr</th>\n",
       "      <td>Other</td>\n",
       "      <td>No religion</td>\n",
       "      <td>0.444444</td>\n",
       "      <td>19.0</td>\n",
       "      <td>77.0</td>\n",
       "    </tr>\n",
       "    <tr>\n",
       "      <th>York Outer</th>\n",
       "      <td>Guardian/Observer</td>\n",
       "      <td>No religion</td>\n",
       "      <td>0.700000</td>\n",
       "      <td>46.0</td>\n",
       "      <td>86.0</td>\n",
       "    </tr>\n",
       "  </tbody>\n",
       "</table>\n",
       "<p>218 rows × 5 columns</p>\n",
       "</div>"
      ],
      "text/plain": [
       "                                               k03  \\\n",
       "                                        group_mode   \n",
       "region             Constit_Code                      \n",
       "East Midlands      Ashfield                   Mail   \n",
       "                   Bassetlaw         Mirror/Record   \n",
       "                   Bolsover                  Other   \n",
       "                   Broxtowe      Guardian/Observer   \n",
       "                   Charnwood                  Mail   \n",
       "...                                            ...   \n",
       "Yorkshire & Humber Sheffield     Guardian/Observer   \n",
       "                   Sheffield,    Guardian/Observer   \n",
       "                   Skipton an                 Mail   \n",
       "                   York Centr                Other   \n",
       "                   York Outer    Guardian/Observer   \n",
       "\n",
       "                                                                   y06  \\\n",
       "                                                            group_mode   \n",
       "region             Constit_Code                                          \n",
       "East Midlands      Ashfield                Christian - no denomination   \n",
       "                   Bassetlaw                               No religion   \n",
       "                   Bolsover                                No religion   \n",
       "                   Broxtowe                                No religion   \n",
       "                   Charnwood     Church of England/ Anglican/Episcopal   \n",
       "...                                                                ...   \n",
       "Yorkshire & Humber Sheffield                               No religion   \n",
       "                   Sheffield,                              No religion   \n",
       "                   Skipton an                              No religion   \n",
       "                   York Centr                              No religion   \n",
       "                   York Outer                              No religion   \n",
       "\n",
       "                                              y09   Age        \n",
       "                                gender_proportion   min   max  \n",
       "region             Constit_Code                                \n",
       "East Midlands      Ashfield              0.555556  21.0  83.0  \n",
       "                   Bassetlaw             0.400000  23.0  93.0  \n",
       "                   Bolsover              0.500000  27.0  65.0  \n",
       "                   Broxtowe              0.500000  35.0  67.0  \n",
       "                   Charnwood             0.454545  36.0  80.0  \n",
       "...                                           ...   ...   ...  \n",
       "Yorkshire & Humber Sheffield             0.583333  19.0  71.0  \n",
       "                   Sheffield,            0.538462  22.0  90.0  \n",
       "                   Skipton an            0.555556  22.0  84.0  \n",
       "                   York Centr            0.444444  19.0  77.0  \n",
       "                   York Outer            0.700000  46.0  86.0  \n",
       "\n",
       "[218 rows x 5 columns]"
      ]
     },
     "execution_count": 38,
     "metadata": {},
     "output_type": "execute_result"
    }
   ],
   "source": [
    "def group_mode(x):\n",
    "    \"Function for extracting first modal value from pandas groupby object\"\n",
    "    m = x.value_counts().index[0]\n",
    "    return m\n",
    "\n",
    "def gender_proportion(x):\n",
    "    m = x.apply(lambda e: 1 if e==\"Female\" else 0)\n",
    "    m = m.astype(int).mean()\n",
    "    return m\n",
    "\n",
    "df.groupby(['region', 'Constit_Code']).agg({'k03': group_mode,\n",
    "                                            'y06': group_mode,\n",
    "                                            'y09': gender_proportion,\n",
    "                                            'Age': [min, max]})"
   ]
  },
  {
   "cell_type": "markdown",
   "metadata": {
    "slideshow": {
     "slide_type": "subslide"
    }
   },
   "source": [
    "Note: to index the above DataFrame, you will need some fancy indexers, namely `pd.IndexSlice`.\n",
    "\n",
    "For more general notes, see: https://pandas.pydata.org/pandas-docs/stable/user_guide/advanced.html#advanced-indexing-with-hierarchical-index"
   ]
  },
  {
   "cell_type": "code",
   "execution_count": 40,
   "metadata": {
    "slideshow": {
     "slide_type": "subslide"
    }
   },
   "outputs": [
    {
     "data": {
      "text/html": [
       "<div>\n",
       "<style scoped>\n",
       "    .dataframe tbody tr th:only-of-type {\n",
       "        vertical-align: middle;\n",
       "    }\n",
       "\n",
       "    .dataframe tbody tr th {\n",
       "        vertical-align: top;\n",
       "    }\n",
       "\n",
       "    .dataframe thead tr th {\n",
       "        text-align: left;\n",
       "    }\n",
       "\n",
       "    .dataframe thead tr:last-of-type th {\n",
       "        text-align: right;\n",
       "    }\n",
       "</style>\n",
       "<table border=\"1\" class=\"dataframe\">\n",
       "  <thead>\n",
       "    <tr>\n",
       "      <th></th>\n",
       "      <th></th>\n",
       "      <th>k03</th>\n",
       "      <th>y06</th>\n",
       "      <th>y09</th>\n",
       "      <th colspan=\"2\" halign=\"left\">Age</th>\n",
       "    </tr>\n",
       "    <tr>\n",
       "      <th></th>\n",
       "      <th></th>\n",
       "      <th>group_mode</th>\n",
       "      <th>group_mode</th>\n",
       "      <th>gender_proportion</th>\n",
       "      <th>min</th>\n",
       "      <th>max</th>\n",
       "    </tr>\n",
       "    <tr>\n",
       "      <th>region</th>\n",
       "      <th>Constit_Code</th>\n",
       "      <th></th>\n",
       "      <th></th>\n",
       "      <th></th>\n",
       "      <th></th>\n",
       "      <th></th>\n",
       "    </tr>\n",
       "  </thead>\n",
       "  <tbody>\n",
       "    <tr>\n",
       "      <th rowspan=\"5\" valign=\"top\">East Midlands</th>\n",
       "      <th>Ashfield</th>\n",
       "      <td>Mail</td>\n",
       "      <td>Christian - no denomination</td>\n",
       "      <td>0.555556</td>\n",
       "      <td>21.0</td>\n",
       "      <td>83.0</td>\n",
       "    </tr>\n",
       "    <tr>\n",
       "      <th>Bassetlaw</th>\n",
       "      <td>Mirror/Record</td>\n",
       "      <td>No religion</td>\n",
       "      <td>0.400000</td>\n",
       "      <td>23.0</td>\n",
       "      <td>93.0</td>\n",
       "    </tr>\n",
       "    <tr>\n",
       "      <th>Bolsover</th>\n",
       "      <td>Other</td>\n",
       "      <td>No religion</td>\n",
       "      <td>0.500000</td>\n",
       "      <td>27.0</td>\n",
       "      <td>65.0</td>\n",
       "    </tr>\n",
       "    <tr>\n",
       "      <th>Broxtowe</th>\n",
       "      <td>Guardian/Observer</td>\n",
       "      <td>No religion</td>\n",
       "      <td>0.500000</td>\n",
       "      <td>35.0</td>\n",
       "      <td>67.0</td>\n",
       "    </tr>\n",
       "    <tr>\n",
       "      <th>Charnwood</th>\n",
       "      <td>Mail</td>\n",
       "      <td>Church of England/ Anglican/Episcopal</td>\n",
       "      <td>0.454545</td>\n",
       "      <td>36.0</td>\n",
       "      <td>80.0</td>\n",
       "    </tr>\n",
       "    <tr>\n",
       "      <th>...</th>\n",
       "      <th>...</th>\n",
       "      <td>...</td>\n",
       "      <td>...</td>\n",
       "      <td>...</td>\n",
       "      <td>...</td>\n",
       "      <td>...</td>\n",
       "    </tr>\n",
       "    <tr>\n",
       "      <th rowspan=\"5\" valign=\"top\">Yorkshire &amp; Humber</th>\n",
       "      <th>Sheffield</th>\n",
       "      <td>Guardian/Observer</td>\n",
       "      <td>No religion</td>\n",
       "      <td>0.583333</td>\n",
       "      <td>19.0</td>\n",
       "      <td>71.0</td>\n",
       "    </tr>\n",
       "    <tr>\n",
       "      <th>Sheffield,</th>\n",
       "      <td>Guardian/Observer</td>\n",
       "      <td>No religion</td>\n",
       "      <td>0.538462</td>\n",
       "      <td>22.0</td>\n",
       "      <td>90.0</td>\n",
       "    </tr>\n",
       "    <tr>\n",
       "      <th>Skipton an</th>\n",
       "      <td>Mail</td>\n",
       "      <td>No religion</td>\n",
       "      <td>0.555556</td>\n",
       "      <td>22.0</td>\n",
       "      <td>84.0</td>\n",
       "    </tr>\n",
       "    <tr>\n",
       "      <th>York Centr</th>\n",
       "      <td>Other</td>\n",
       "      <td>No religion</td>\n",
       "      <td>0.444444</td>\n",
       "      <td>19.0</td>\n",
       "      <td>77.0</td>\n",
       "    </tr>\n",
       "    <tr>\n",
       "      <th>York Outer</th>\n",
       "      <td>Guardian/Observer</td>\n",
       "      <td>No religion</td>\n",
       "      <td>0.700000</td>\n",
       "      <td>46.0</td>\n",
       "      <td>86.0</td>\n",
       "    </tr>\n",
       "  </tbody>\n",
       "</table>\n",
       "<p>218 rows × 5 columns</p>\n",
       "</div>"
      ],
      "text/plain": [
       "                                               k03  \\\n",
       "                                        group_mode   \n",
       "region             Constit_Code                      \n",
       "East Midlands      Ashfield                   Mail   \n",
       "                   Bassetlaw         Mirror/Record   \n",
       "                   Bolsover                  Other   \n",
       "                   Broxtowe      Guardian/Observer   \n",
       "                   Charnwood                  Mail   \n",
       "...                                            ...   \n",
       "Yorkshire & Humber Sheffield     Guardian/Observer   \n",
       "                   Sheffield,    Guardian/Observer   \n",
       "                   Skipton an                 Mail   \n",
       "                   York Centr                Other   \n",
       "                   York Outer    Guardian/Observer   \n",
       "\n",
       "                                                                   y06  \\\n",
       "                                                            group_mode   \n",
       "region             Constit_Code                                          \n",
       "East Midlands      Ashfield                Christian - no denomination   \n",
       "                   Bassetlaw                               No religion   \n",
       "                   Bolsover                                No religion   \n",
       "                   Broxtowe                                No religion   \n",
       "                   Charnwood     Church of England/ Anglican/Episcopal   \n",
       "...                                                                ...   \n",
       "Yorkshire & Humber Sheffield                               No religion   \n",
       "                   Sheffield,                              No religion   \n",
       "                   Skipton an                              No religion   \n",
       "                   York Centr                              No religion   \n",
       "                   York Outer                              No religion   \n",
       "\n",
       "                                              y09   Age        \n",
       "                                gender_proportion   min   max  \n",
       "region             Constit_Code                                \n",
       "East Midlands      Ashfield              0.555556  21.0  83.0  \n",
       "                   Bassetlaw             0.400000  23.0  93.0  \n",
       "                   Bolsover              0.500000  27.0  65.0  \n",
       "                   Broxtowe              0.500000  35.0  67.0  \n",
       "                   Charnwood             0.454545  36.0  80.0  \n",
       "...                                           ...   ...   ...  \n",
       "Yorkshire & Humber Sheffield             0.583333  19.0  71.0  \n",
       "                   Sheffield,            0.538462  22.0  90.0  \n",
       "                   Skipton an            0.555556  22.0  84.0  \n",
       "                   York Centr            0.444444  19.0  77.0  \n",
       "                   York Outer            0.700000  46.0  86.0  \n",
       "\n",
       "[218 rows x 5 columns]"
      ]
     },
     "execution_count": 40,
     "metadata": {},
     "output_type": "execute_result"
    }
   ],
   "source": [
    "temp = df.groupby(['region', 'Constit_Code']).agg({'k03': group_mode,\n",
    "                                                   'y06': group_mode,\n",
    "                                                   'y09': gender_proportion,\n",
    "                                                   'Age': ['min', 'max']})\n",
    "\n",
    "temp"
   ]
  },
  {
   "cell_type": "code",
   "execution_count": 42,
   "metadata": {
    "slideshow": {
     "slide_type": "subslide"
    }
   },
   "outputs": [
    {
     "data": {
      "text/html": [
       "<div>\n",
       "<style scoped>\n",
       "    .dataframe tbody tr th:only-of-type {\n",
       "        vertical-align: middle;\n",
       "    }\n",
       "\n",
       "    .dataframe tbody tr th {\n",
       "        vertical-align: top;\n",
       "    }\n",
       "\n",
       "    .dataframe thead tr th {\n",
       "        text-align: left;\n",
       "    }\n",
       "\n",
       "    .dataframe thead tr:last-of-type th {\n",
       "        text-align: right;\n",
       "    }\n",
       "</style>\n",
       "<table border=\"1\" class=\"dataframe\">\n",
       "  <thead>\n",
       "    <tr>\n",
       "      <th></th>\n",
       "      <th></th>\n",
       "      <th>k03</th>\n",
       "      <th>y06</th>\n",
       "    </tr>\n",
       "    <tr>\n",
       "      <th></th>\n",
       "      <th></th>\n",
       "      <th>group_mode</th>\n",
       "      <th>group_mode</th>\n",
       "    </tr>\n",
       "    <tr>\n",
       "      <th>region</th>\n",
       "      <th>Constit_Code</th>\n",
       "      <th></th>\n",
       "      <th></th>\n",
       "    </tr>\n",
       "  </thead>\n",
       "  <tbody>\n",
       "    <tr>\n",
       "      <th rowspan=\"16\" valign=\"top\">East Midlands</th>\n",
       "      <th>Ashfield</th>\n",
       "      <td>Mail</td>\n",
       "      <td>Christian - no denomination</td>\n",
       "    </tr>\n",
       "    <tr>\n",
       "      <th>Bassetlaw</th>\n",
       "      <td>Mirror/Record</td>\n",
       "      <td>No religion</td>\n",
       "    </tr>\n",
       "    <tr>\n",
       "      <th>Bolsover</th>\n",
       "      <td>Other</td>\n",
       "      <td>No religion</td>\n",
       "    </tr>\n",
       "    <tr>\n",
       "      <th>Broxtowe</th>\n",
       "      <td>Guardian/Observer</td>\n",
       "      <td>No religion</td>\n",
       "    </tr>\n",
       "    <tr>\n",
       "      <th>Charnwood</th>\n",
       "      <td>Mail</td>\n",
       "      <td>Church of England/ Anglican/Episcopal</td>\n",
       "    </tr>\n",
       "    <tr>\n",
       "      <th>Daventry</th>\n",
       "      <td>Mail</td>\n",
       "      <td>No religion</td>\n",
       "    </tr>\n",
       "    <tr>\n",
       "      <th>Derby Sout</th>\n",
       "      <td>Telegraph</td>\n",
       "      <td>No religion</td>\n",
       "    </tr>\n",
       "    <tr>\n",
       "      <th>Grantham a</th>\n",
       "      <td>Other</td>\n",
       "      <td>Church of England/ Anglican/Episcopal</td>\n",
       "    </tr>\n",
       "    <tr>\n",
       "      <th>Harborough</th>\n",
       "      <td>Mail</td>\n",
       "      <td>No religion</td>\n",
       "    </tr>\n",
       "    <tr>\n",
       "      <th>Lincoln</th>\n",
       "      <td>Other</td>\n",
       "      <td>No religion</td>\n",
       "    </tr>\n",
       "    <tr>\n",
       "      <th>Loughborou</th>\n",
       "      <td>Sun</td>\n",
       "      <td>No religion</td>\n",
       "    </tr>\n",
       "    <tr>\n",
       "      <th>Mansfield</th>\n",
       "      <td>Don't know</td>\n",
       "      <td>No religion</td>\n",
       "    </tr>\n",
       "    <tr>\n",
       "      <th>North East</th>\n",
       "      <td>Mail</td>\n",
       "      <td>No religion</td>\n",
       "    </tr>\n",
       "    <tr>\n",
       "      <th>Northampto</th>\n",
       "      <td>Guardian/Observer</td>\n",
       "      <td>No religion</td>\n",
       "    </tr>\n",
       "    <tr>\n",
       "      <th>Rutland an</th>\n",
       "      <td>Telegraph</td>\n",
       "      <td>No religion</td>\n",
       "    </tr>\n",
       "    <tr>\n",
       "      <th>Sleaford a</th>\n",
       "      <td>Other</td>\n",
       "      <td>No religion</td>\n",
       "    </tr>\n",
       "  </tbody>\n",
       "</table>\n",
       "</div>"
      ],
      "text/plain": [
       "                                          k03  \\\n",
       "                                   group_mode   \n",
       "region        Constit_Code                      \n",
       "East Midlands Ashfield                   Mail   \n",
       "              Bassetlaw         Mirror/Record   \n",
       "              Bolsover                  Other   \n",
       "              Broxtowe      Guardian/Observer   \n",
       "              Charnwood                  Mail   \n",
       "              Daventry                   Mail   \n",
       "              Derby Sout            Telegraph   \n",
       "              Grantham a                Other   \n",
       "              Harborough                 Mail   \n",
       "              Lincoln                   Other   \n",
       "              Loughborou                  Sun   \n",
       "              Mansfield            Don't know   \n",
       "              North East                 Mail   \n",
       "              Northampto    Guardian/Observer   \n",
       "              Rutland an            Telegraph   \n",
       "              Sleaford a                Other   \n",
       "\n",
       "                                                              y06  \n",
       "                                                       group_mode  \n",
       "region        Constit_Code                                         \n",
       "East Midlands Ashfield                Christian - no denomination  \n",
       "              Bassetlaw                               No religion  \n",
       "              Bolsover                                No religion  \n",
       "              Broxtowe                                No religion  \n",
       "              Charnwood     Church of England/ Anglican/Episcopal  \n",
       "              Daventry                                No religion  \n",
       "              Derby Sout                              No religion  \n",
       "              Grantham a    Church of England/ Anglican/Episcopal  \n",
       "              Harborough                              No religion  \n",
       "              Lincoln                                 No religion  \n",
       "              Loughborou                              No religion  \n",
       "              Mansfield                               No religion  \n",
       "              North East                              No religion  \n",
       "              Northampto                              No religion  \n",
       "              Rutland an                              No religion  \n",
       "              Sleaford a                              No religion  "
      ]
     },
     "execution_count": 42,
     "metadata": {},
     "output_type": "execute_result"
    }
   ],
   "source": [
    "idx = pd.IndexSlice \n",
    "temp.loc[idx['East Midlands', :], idx[:, 'group_mode']]"
   ]
  },
  {
   "cell_type": "markdown",
   "metadata": {
    "slideshow": {
     "slide_type": "subslide"
    }
   },
   "source": [
    "We can also use apply with a DataFrame. In this case, each row (axis=0) or column (axis=1) is treated as an element."
   ]
  },
  {
   "cell_type": "markdown",
   "metadata": {
    "slideshow": {
     "slide_type": "subslide"
    }
   },
   "source": [
    "# Combining Datasets\n",
    "\n",
    "We look at two commands in particular. For an in-depth explanation, see: https://pandas.pydata.org/pandas-docs/stable/user_guide/merging.html"
   ]
  },
  {
   "cell_type": "code",
   "execution_count": 44,
   "metadata": {
    "slideshow": {
     "slide_type": "subslide"
    }
   },
   "outputs": [],
   "source": [
    "df1 = df.loc[:, ['finalserialno', 'Age', 'y09']]\n",
    "df2 = df.loc[:, ['finalserialno', 'y06']]"
   ]
  },
  {
   "cell_type": "markdown",
   "metadata": {
    "slideshow": {
     "slide_type": "subslide"
    }
   },
   "source": [
    "## Using `pd.concat`"
   ]
  },
  {
   "cell_type": "code",
   "execution_count": 45,
   "metadata": {
    "slideshow": {
     "slide_type": "subslide"
    }
   },
   "outputs": [
    {
     "name": "stdout",
     "output_type": "stream",
     "text": [
      "(2194, 3)\n",
      "(2194, 2)\n",
      "(4388, 4)\n"
     ]
    },
    {
     "data": {
      "text/html": [
       "<div>\n",
       "<style scoped>\n",
       "    .dataframe tbody tr th:only-of-type {\n",
       "        vertical-align: middle;\n",
       "    }\n",
       "\n",
       "    .dataframe tbody tr th {\n",
       "        vertical-align: top;\n",
       "    }\n",
       "\n",
       "    .dataframe thead th {\n",
       "        text-align: right;\n",
       "    }\n",
       "</style>\n",
       "<table border=\"1\" class=\"dataframe\">\n",
       "  <thead>\n",
       "    <tr style=\"text-align: right;\">\n",
       "      <th></th>\n",
       "      <th>finalserialno</th>\n",
       "      <th>Age</th>\n",
       "      <th>y09</th>\n",
       "      <th>y06</th>\n",
       "    </tr>\n",
       "  </thead>\n",
       "  <tbody>\n",
       "    <tr>\n",
       "      <th>0</th>\n",
       "      <td>10115</td>\n",
       "      <td>21.0</td>\n",
       "      <td>Female</td>\n",
       "      <td>NaN</td>\n",
       "    </tr>\n",
       "    <tr>\n",
       "      <th>1</th>\n",
       "      <td>10119</td>\n",
       "      <td>53.0</td>\n",
       "      <td>Male</td>\n",
       "      <td>NaN</td>\n",
       "    </tr>\n",
       "    <tr>\n",
       "      <th>2</th>\n",
       "      <td>10125</td>\n",
       "      <td>56.0</td>\n",
       "      <td>Male</td>\n",
       "      <td>NaN</td>\n",
       "    </tr>\n",
       "    <tr>\n",
       "      <th>3</th>\n",
       "      <td>10215</td>\n",
       "      <td>65.0</td>\n",
       "      <td>Female</td>\n",
       "      <td>NaN</td>\n",
       "    </tr>\n",
       "    <tr>\n",
       "      <th>4</th>\n",
       "      <td>10216</td>\n",
       "      <td>68.0</td>\n",
       "      <td>Female</td>\n",
       "      <td>NaN</td>\n",
       "    </tr>\n",
       "    <tr>\n",
       "      <th>...</th>\n",
       "      <td>...</td>\n",
       "      <td>...</td>\n",
       "      <td>...</td>\n",
       "      <td>...</td>\n",
       "    </tr>\n",
       "    <tr>\n",
       "      <th>2189</th>\n",
       "      <td>69923</td>\n",
       "      <td>NaN</td>\n",
       "      <td>NaN</td>\n",
       "      <td>No religion</td>\n",
       "    </tr>\n",
       "    <tr>\n",
       "      <th>2190</th>\n",
       "      <td>69925</td>\n",
       "      <td>NaN</td>\n",
       "      <td>NaN</td>\n",
       "      <td>No religion</td>\n",
       "    </tr>\n",
       "    <tr>\n",
       "      <th>2191</th>\n",
       "      <td>70016</td>\n",
       "      <td>NaN</td>\n",
       "      <td>NaN</td>\n",
       "      <td>No religion</td>\n",
       "    </tr>\n",
       "    <tr>\n",
       "      <th>2192</th>\n",
       "      <td>70022</td>\n",
       "      <td>NaN</td>\n",
       "      <td>NaN</td>\n",
       "      <td>No religion</td>\n",
       "    </tr>\n",
       "    <tr>\n",
       "      <th>2193</th>\n",
       "      <td>70023</td>\n",
       "      <td>NaN</td>\n",
       "      <td>NaN</td>\n",
       "      <td>No religion</td>\n",
       "    </tr>\n",
       "  </tbody>\n",
       "</table>\n",
       "<p>4388 rows × 4 columns</p>\n",
       "</div>"
      ],
      "text/plain": [
       "      finalserialno   Age     y09          y06\n",
       "0             10115  21.0  Female          NaN\n",
       "1             10119  53.0    Male          NaN\n",
       "2             10125  56.0    Male          NaN\n",
       "3             10215  65.0  Female          NaN\n",
       "4             10216  68.0  Female          NaN\n",
       "...             ...   ...     ...          ...\n",
       "2189          69923   NaN     NaN  No religion\n",
       "2190          69925   NaN     NaN  No religion\n",
       "2191          70016   NaN     NaN  No religion\n",
       "2192          70022   NaN     NaN  No religion\n",
       "2193          70023   NaN     NaN  No religion\n",
       "\n",
       "[4388 rows x 4 columns]"
      ]
     },
     "execution_count": 45,
     "metadata": {},
     "output_type": "execute_result"
    }
   ],
   "source": [
    "print(df1.shape)\n",
    "print(df2.shape)\n",
    "print(pd.concat([df1, df2], axis=0, sort=False).shape)\n",
    "pd.concat([df1, df2], axis=0, sort=False)   "
   ]
  },
  {
   "cell_type": "code",
   "execution_count": 46,
   "metadata": {
    "slideshow": {
     "slide_type": "subslide"
    }
   },
   "outputs": [
    {
     "name": "stdout",
     "output_type": "stream",
     "text": [
      "(2194, 3)\n",
      "(2194, 2)\n",
      "(2194, 5)\n"
     ]
    },
    {
     "data": {
      "text/html": [
       "<div>\n",
       "<style scoped>\n",
       "    .dataframe tbody tr th:only-of-type {\n",
       "        vertical-align: middle;\n",
       "    }\n",
       "\n",
       "    .dataframe tbody tr th {\n",
       "        vertical-align: top;\n",
       "    }\n",
       "\n",
       "    .dataframe thead th {\n",
       "        text-align: right;\n",
       "    }\n",
       "</style>\n",
       "<table border=\"1\" class=\"dataframe\">\n",
       "  <thead>\n",
       "    <tr style=\"text-align: right;\">\n",
       "      <th></th>\n",
       "      <th>finalserialno</th>\n",
       "      <th>Age</th>\n",
       "      <th>y09</th>\n",
       "      <th>finalserialno</th>\n",
       "      <th>y06</th>\n",
       "    </tr>\n",
       "  </thead>\n",
       "  <tbody>\n",
       "    <tr>\n",
       "      <th>0</th>\n",
       "      <td>10115</td>\n",
       "      <td>21.0</td>\n",
       "      <td>Female</td>\n",
       "      <td>10115</td>\n",
       "      <td>No religion</td>\n",
       "    </tr>\n",
       "    <tr>\n",
       "      <th>1</th>\n",
       "      <td>10119</td>\n",
       "      <td>53.0</td>\n",
       "      <td>Male</td>\n",
       "      <td>10119</td>\n",
       "      <td>Islam/Muslim</td>\n",
       "    </tr>\n",
       "    <tr>\n",
       "      <th>2</th>\n",
       "      <td>10125</td>\n",
       "      <td>56.0</td>\n",
       "      <td>Male</td>\n",
       "      <td>10125</td>\n",
       "      <td>No religion</td>\n",
       "    </tr>\n",
       "    <tr>\n",
       "      <th>3</th>\n",
       "      <td>10215</td>\n",
       "      <td>65.0</td>\n",
       "      <td>Female</td>\n",
       "      <td>10215</td>\n",
       "      <td>Christian - no denomination</td>\n",
       "    </tr>\n",
       "    <tr>\n",
       "      <th>4</th>\n",
       "      <td>10216</td>\n",
       "      <td>68.0</td>\n",
       "      <td>Female</td>\n",
       "      <td>10216</td>\n",
       "      <td>Christian - no denomination</td>\n",
       "    </tr>\n",
       "    <tr>\n",
       "      <th>...</th>\n",
       "      <td>...</td>\n",
       "      <td>...</td>\n",
       "      <td>...</td>\n",
       "      <td>...</td>\n",
       "      <td>...</td>\n",
       "    </tr>\n",
       "    <tr>\n",
       "      <th>2189</th>\n",
       "      <td>69923</td>\n",
       "      <td>59.0</td>\n",
       "      <td>Female</td>\n",
       "      <td>69923</td>\n",
       "      <td>No religion</td>\n",
       "    </tr>\n",
       "    <tr>\n",
       "      <th>2190</th>\n",
       "      <td>69925</td>\n",
       "      <td>46.0</td>\n",
       "      <td>Female</td>\n",
       "      <td>69925</td>\n",
       "      <td>No religion</td>\n",
       "    </tr>\n",
       "    <tr>\n",
       "      <th>2191</th>\n",
       "      <td>70016</td>\n",
       "      <td>50.0</td>\n",
       "      <td>Female</td>\n",
       "      <td>70016</td>\n",
       "      <td>No religion</td>\n",
       "    </tr>\n",
       "    <tr>\n",
       "      <th>2192</th>\n",
       "      <td>70022</td>\n",
       "      <td>82.0</td>\n",
       "      <td>Female</td>\n",
       "      <td>70022</td>\n",
       "      <td>No religion</td>\n",
       "    </tr>\n",
       "    <tr>\n",
       "      <th>2193</th>\n",
       "      <td>70023</td>\n",
       "      <td>86.0</td>\n",
       "      <td>Male</td>\n",
       "      <td>70023</td>\n",
       "      <td>No religion</td>\n",
       "    </tr>\n",
       "  </tbody>\n",
       "</table>\n",
       "<p>2194 rows × 5 columns</p>\n",
       "</div>"
      ],
      "text/plain": [
       "      finalserialno   Age     y09  finalserialno                          y06\n",
       "0             10115  21.0  Female          10115                  No religion\n",
       "1             10119  53.0    Male          10119                 Islam/Muslim\n",
       "2             10125  56.0    Male          10125                  No religion\n",
       "3             10215  65.0  Female          10215  Christian - no denomination\n",
       "4             10216  68.0  Female          10216  Christian - no denomination\n",
       "...             ...   ...     ...            ...                          ...\n",
       "2189          69923  59.0  Female          69923                  No religion\n",
       "2190          69925  46.0  Female          69925                  No religion\n",
       "2191          70016  50.0  Female          70016                  No religion\n",
       "2192          70022  82.0  Female          70022                  No religion\n",
       "2193          70023  86.0    Male          70023                  No religion\n",
       "\n",
       "[2194 rows x 5 columns]"
      ]
     },
     "execution_count": 46,
     "metadata": {},
     "output_type": "execute_result"
    }
   ],
   "source": [
    "print(df1.shape)\n",
    "print(df2.shape)\n",
    "print(pd.concat([df1, df2], axis=1).shape)\n",
    "\n",
    "pd.concat([df1, df2], axis=1)"
   ]
  },
  {
   "cell_type": "code",
   "execution_count": 47,
   "metadata": {
    "slideshow": {
     "slide_type": "subslide"
    }
   },
   "outputs": [],
   "source": [
    "df3 = df.loc[:2130, ['finalserialno', 'a02']]"
   ]
  },
  {
   "cell_type": "code",
   "execution_count": 48,
   "metadata": {
    "slideshow": {
     "slide_type": "subslide"
    }
   },
   "outputs": [
    {
     "data": {
      "text/html": [
       "<div>\n",
       "<style scoped>\n",
       "    .dataframe tbody tr th:only-of-type {\n",
       "        vertical-align: middle;\n",
       "    }\n",
       "\n",
       "    .dataframe tbody tr th {\n",
       "        vertical-align: top;\n",
       "    }\n",
       "\n",
       "    .dataframe thead th {\n",
       "        text-align: right;\n",
       "    }\n",
       "</style>\n",
       "<table border=\"1\" class=\"dataframe\">\n",
       "  <thead>\n",
       "    <tr style=\"text-align: right;\">\n",
       "      <th></th>\n",
       "      <th>finalserialno</th>\n",
       "      <th>Age</th>\n",
       "      <th>y09</th>\n",
       "      <th>finalserialno</th>\n",
       "      <th>y06</th>\n",
       "      <th>finalserialno</th>\n",
       "      <th>a02</th>\n",
       "    </tr>\n",
       "  </thead>\n",
       "  <tbody>\n",
       "    <tr>\n",
       "      <th>0</th>\n",
       "      <td>10115</td>\n",
       "      <td>21.0</td>\n",
       "      <td>Female</td>\n",
       "      <td>10115</td>\n",
       "      <td>No religion</td>\n",
       "      <td>10115.0</td>\n",
       "      <td>Labour</td>\n",
       "    </tr>\n",
       "    <tr>\n",
       "      <th>1</th>\n",
       "      <td>10119</td>\n",
       "      <td>53.0</td>\n",
       "      <td>Male</td>\n",
       "      <td>10119</td>\n",
       "      <td>Islam/Muslim</td>\n",
       "      <td>10119.0</td>\n",
       "      <td>None/No party</td>\n",
       "    </tr>\n",
       "    <tr>\n",
       "      <th>2</th>\n",
       "      <td>10125</td>\n",
       "      <td>56.0</td>\n",
       "      <td>Male</td>\n",
       "      <td>10125</td>\n",
       "      <td>No religion</td>\n",
       "      <td>10125.0</td>\n",
       "      <td>Don`t know</td>\n",
       "    </tr>\n",
       "    <tr>\n",
       "      <th>3</th>\n",
       "      <td>10215</td>\n",
       "      <td>65.0</td>\n",
       "      <td>Female</td>\n",
       "      <td>10215</td>\n",
       "      <td>Christian - no denomination</td>\n",
       "      <td>10215.0</td>\n",
       "      <td>Don`t know</td>\n",
       "    </tr>\n",
       "    <tr>\n",
       "      <th>4</th>\n",
       "      <td>10216</td>\n",
       "      <td>68.0</td>\n",
       "      <td>Female</td>\n",
       "      <td>10216</td>\n",
       "      <td>Christian - no denomination</td>\n",
       "      <td>10216.0</td>\n",
       "      <td>Labour</td>\n",
       "    </tr>\n",
       "    <tr>\n",
       "      <th>...</th>\n",
       "      <td>...</td>\n",
       "      <td>...</td>\n",
       "      <td>...</td>\n",
       "      <td>...</td>\n",
       "      <td>...</td>\n",
       "      <td>...</td>\n",
       "      <td>...</td>\n",
       "    </tr>\n",
       "    <tr>\n",
       "      <th>2189</th>\n",
       "      <td>69923</td>\n",
       "      <td>59.0</td>\n",
       "      <td>Female</td>\n",
       "      <td>69923</td>\n",
       "      <td>No religion</td>\n",
       "      <td>NaN</td>\n",
       "      <td>NaN</td>\n",
       "    </tr>\n",
       "    <tr>\n",
       "      <th>2190</th>\n",
       "      <td>69925</td>\n",
       "      <td>46.0</td>\n",
       "      <td>Female</td>\n",
       "      <td>69925</td>\n",
       "      <td>No religion</td>\n",
       "      <td>NaN</td>\n",
       "      <td>NaN</td>\n",
       "    </tr>\n",
       "    <tr>\n",
       "      <th>2191</th>\n",
       "      <td>70016</td>\n",
       "      <td>50.0</td>\n",
       "      <td>Female</td>\n",
       "      <td>70016</td>\n",
       "      <td>No religion</td>\n",
       "      <td>NaN</td>\n",
       "      <td>NaN</td>\n",
       "    </tr>\n",
       "    <tr>\n",
       "      <th>2192</th>\n",
       "      <td>70022</td>\n",
       "      <td>82.0</td>\n",
       "      <td>Female</td>\n",
       "      <td>70022</td>\n",
       "      <td>No religion</td>\n",
       "      <td>NaN</td>\n",
       "      <td>NaN</td>\n",
       "    </tr>\n",
       "    <tr>\n",
       "      <th>2193</th>\n",
       "      <td>70023</td>\n",
       "      <td>86.0</td>\n",
       "      <td>Male</td>\n",
       "      <td>70023</td>\n",
       "      <td>No religion</td>\n",
       "      <td>NaN</td>\n",
       "      <td>NaN</td>\n",
       "    </tr>\n",
       "  </tbody>\n",
       "</table>\n",
       "<p>2194 rows × 7 columns</p>\n",
       "</div>"
      ],
      "text/plain": [
       "      finalserialno   Age     y09  finalserialno                          y06  \\\n",
       "0             10115  21.0  Female          10115                  No religion   \n",
       "1             10119  53.0    Male          10119                 Islam/Muslim   \n",
       "2             10125  56.0    Male          10125                  No religion   \n",
       "3             10215  65.0  Female          10215  Christian - no denomination   \n",
       "4             10216  68.0  Female          10216  Christian - no denomination   \n",
       "...             ...   ...     ...            ...                          ...   \n",
       "2189          69923  59.0  Female          69923                  No religion   \n",
       "2190          69925  46.0  Female          69925                  No religion   \n",
       "2191          70016  50.0  Female          70016                  No religion   \n",
       "2192          70022  82.0  Female          70022                  No religion   \n",
       "2193          70023  86.0    Male          70023                  No religion   \n",
       "\n",
       "      finalserialno            a02  \n",
       "0           10115.0         Labour  \n",
       "1           10119.0  None/No party  \n",
       "2           10125.0     Don`t know  \n",
       "3           10215.0     Don`t know  \n",
       "4           10216.0         Labour  \n",
       "...             ...            ...  \n",
       "2189            NaN            NaN  \n",
       "2190            NaN            NaN  \n",
       "2191            NaN            NaN  \n",
       "2192            NaN            NaN  \n",
       "2193            NaN            NaN  \n",
       "\n",
       "[2194 rows x 7 columns]"
      ]
     },
     "execution_count": 48,
     "metadata": {},
     "output_type": "execute_result"
    }
   ],
   "source": [
    "pd.concat([df1, df2, df3], axis=1)"
   ]
  },
  {
   "cell_type": "markdown",
   "metadata": {
    "slideshow": {
     "slide_type": "subslide"
    }
   },
   "source": [
    "## `pd.merge`"
   ]
  },
  {
   "cell_type": "code",
   "execution_count": 49,
   "metadata": {
    "slideshow": {
     "slide_type": "subslide"
    }
   },
   "outputs": [
    {
     "data": {
      "text/html": [
       "<div>\n",
       "<style scoped>\n",
       "    .dataframe tbody tr th:only-of-type {\n",
       "        vertical-align: middle;\n",
       "    }\n",
       "\n",
       "    .dataframe tbody tr th {\n",
       "        vertical-align: top;\n",
       "    }\n",
       "\n",
       "    .dataframe thead th {\n",
       "        text-align: right;\n",
       "    }\n",
       "</style>\n",
       "<table border=\"1\" class=\"dataframe\">\n",
       "  <thead>\n",
       "    <tr style=\"text-align: right;\">\n",
       "      <th></th>\n",
       "      <th>finalserialno</th>\n",
       "      <th>Age</th>\n",
       "      <th>y09</th>\n",
       "      <th>y06</th>\n",
       "    </tr>\n",
       "  </thead>\n",
       "  <tbody>\n",
       "    <tr>\n",
       "      <th>0</th>\n",
       "      <td>10115</td>\n",
       "      <td>21.0</td>\n",
       "      <td>Female</td>\n",
       "      <td>No religion</td>\n",
       "    </tr>\n",
       "    <tr>\n",
       "      <th>1</th>\n",
       "      <td>10119</td>\n",
       "      <td>53.0</td>\n",
       "      <td>Male</td>\n",
       "      <td>Islam/Muslim</td>\n",
       "    </tr>\n",
       "    <tr>\n",
       "      <th>2</th>\n",
       "      <td>10125</td>\n",
       "      <td>56.0</td>\n",
       "      <td>Male</td>\n",
       "      <td>No religion</td>\n",
       "    </tr>\n",
       "    <tr>\n",
       "      <th>3</th>\n",
       "      <td>10215</td>\n",
       "      <td>65.0</td>\n",
       "      <td>Female</td>\n",
       "      <td>Christian - no denomination</td>\n",
       "    </tr>\n",
       "    <tr>\n",
       "      <th>4</th>\n",
       "      <td>10216</td>\n",
       "      <td>68.0</td>\n",
       "      <td>Female</td>\n",
       "      <td>Christian - no denomination</td>\n",
       "    </tr>\n",
       "    <tr>\n",
       "      <th>...</th>\n",
       "      <td>...</td>\n",
       "      <td>...</td>\n",
       "      <td>...</td>\n",
       "      <td>...</td>\n",
       "    </tr>\n",
       "    <tr>\n",
       "      <th>2189</th>\n",
       "      <td>69923</td>\n",
       "      <td>59.0</td>\n",
       "      <td>Female</td>\n",
       "      <td>No religion</td>\n",
       "    </tr>\n",
       "    <tr>\n",
       "      <th>2190</th>\n",
       "      <td>69925</td>\n",
       "      <td>46.0</td>\n",
       "      <td>Female</td>\n",
       "      <td>No religion</td>\n",
       "    </tr>\n",
       "    <tr>\n",
       "      <th>2191</th>\n",
       "      <td>70016</td>\n",
       "      <td>50.0</td>\n",
       "      <td>Female</td>\n",
       "      <td>No religion</td>\n",
       "    </tr>\n",
       "    <tr>\n",
       "      <th>2192</th>\n",
       "      <td>70022</td>\n",
       "      <td>82.0</td>\n",
       "      <td>Female</td>\n",
       "      <td>No religion</td>\n",
       "    </tr>\n",
       "    <tr>\n",
       "      <th>2193</th>\n",
       "      <td>70023</td>\n",
       "      <td>86.0</td>\n",
       "      <td>Male</td>\n",
       "      <td>No religion</td>\n",
       "    </tr>\n",
       "  </tbody>\n",
       "</table>\n",
       "<p>2194 rows × 4 columns</p>\n",
       "</div>"
      ],
      "text/plain": [
       "      finalserialno   Age     y09                          y06\n",
       "0             10115  21.0  Female                  No religion\n",
       "1             10119  53.0    Male                 Islam/Muslim\n",
       "2             10125  56.0    Male                  No religion\n",
       "3             10215  65.0  Female  Christian - no denomination\n",
       "4             10216  68.0  Female  Christian - no denomination\n",
       "...             ...   ...     ...                          ...\n",
       "2189          69923  59.0  Female                  No religion\n",
       "2190          69925  46.0  Female                  No religion\n",
       "2191          70016  50.0  Female                  No religion\n",
       "2192          70022  82.0  Female                  No religion\n",
       "2193          70023  86.0    Male                  No religion\n",
       "\n",
       "[2194 rows x 4 columns]"
      ]
     },
     "execution_count": 49,
     "metadata": {},
     "output_type": "execute_result"
    }
   ],
   "source": [
    "pd.merge(df1, df2, on=\"finalserialno\")"
   ]
  },
  {
   "cell_type": "code",
   "execution_count": 50,
   "metadata": {
    "slideshow": {
     "slide_type": "subslide"
    }
   },
   "outputs": [],
   "source": [
    "df4 = df.loc[30:, ['finalserialno', 'y11']]"
   ]
  },
  {
   "cell_type": "code",
   "execution_count": 51,
   "metadata": {
    "slideshow": {
     "slide_type": "subslide"
    }
   },
   "outputs": [
    {
     "name": "stdout",
     "output_type": "stream",
     "text": [
      "RangeIndex(start=0, stop=2131, step=1)\n",
      "RangeIndex(start=30, stop=2194, step=1)\n",
      "(2101, 3)\n",
      "(2131, 3)\n",
      "(2164, 3)\n",
      "(2194, 3)\n"
     ]
    }
   ],
   "source": [
    "print(df3.index)\n",
    "print(df4.index)\n",
    "for join in ['inner', 'left', 'right', 'outer']:\n",
    "    print(pd.merge(df3, df4, how=join, on=\"finalserialno\").shape)"
   ]
  },
  {
   "cell_type": "code",
   "execution_count": 52,
   "metadata": {
    "slideshow": {
     "slide_type": "subslide"
    }
   },
   "outputs": [
    {
     "data": {
      "text/html": [
       "<div>\n",
       "<style scoped>\n",
       "    .dataframe tbody tr th:only-of-type {\n",
       "        vertical-align: middle;\n",
       "    }\n",
       "\n",
       "    .dataframe tbody tr th {\n",
       "        vertical-align: top;\n",
       "    }\n",
       "\n",
       "    .dataframe thead th {\n",
       "        text-align: right;\n",
       "    }\n",
       "</style>\n",
       "<table border=\"1\" class=\"dataframe\">\n",
       "  <thead>\n",
       "    <tr style=\"text-align: right;\">\n",
       "      <th></th>\n",
       "      <th>y11</th>\n",
       "    </tr>\n",
       "    <tr>\n",
       "      <th>serialno</th>\n",
       "      <th></th>\n",
       "    </tr>\n",
       "  </thead>\n",
       "  <tbody>\n",
       "    <tr>\n",
       "      <th>10817</th>\n",
       "      <td>English/Welsh/Scottish/Northern Irish/British</td>\n",
       "    </tr>\n",
       "    <tr>\n",
       "      <th>10821</th>\n",
       "      <td>English/Welsh/Scottish/Northern Irish/British</td>\n",
       "    </tr>\n",
       "    <tr>\n",
       "      <th>10823</th>\n",
       "      <td>English/Welsh/Scottish/Northern Irish/British</td>\n",
       "    </tr>\n",
       "    <tr>\n",
       "      <th>10916</th>\n",
       "      <td>English/Welsh/Scottish/Northern Irish/British</td>\n",
       "    </tr>\n",
       "    <tr>\n",
       "      <th>10917</th>\n",
       "      <td>English/Welsh/Scottish/Northern Irish/British</td>\n",
       "    </tr>\n",
       "    <tr>\n",
       "      <th>...</th>\n",
       "      <td>...</td>\n",
       "    </tr>\n",
       "    <tr>\n",
       "      <th>69923</th>\n",
       "      <td>English/Welsh/Scottish/Northern Irish/British</td>\n",
       "    </tr>\n",
       "    <tr>\n",
       "      <th>69925</th>\n",
       "      <td>English/Welsh/Scottish/Northern Irish/British</td>\n",
       "    </tr>\n",
       "    <tr>\n",
       "      <th>70016</th>\n",
       "      <td>English/Welsh/Scottish/Northern Irish/British</td>\n",
       "    </tr>\n",
       "    <tr>\n",
       "      <th>70022</th>\n",
       "      <td>English/Welsh/Scottish/Northern Irish/British</td>\n",
       "    </tr>\n",
       "    <tr>\n",
       "      <th>70023</th>\n",
       "      <td>English/Welsh/Scottish/Northern Irish/British</td>\n",
       "    </tr>\n",
       "  </tbody>\n",
       "</table>\n",
       "<p>2164 rows × 1 columns</p>\n",
       "</div>"
      ],
      "text/plain": [
       "                                                    y11\n",
       "serialno                                               \n",
       "10817     English/Welsh/Scottish/Northern Irish/British\n",
       "10821     English/Welsh/Scottish/Northern Irish/British\n",
       "10823     English/Welsh/Scottish/Northern Irish/British\n",
       "10916     English/Welsh/Scottish/Northern Irish/British\n",
       "10917     English/Welsh/Scottish/Northern Irish/British\n",
       "...                                                 ...\n",
       "69923     English/Welsh/Scottish/Northern Irish/British\n",
       "69925     English/Welsh/Scottish/Northern Irish/British\n",
       "70016     English/Welsh/Scottish/Northern Irish/British\n",
       "70022     English/Welsh/Scottish/Northern Irish/British\n",
       "70023     English/Welsh/Scottish/Northern Irish/British\n",
       "\n",
       "[2164 rows x 1 columns]"
      ]
     },
     "execution_count": 52,
     "metadata": {},
     "output_type": "execute_result"
    }
   ],
   "source": [
    "df4 = df4.rename({'finalserialno':'serialno'}, axis=1).set_index('serialno')\n",
    "df4"
   ]
  },
  {
   "cell_type": "code",
   "execution_count": 53,
   "metadata": {
    "slideshow": {
     "slide_type": "subslide"
    }
   },
   "outputs": [
    {
     "data": {
      "text/html": [
       "<div>\n",
       "<style scoped>\n",
       "    .dataframe tbody tr th:only-of-type {\n",
       "        vertical-align: middle;\n",
       "    }\n",
       "\n",
       "    .dataframe tbody tr th {\n",
       "        vertical-align: top;\n",
       "    }\n",
       "\n",
       "    .dataframe thead th {\n",
       "        text-align: right;\n",
       "    }\n",
       "</style>\n",
       "<table border=\"1\" class=\"dataframe\">\n",
       "  <thead>\n",
       "    <tr style=\"text-align: right;\">\n",
       "      <th></th>\n",
       "      <th>finalserialno</th>\n",
       "      <th>a02</th>\n",
       "      <th>y11</th>\n",
       "    </tr>\n",
       "  </thead>\n",
       "  <tbody>\n",
       "    <tr>\n",
       "      <th>0.0</th>\n",
       "      <td>10115</td>\n",
       "      <td>Labour</td>\n",
       "      <td>NaN</td>\n",
       "    </tr>\n",
       "    <tr>\n",
       "      <th>1.0</th>\n",
       "      <td>10119</td>\n",
       "      <td>None/No party</td>\n",
       "      <td>NaN</td>\n",
       "    </tr>\n",
       "    <tr>\n",
       "      <th>2.0</th>\n",
       "      <td>10125</td>\n",
       "      <td>Don`t know</td>\n",
       "      <td>NaN</td>\n",
       "    </tr>\n",
       "    <tr>\n",
       "      <th>3.0</th>\n",
       "      <td>10215</td>\n",
       "      <td>Don`t know</td>\n",
       "      <td>NaN</td>\n",
       "    </tr>\n",
       "    <tr>\n",
       "      <th>4.0</th>\n",
       "      <td>10216</td>\n",
       "      <td>Labour</td>\n",
       "      <td>NaN</td>\n",
       "    </tr>\n",
       "    <tr>\n",
       "      <th>...</th>\n",
       "      <td>...</td>\n",
       "      <td>...</td>\n",
       "      <td>...</td>\n",
       "    </tr>\n",
       "    <tr>\n",
       "      <th>NaN</th>\n",
       "      <td>69923</td>\n",
       "      <td>NaN</td>\n",
       "      <td>English/Welsh/Scottish/Northern Irish/British</td>\n",
       "    </tr>\n",
       "    <tr>\n",
       "      <th>NaN</th>\n",
       "      <td>69925</td>\n",
       "      <td>NaN</td>\n",
       "      <td>English/Welsh/Scottish/Northern Irish/British</td>\n",
       "    </tr>\n",
       "    <tr>\n",
       "      <th>NaN</th>\n",
       "      <td>70016</td>\n",
       "      <td>NaN</td>\n",
       "      <td>English/Welsh/Scottish/Northern Irish/British</td>\n",
       "    </tr>\n",
       "    <tr>\n",
       "      <th>NaN</th>\n",
       "      <td>70022</td>\n",
       "      <td>NaN</td>\n",
       "      <td>English/Welsh/Scottish/Northern Irish/British</td>\n",
       "    </tr>\n",
       "    <tr>\n",
       "      <th>NaN</th>\n",
       "      <td>70023</td>\n",
       "      <td>NaN</td>\n",
       "      <td>English/Welsh/Scottish/Northern Irish/British</td>\n",
       "    </tr>\n",
       "  </tbody>\n",
       "</table>\n",
       "<p>2194 rows × 3 columns</p>\n",
       "</div>"
      ],
      "text/plain": [
       "     finalserialno            a02  \\\n",
       "0.0          10115         Labour   \n",
       "1.0          10119  None/No party   \n",
       "2.0          10125     Don`t know   \n",
       "3.0          10215     Don`t know   \n",
       "4.0          10216         Labour   \n",
       "..             ...            ...   \n",
       "NaN          69923            NaN   \n",
       "NaN          69925            NaN   \n",
       "NaN          70016            NaN   \n",
       "NaN          70022            NaN   \n",
       "NaN          70023            NaN   \n",
       "\n",
       "                                               y11  \n",
       "0.0                                            NaN  \n",
       "1.0                                            NaN  \n",
       "2.0                                            NaN  \n",
       "3.0                                            NaN  \n",
       "4.0                                            NaN  \n",
       "..                                             ...  \n",
       "NaN  English/Welsh/Scottish/Northern Irish/British  \n",
       "NaN  English/Welsh/Scottish/Northern Irish/British  \n",
       "NaN  English/Welsh/Scottish/Northern Irish/British  \n",
       "NaN  English/Welsh/Scottish/Northern Irish/British  \n",
       "NaN  English/Welsh/Scottish/Northern Irish/British  \n",
       "\n",
       "[2194 rows x 3 columns]"
      ]
     },
     "execution_count": 53,
     "metadata": {},
     "output_type": "execute_result"
    }
   ],
   "source": [
    "pd.merge(df3, df4, how=\"outer\", left_on=\"finalserialno\", right_index=True)"
   ]
  },
  {
   "cell_type": "markdown",
   "metadata": {
    "slideshow": {
     "slide_type": "subslide"
    }
   },
   "source": [
    "# Melting and Pivoting"
   ]
  },
  {
   "cell_type": "code",
   "execution_count": null,
   "metadata": {
    "slideshow": {
     "slide_type": "subslide"
    }
   },
   "outputs": [],
   "source": [
    "long_df = pd.DataFrame({\n",
    "    \"Constituency\": ['Oxford West', 'Oxford East']*4,\n",
    "    \"Year\": [2010, 2010, 2015, 2015, 2017, 2017, 2019, 2019],\n",
    "    \"Party\": [\"Labour\", \"Tory\"]*2+[\"Labour\", \"LibDem\"]*2\n",
    "})\n",
    "\n",
    "long_df"
   ]
  },
  {
   "cell_type": "code",
   "execution_count": null,
   "metadata": {
    "slideshow": {
     "slide_type": "subslide"
    }
   },
   "outputs": [],
   "source": [
    "wide_df = long_df.pivot(index=\"Constituency\", columns=\"Year\", values=\"Party\")\n",
    "wide_df"
   ]
  },
  {
   "cell_type": "code",
   "execution_count": null,
   "metadata": {
    "slideshow": {
     "slide_type": "subslide"
    }
   },
   "outputs": [],
   "source": [
    "wide_df.reset_index().melt(id_vars=\"Constituency\", value_vars=[2010, 2015, 2017, 2019], var_name=\"Year\")"
   ]
  }
 ],
 "metadata": {
  "kernelspec": {
   "display_name": "teaching",
   "language": "python",
   "name": "teaching"
  },
  "language_info": {
   "codemirror_mode": {
    "name": "ipython",
    "version": 3
   },
   "file_extension": ".py",
   "mimetype": "text/x-python",
   "name": "python",
   "nbconvert_exporter": "python",
   "pygments_lexer": "ipython3",
   "version": "3.7.6"
  }
 },
 "nbformat": 4,
 "nbformat_minor": 4
}
