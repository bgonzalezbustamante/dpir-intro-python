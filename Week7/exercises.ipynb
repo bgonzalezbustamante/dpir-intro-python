{
 "cells": [
  {
   "cell_type": "markdown",
   "metadata": {},
   "source": [
    "# Week 7 Coding Exercises\n",
    "\n",
    "This week we learned three main skills:\n",
    "\n",
    "- Regular Expressions\n",
    "- Pulling Webpages\n",
    "- Scraping Webpages\n",
    "\n",
    "I want you to go further with the code we started developing in the coding tutorial.\n",
    "\n",
    "By the end of the tutorial, we had code to get all of the books, along with their price, rating, and a link to their dedicated page.\n",
    "\n",
    "My next challenge for you is to do the following\n",
    "\n",
    "1. On each of the dedicated pages, there is a description of the book. Write code that will scrape the description for each book and add it as a column on the product_info dataframe.\n",
    "2. Currently, this scraper can only access the first page of results. Modify the scraper so that it iterates through pages. (Hint: There is a link close to the bottom of each page, but the title will be different each time (page-3, page-4, etc.). You will need to work in a solution that finds the link each time, or automatically increments the page at each iteration."
   ]
  },
  {
   "cell_type": "code",
   "execution_count": null,
   "metadata": {},
   "outputs": [],
   "source": [
    "import requests\n",
    "import pandas as pd\n",
    "import re\n",
    "from bs4 import BeautifulSoup\n",
    "\n",
    "url = \"http://books.toscrape.com\"\n",
    "session = requests.Session()\n",
    "page = session.get(url)\n",
    "\n",
    "soup = BeautifulSoup(page.text, 'html.parser')\n",
    "product_pods = soup.find_all('article', class_=\"product_pod\")\n",
    "\n",
    "def get_product_info(product_pod):\n",
    "    # Title can be accessed from img alt\n",
    "    image_elem = product_pod.div.a.img\n",
    "    title = image_elem['alt']\n",
    "    # Rating can be accessed from class (css) on star-rating\n",
    "    rating_elem = product_pod.find('p', class_=re.compile(r\"star-rating .*\"))\n",
    "    rating = rating_elem['class'][1]+\"/Five\" # Second class attribute\n",
    "    price_elem = product_pod.find('div', class_=\"product_price\")\n",
    "    price = re.search(re.compile(\"[0-9\\.]+\"), price_elem.text)[0]\n",
    "    link = product_pod.find('a', href=True)['href']\n",
    "    return title, rating, price, link\n",
    "\n",
    "product_info = []\n",
    "for pod in product_pods:\n",
    "    product_info.append(get_product_info(pod))\n",
    "\n",
    "product_info = pd.DataFrame(product_info, columns=[\"Title\", \"Rating\", \"Price\", 'Link'])\n",
    "product_info.loc[:, 'Link'] = product_info['Link'].apply(lambda x: url+\"/\"+x)"
   ]
  },
  {
   "cell_type": "markdown",
   "metadata": {},
   "source": [
    "Regex Bonus Challenge:\n",
    "\n",
    "Full disclaimer: I wasn't able to figure out a solution to this, but I thought you might enjoy the challenge.\n",
    "\n",
    "Given the lyrics in the box below, find a way to match the full phrase after each \"million\".\n",
    "\n",
    "Therefore you should get back the matches:\n",
    "\n",
    "```\n",
    "['bags of the best Sligo rags',\n",
    " 'barrels of stone',\n",
    " 'sides of old blind horses hides',\n",
    " 'barrels of bones',\n",
    " 'hogs',\n",
    " 'dogs',\n",
    " 'barrels of porter',\n",
    " 'bails of old nanny goats']\n",
    " ```\n",
    "\n",
    "\n",
    "The closest I was able to come was: `million ([\\w ]+)`, but this matches the `and seven million dogs`, which I want separately."
   ]
  },
  {
   "cell_type": "code",
   "execution_count": null,
   "metadata": {},
   "outputs": [],
   "source": [
    "lyrics = \"\"\"\n",
    "On the Fourth of July, 1806\n",
    "We set sail from the sweet Cove of Cork\n",
    "We were sailing away with a cargo of bricks\n",
    "For the Grand City Hall in New York\n",
    "'Twas a wonderful craft, she was rigged fore and aft\n",
    "And oh, how the wild wind drove her\n",
    "She stood several blasts, she had twenty seven masts\n",
    "And they called her The Irish Rover\n",
    "We had one million bags of the best Sligo rags\n",
    "We had two million barrels of stone\n",
    "We had three million sides of old blind horses hides\n",
    "We had four million barrels of bones\n",
    "We had five million hogs and six million dogs\n",
    "Seven million barrels of porter\n",
    "We had eight million bails of old nanny goats' tails\n",
    "In the hold of the Irish Rover\n",
    "\"\"\"\n",
    "\n",
    "r = re.compile(r\"million ([\\w ]+)\") # This solution doesn't work\n",
    "\n",
    "re.findall(r, lyrics)"
   ]
  }
 ],
 "metadata": {
  "kernelspec": {
   "display_name": "teaching",
   "language": "python",
   "name": "teaching"
  },
  "language_info": {
   "codemirror_mode": {
    "name": "ipython",
    "version": 3
   },
   "file_extension": ".py",
   "mimetype": "text/x-python",
   "name": "python",
   "nbconvert_exporter": "python",
   "pygments_lexer": "ipython3",
   "version": "3.7.6"
  }
 },
 "nbformat": 4,
 "nbformat_minor": 4
}
