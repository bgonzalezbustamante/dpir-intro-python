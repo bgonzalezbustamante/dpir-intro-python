{
 "cells": [
  {
   "cell_type": "markdown",
   "metadata": {},
   "source": [
    "# Week 2 Lecture Exercises\n",
    "\n",
    "We'll be working with the BES 2017 face-to-face cross-sectional survey extensively in this course.\n",
    "\n",
    "- You can download a zip folder containing the data from the website: https://muhark.github.io/dpir-intro-python/Week2/data/data_week2.zip\n",
    "- For these exercises, you can either use `bes_data_full_week2` or `bes_data_subset_week2`.\n",
    "- I've included the codebook (`BES-2017-F2F-codebook.pdf`). You'll need this to interpret the columns."
   ]
  },
  {
   "cell_type": "markdown",
   "metadata": {},
   "source": [
    "### Step 0: Read in the Data\n",
    "\n",
    "Download the data, import pandas, and read the data in to the IPython session. Feel free to name it something like `df`, that's what I always do."
   ]
  },
  {
   "cell_type": "code",
   "execution_count": null,
   "metadata": {},
   "outputs": [],
   "source": []
  },
  {
   "cell_type": "markdown",
   "metadata": {},
   "source": [
    "## Exercise 1: First Look at the Data\n",
    "\n",
    "_Answer the following questions about the dataset_:\n",
    "\n",
    "- How many observations in the dataset?\n",
    "- How many variables?\n",
    "- How many variables contain numeric values?\n",
    "- How many variables are open-ended response?\n",
    "- How many categorical variables?"
   ]
  },
  {
   "cell_type": "code",
   "execution_count": null,
   "metadata": {},
   "outputs": [],
   "source": []
  },
  {
   "cell_type": "markdown",
   "metadata": {},
   "source": [
    "# Exercise 2: Clean Up Labels\n",
    "\n",
    "_It's annoying to have to always refer to the codebook. Choose a few sections from the survey (i.e. questions a, questions b, etc.) and give the columns short, meaningful titles._\n",
    "\n",
    "For instance, `a01` asks \"First, I'd like to ask you a few questions about the issues and problems facing Britain today. As far as you're concerned, what is the single most important issue facing the country at the present time?\". I might rename this question `most_important_issue`, or even `top_issue`.\n",
    "\n",
    "Another example: `y01` could be renamed `income` or `annual_income`.\n",
    "\n",
    "To keep your code neat, I recommend that you first create a dictionary called something like `col_name_dict`, put the original and replacements in there, and then use the `df.rename()` function to substitute the column names.\n"
   ]
  },
  {
   "cell_type": "code",
   "execution_count": null,
   "metadata": {},
   "outputs": [],
   "source": []
  },
  {
   "cell_type": "markdown",
   "metadata": {},
   "source": [
    "## Exercise 3: Cursory Statistics\n",
    "\n",
    "There are a few things you can calculate fairly easily. For instance:\n",
    "\n",
    "- How many responses per region? per constituency?\n",
    "- (If using section y:) Modal income bracket? Modal religion? Mean/median age?\n",
    "\n",
    "Here you want to be creative. What questions would you ask of your data? What would a reviewer or a client be likely to want to know?"
   ]
  },
  {
   "cell_type": "code",
   "execution_count": null,
   "metadata": {},
   "outputs": [],
   "source": []
  }
 ],
 "metadata": {
  "kernelspec": {
   "display_name": "teaching",
   "language": "python",
   "name": "teaching"
  },
  "language_info": {
   "codemirror_mode": {
    "name": "ipython",
    "version": 3
   },
   "file_extension": ".py",
   "mimetype": "text/x-python",
   "name": "python",
   "nbconvert_exporter": "python",
   "pygments_lexer": "ipython3",
   "version": "3.7.6"
  }
 },
 "nbformat": 4,
 "nbformat_minor": 4
}
