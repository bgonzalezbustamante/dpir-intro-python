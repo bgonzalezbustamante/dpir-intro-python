{
 "cells": [
  {
   "cell_type": "markdown",
   "metadata": {},
   "source": [
    "# `pandas` part 1\n",
    "\n",
    "This week we learn about the following five areas of pandas:\n",
    "\n",
    "- Data I/O\n",
    "- Understanding the `DataFrame` and `Series`\n",
    "- Indexing and Slicing\n",
    "- First look at the data\n",
    "- Summary functions"
   ]
  },
  {
   "cell_type": "markdown",
   "metadata": {},
   "source": [
    "## Importing Libraries\n",
    "\n",
    "In python, we use the `import` statement to \"load\" code from other libraries. This is similar to the `library()` function in `R`.\n",
    "\n",
    "Note we can also use `import library as lib` to rename the imported library. Although it makes for less typing, I recommend sticking to widely accepted abbreviations."
   ]
  },
  {
   "cell_type": "code",
   "execution_count": 1,
   "metadata": {},
   "outputs": [
    {
     "data": {
      "text/plain": [
       "'0.25.3'"
      ]
     },
     "execution_count": 1,
     "metadata": {},
     "output_type": "execute_result"
    }
   ],
   "source": [
    "import pandas as pd\n",
    "\n",
    "pd.__version__ # you can check the version of any library with this command\n",
    "               # if you get anything older than 0.25.0, try updating pandas with: conda update pandas"
   ]
  },
  {
   "cell_type": "markdown",
   "metadata": {},
   "source": [
    "# Reading in Data\n",
    "\n",
    "For this lecture we use the BES data. Relevant data files can be downloaded here:\n"
   ]
  }
 ],
 "metadata": {
  "kernelspec": {
   "display_name": "teaching",
   "language": "python",
   "name": "teaching"
  },
  "language_info": {
   "codemirror_mode": {
    "name": "ipython",
    "version": 3
   },
   "file_extension": ".py",
   "mimetype": "text/x-python",
   "name": "python",
   "nbconvert_exporter": "python",
   "pygments_lexer": "ipython3",
   "version": "3.7.5"
  }
 },
 "nbformat": 4,
 "nbformat_minor": 2
}
