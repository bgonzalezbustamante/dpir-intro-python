{
 "cells": [
  {
   "cell_type": "code",
   "execution_count": 1,
   "metadata": {},
   "outputs": [
    {
     "name": "stdout",
     "output_type": "stream",
     "text": [
      "This is my first line of code!\n"
     ]
    }
   ],
   "source": [
    "print(\"This is my first line of code!\")"
   ]
  },
  {
   "cell_type": "markdown",
   "metadata": {
    "slideshow": {
     "slide_type": "slide"
    }
   },
   "source": [
    "What's going on here? Let's break it down:\n",
    "\n",
    "```{python}\n",
    "print(\"This is my first line of code!\")\n",
    "^---^^                                ^\n",
    "```\n",
    "\n",
    "This is the _print function_. It prints whatever argument it is given to the console. We know it is a function because it has brackets."
   ]
  },
  {
   "cell_type": "markdown",
   "metadata": {
    "slideshow": {
     "slide_type": "slide"
    }
   },
   "source": [
    "\n",
    "```{python}\n",
    "print(\"This is my first line of code!\")\n",
    "      ^------------------------------^\n",
    "```\n",
    "\n",
    "This is the input to the function. There is only one argument for this function, so there are no commas. This is what the print function prints to the console."
   ]
  },
  {
   "cell_type": "markdown",
   "metadata": {
    "slideshow": {
     "slide_type": "slide"
    }
   },
   "source": [
    "```{python}\n",
    "print(\"This is my first line of code!\")\n",
    "      ^                              ^\n",
    "```\n",
    "\n",
    "The double quotes are used to create a _string_. We can also use single quotes, but if we don't use any quotes let's see what happens."
   ]
  },
  {
   "cell_type": "code",
   "execution_count": 2,
   "metadata": {},
   "outputs": [
    {
     "ename": "SyntaxError",
     "evalue": "invalid syntax (<ipython-input-2-b7b7eec6ca2f>, line 1)",
     "output_type": "error",
     "traceback": [
      "\u001b[0;36m  File \u001b[0;32m\"<ipython-input-2-b7b7eec6ca2f>\"\u001b[0;36m, line \u001b[0;32m1\u001b[0m\n\u001b[0;31m    print(This is my first line of code!)\u001b[0m\n\u001b[0m                         ^\u001b[0m\n\u001b[0;31mSyntaxError\u001b[0m\u001b[0;31m:\u001b[0m invalid syntax\n"
     ]
    }
   ],
   "source": [
    "print(This is my first line of code!)"
   ]
  },
  {
   "cell_type": "markdown",
   "metadata": {
    "slideshow": {
     "slide_type": "slide"
    }
   },
   "source": [
    "We get a syntax error! (Indicated by `SyntaxError`).\n",
    "\n",
    "Python tries to read the line of code, and understands:\n",
    "\n",
    "```{python}\n",
    "print(This is my first line of code!)\n",
    "^---^^                              ^\n",
    "```\n",
    "function\n",
    "```\n",
    "print(This is my first line of code!)\n",
    "      ^--^ is ^^\n",
    "```\n",
    "query: object **this** is object **my** --> Syntactically correct, but will throw NameError\n",
    "```\n",
    "print(This is my first line of code!)\n",
    "                 ^^^^^\n",
    "```\n",
    "?????\n"
   ]
  },
  {
   "cell_type": "code",
   "execution_count": null,
   "metadata": {},
   "outputs": [],
   "source": []
  }
 ],
 "metadata": {
  "kernelspec": {
   "display_name": "teaching",
   "language": "python",
   "name": "teaching"
  },
  "language_info": {
   "codemirror_mode": {
    "name": "ipython",
    "version": 3
   },
   "file_extension": ".py",
   "mimetype": "text/x-python",
   "name": "python",
   "nbconvert_exporter": "python",
   "pygments_lexer": "ipython3",
   "version": "3.7.5"
  }
 },
 "nbformat": 4,
 "nbformat_minor": 2
}
